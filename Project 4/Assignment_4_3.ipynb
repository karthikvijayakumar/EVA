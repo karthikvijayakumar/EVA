{
  "nbformat": 4,
  "nbformat_minor": 0,
  "metadata": {
    "colab": {
      "name": "Assignment 4_3.ipynb",
      "version": "0.3.2",
      "provenance": [],
      "collapsed_sections": [],
      "include_colab_link": true
    },
    "kernelspec": {
      "name": "python3",
      "display_name": "Python 3"
    },
    "accelerator": "GPU"
  },
  "cells": [
    {
      "cell_type": "markdown",
      "metadata": {
        "id": "view-in-github",
        "colab_type": "text"
      },
      "source": [
        "<a href=\"https://colab.research.google.com/github/karthikvijayakumar/EVA/blob/vijkar_development/Project%204/Assignment_4_3.ipynb\" target=\"_parent\"><img src=\"https://colab.research.google.com/assets/colab-badge.svg\" alt=\"Open In Colab\"/></a>"
      ]
    },
    {
      "cell_type": "markdown",
      "metadata": {
        "id": "P_2WfbCKIxPd",
        "colab_type": "text"
      },
      "source": [
        "# Third iteration\n",
        "\n",
        "In this iteration we focus on decreasing overfitting to improve the validation accuracy. We implement the following 2 changes:\n",
        "\n",
        "1. Batch normalization\n",
        "2. Dropout\n",
        "\n",
        "Adding batch normalization slightly increasing the number of params from 7,778 to 8,154 ( about +300 ). However the number of trainable parameters increases to only 7966 ( +200 ). The validation accuracy in this iteration increases to 99.31% which is close to the target 99.4%. We also see that the gap between the training and the validation accuracy decreases in this iteration. This means the measures put in to decrease overfitting are effective.\n",
        "\n",
        "### Why only these 2 changes?\n",
        "\n",
        "In the previous 2 iterations we observed that while the training accuracy was well over 99% the validation accuracy lagged behind barely getting to 99%. This is a clear case of overfitting. Also during the training process in many epochs, often even though training loss decreased the validation loss increased. While this isnt necessarily diretly indicative of overfitting, it does share some symptoms with the same. We want to put in basic features to cull overfitting before adding other things like LR scheduler, changing batch size, tweaking the optimizer etc.\n",
        "\n",
        "\n",
        "### High level stats:\n",
        "\n",
        "Total number of params: 8,154\n",
        "<br>Total number of trainable params: 7,966\n",
        "<br>Validation accuracy: 99.31%\n",
        "<br>Training accuracy: 99.58%\n"
      ]
    },
    {
      "cell_type": "markdown",
      "metadata": {
        "id": "aNyZv-Ec52ot",
        "colab_type": "text"
      },
      "source": [
        "# **Import Libraries and modules**"
      ]
    },
    {
      "cell_type": "code",
      "metadata": {
        "id": "3m3w1Cw49Zkt",
        "colab_type": "code",
        "outputId": "46bb0d6b-dfbf-4704-eb63-a4dca20a06e9",
        "colab": {
          "base_uri": "https://localhost:8080/",
          "height": 34
        }
      },
      "source": [
        "# https://keras.io/\n",
        "!pip install -q keras\n",
        "import keras"
      ],
      "execution_count": 1,
      "outputs": [
        {
          "output_type": "stream",
          "text": [
            "Using TensorFlow backend.\n"
          ],
          "name": "stderr"
        }
      ]
    },
    {
      "cell_type": "markdown",
      "metadata": {
        "id": "W8TuvCMEI5bz",
        "colab_type": "text"
      },
      "source": [
        "Installing Keras and importing into current runtime environment"
      ]
    },
    {
      "cell_type": "code",
      "metadata": {
        "id": "Eso6UHE080D4",
        "colab_type": "code",
        "colab": {}
      },
      "source": [
        "import numpy as np\n",
        "\n",
        "from keras.models import Sequential\n",
        "from keras.layers import Dense, Dropout, Activation, Flatten, Add\n",
        "from keras.layers import Convolution2D, MaxPooling2D\n",
        "from keras.utils import np_utils\n",
        "\n",
        "from keras.datasets import mnist"
      ],
      "execution_count": 0,
      "outputs": []
    },
    {
      "cell_type": "markdown",
      "metadata": {
        "id": "Y0u5KVe7JBFn",
        "colab_type": "text"
      },
      "source": [
        "Importing libraries and functions required for the program"
      ]
    },
    {
      "cell_type": "markdown",
      "metadata": {
        "id": "zByEi95J86RD",
        "colab_type": "text"
      },
      "source": [
        "### Load pre-shuffled MNIST data into train and test sets"
      ]
    },
    {
      "cell_type": "code",
      "metadata": {
        "id": "7eRM0QWN83PV",
        "colab_type": "code",
        "colab": {}
      },
      "source": [
        "(X_train, y_train), (X_test, y_test) = mnist.load_data()"
      ],
      "execution_count": 0,
      "outputs": []
    },
    {
      "cell_type": "markdown",
      "metadata": {
        "id": "iGsh_aQ1J3OS",
        "colab_type": "text"
      },
      "source": [
        "Loading the MNIST dataset. Note that this dataset comes with a ready made train and test set."
      ]
    },
    {
      "cell_type": "code",
      "metadata": {
        "id": "4a4Be72j8-ZC",
        "colab_type": "code",
        "outputId": "714f2866-824e-48a2-f1ec-ce198b34761c",
        "colab": {
          "base_uri": "https://localhost:8080/",
          "height": 302
        }
      },
      "source": [
        "print (X_train.shape)\n",
        "from matplotlib import pyplot as plt\n",
        "%matplotlib inline\n",
        "plt.imshow(X_train[0])"
      ],
      "execution_count": 4,
      "outputs": [
        {
          "output_type": "stream",
          "text": [
            "(60000, 28, 28)\n"
          ],
          "name": "stdout"
        },
        {
          "output_type": "execute_result",
          "data": {
            "text/plain": [
              "<matplotlib.image.AxesImage at 0x7fcedfd15d68>"
            ]
          },
          "metadata": {
            "tags": []
          },
          "execution_count": 4
        },
        {
          "output_type": "display_data",
          "data": {
            "image/png": "[encoded data removed]",
            "text/plain": [
              "<Figure size 432x288 with 1 Axes>"
            ]
          },
          "metadata": {
            "tags": []
          }
        }
      ]
    },
    {
      "cell_type": "markdown",
      "metadata": {
        "id": "vlxccYctJ_be",
        "colab_type": "text"
      },
      "source": [
        "Visualizing the first training image"
      ]
    },
    {
      "cell_type": "code",
      "metadata": {
        "id": "dkmprriw9AnZ",
        "colab_type": "code",
        "colab": {}
      },
      "source": [
        "X_train = X_train.reshape(X_train.shape[0], 28, 28,1)\n",
        "X_test = X_test.reshape(X_test.shape[0], 28, 28,1)"
      ],
      "execution_count": 0,
      "outputs": []
    },
    {
      "cell_type": "markdown",
      "metadata": {
        "id": "l-vkWkDfKDDC",
        "colab_type": "text"
      },
      "source": [
        "Reshaping images from 28x28 to 28x28x1. This change needs to be done since convolution expects a 3 dimensional matrix."
      ]
    },
    {
      "cell_type": "code",
      "metadata": {
        "id": "X2m4YS4E9CRh",
        "colab_type": "code",
        "colab": {}
      },
      "source": [
        "X_train = X_train.astype('float32')\n",
        "X_test = X_test.astype('float32')\n",
        "X_train /= 255\n",
        "X_test /= 255"
      ],
      "execution_count": 0,
      "outputs": []
    },
    {
      "cell_type": "markdown",
      "metadata": {
        "id": "1Q_oAEhuKOqU",
        "colab_type": "text"
      },
      "source": [
        "Bringing the values of pixels to 0-255"
      ]
    },
    {
      "cell_type": "code",
      "metadata": {
        "id": "0Mn0vAYD9DvB",
        "colab_type": "code",
        "outputId": "312317aa-4d22-4208-ea86-840e285e0fc8",
        "colab": {
          "base_uri": "https://localhost:8080/",
          "height": 34
        }
      },
      "source": [
        "y_train[:10]"
      ],
      "execution_count": 7,
      "outputs": [
        {
          "output_type": "execute_result",
          "data": {
            "text/plain": [
              "array([5, 0, 4, 1, 9, 2, 1, 3, 1, 4], dtype=uint8)"
            ]
          },
          "metadata": {
            "tags": []
          },
          "execution_count": 7
        }
      ]
    },
    {
      "cell_type": "markdown",
      "metadata": {
        "id": "jlCvUDE1KT9P",
        "colab_type": "text"
      },
      "source": [
        "Checking out the first ten labels on the training set. Note that these are numbers at this point. More importantly these numbers have an ordinality amongst them"
      ]
    },
    {
      "cell_type": "code",
      "metadata": {
        "id": "ZG8JiXR39FHC",
        "colab_type": "code",
        "colab": {}
      },
      "source": [
        "# Convert 1-dimensional class arrays to 10-dimensional class matrices\n",
        "Y_train = np_utils.to_categorical(y_train, 10)\n",
        "Y_test = np_utils.to_categorical(y_test, 10)"
      ],
      "execution_count": 0,
      "outputs": []
    },
    {
      "cell_type": "markdown",
      "metadata": {
        "id": "L29eBlgYPcRo",
        "colab_type": "text"
      },
      "source": [
        "Converting the numerical labels to categorical values. This is important since the classes 0-9 are just different classes and have no inherent order amongst them ( i.e 7 is not a lesser class than 8 in any way with respect to digit classification )"
      ]
    },
    {
      "cell_type": "code",
      "metadata": {
        "id": "fYlFRvKS9HMB",
        "colab_type": "code",
        "outputId": "47598edb-3f27-4daf-d3f1-72f33f1acfda",
        "colab": {
          "base_uri": "https://localhost:8080/",
          "height": 185
        }
      },
      "source": [
        "Y_train[:10]"
      ],
      "execution_count": 9,
      "outputs": [
        {
          "output_type": "execute_result",
          "data": {
            "text/plain": [
              "array([[0., 0., 0., 0., 0., 1., 0., 0., 0., 0.],\n",
              "       [1., 0., 0., 0., 0., 0., 0., 0., 0., 0.],\n",
              "       [0., 0., 0., 0., 1., 0., 0., 0., 0., 0.],\n",
              "       [0., 1., 0., 0., 0., 0., 0., 0., 0., 0.],\n",
              "       [0., 0., 0., 0., 0., 0., 0., 0., 0., 1.],\n",
              "       [0., 0., 1., 0., 0., 0., 0., 0., 0., 0.],\n",
              "       [0., 1., 0., 0., 0., 0., 0., 0., 0., 0.],\n",
              "       [0., 0., 0., 1., 0., 0., 0., 0., 0., 0.],\n",
              "       [0., 1., 0., 0., 0., 0., 0., 0., 0., 0.],\n",
              "       [0., 0., 0., 0., 1., 0., 0., 0., 0., 0.]], dtype=float32)"
            ]
          },
          "metadata": {
            "tags": []
          },
          "execution_count": 9
        }
      ]
    },
    {
      "cell_type": "markdown",
      "metadata": {
        "id": "bJOar7DqPurN",
        "colab_type": "text"
      },
      "source": [
        "Seeing the categorical representation of the labels for the first ten training images"
      ]
    },
    {
      "cell_type": "code",
      "metadata": {
        "id": "osKqT73Q9JJB",
        "colab_type": "code",
        "outputId": "5cba8522-11b8-4d0c-a095-5bfa77db9212",
        "colab": {
          "base_uri": "https://localhost:8080/",
          "height": 138
        }
      },
      "source": [
        "from keras.layers import Activation, BatchNormalization, Dropout\n",
        "dropout_rate = 0.1\n",
        "\n",
        "\n",
        "model = Sequential()\n",
        "\n",
        "# Convolution block \n",
        "model.add(Convolution2D(10, (3, 3), activation='relu', input_shape=(28,28,1))) #3x3x1x10 kernel - 26x26x10 image - Receptive Field 3x3\n",
        "model.add(BatchNormalization())\n",
        "model.add(Dropout(dropout_rate))\n",
        "model.add(Convolution2D(16, (3, 3), activation='relu')) # 3x3x10x16 kernel - 24x24x16 image - Receptive Field 5x5\n",
        "model.add(BatchNormalization())\n",
        "model.add(Dropout(dropout_rate))\n",
        "\n",
        "# Transition block\n",
        "model.add(MaxPooling2D(pool_size=(2, 2))) # Max pooling layer - 12x12x16 image - Receptive Field 10x10\n",
        "model.add(Convolution2D(10, (1,1), activation='relu')) # 1x1x16x8 kernel - 12x12x8 image - Receptive Field 10x10\n",
        "model.add(BatchNormalization())\n",
        "model.add(Dropout(dropout_rate))\n",
        "\n",
        "#Convolution block\n",
        "model.add(Convolution2D(16, (3, 3), activation='relu')) # 3x3x8x16 kernel - 10x10x16 image - Receptive Field 12x12\n",
        "model.add(BatchNormalization())\n",
        "model.add(Dropout(dropout_rate))\n",
        "model.add(Convolution2D(16, (3, 3), activation='relu')) # 3x3x16x16 kernel - 8x8x16 image - Receptive Field 14x14\n",
        "model.add(BatchNormalization())\n",
        "model.add(Dropout(dropout_rate))\n",
        "\n",
        "# Transition block\n",
        "model.add(MaxPooling2D(pool_size=(2, 2))) # Max pooling layer - 4x4x16 image - Receptive Field 28x28\n",
        "model.add(Convolution2D(10, (1,1), activation='relu')) # 1x1x16x8 kernel - 4x4x10 image - Receptive Field 28x28\n",
        "model.add(BatchNormalization())\n",
        "model.add(Dropout(dropout_rate))\n",
        "\n",
        "#Convolution block\n",
        "model.add(Convolution2D(16, (3, 3), activation='relu')) # 3x3x16x16 kernel - 2x2x16 image - Receptive Field 28x28\n",
        "model.add(BatchNormalization())\n",
        "model.add(Dropout(dropout_rate))\n",
        "\n",
        "model.add(Convolution2D(10, (2, 2))) # 2x2x16x10 kernel - 1x1x10 image\n",
        "\n",
        "model.add(Flatten())\n",
        "model.add(Activation('softmax'))"
      ],
      "execution_count": 10,
      "outputs": [
        {
          "output_type": "stream",
          "text": [
            "WARNING:tensorflow:From /usr/local/lib/python3.6/dist-packages/tensorflow/python/framework/op_def_library.py:263: colocate_with (from tensorflow.python.framework.ops) is deprecated and will be removed in a future version.\n",
            "Instructions for updating:\n",
            "Colocations handled automatically by placer.\n",
            "WARNING:tensorflow:From /usr/local/lib/python3.6/dist-packages/keras/backend/tensorflow_backend.py:3445: calling dropout (from tensorflow.python.ops.nn_ops) with keep_prob is deprecated and will be removed in a future version.\n",
            "Instructions for updating:\n",
            "Please use `rate` instead of `keep_prob`. Rate should be set to `rate = 1 - keep_prob`.\n"
          ],
          "name": "stdout"
        }
      ]
    },
    {
      "cell_type": "markdown",
      "metadata": {
        "id": "P3TZOpxxQlVy",
        "colab_type": "text"
      },
      "source": [
        "Added batch normalization and dropout after every convolution layer except the last. In the last layer dropout doesnt make sense since all the outputs are required for classification. Also the softmax performs the function of batch normalization, hence further normalization is not only not required but would also be detrimental."
      ]
    },
    {
      "cell_type": "code",
      "metadata": {
        "id": "TzdAYg1k9K7Z",
        "colab_type": "code",
        "outputId": "8f87c6e5-0dd9-4fe8-988d-9ae825dccfed",
        "colab": {
          "base_uri": "https://localhost:8080/",
          "height": 1008
        }
      },
      "source": [
        "model.summary()"
      ],
      "execution_count": 11,
      "outputs": [
        {
          "output_type": "stream",
          "text": [
            "_________________________________________________________________\n",
            "Layer (type)                 Output Shape              Param #   \n",
            "=================================================================\n",
            "conv2d_1 (Conv2D)            (None, 26, 26, 10)        100       \n",
            "_________________________________________________________________\n",
            "batch_normalization_1 (Batch (None, 26, 26, 10)        40        \n",
            "_________________________________________________________________\n",
            "dropout_1 (Dropout)          (None, 26, 26, 10)        0         \n",
            "_________________________________________________________________\n",
            "conv2d_2 (Conv2D)            (None, 24, 24, 16)        1456      \n",
            "_________________________________________________________________\n",
            "batch_normalization_2 (Batch (None, 24, 24, 16)        64        \n",
            "_________________________________________________________________\n",
            "dropout_2 (Dropout)          (None, 24, 24, 16)        0         \n",
            "_________________________________________________________________\n",
            "max_pooling2d_1 (MaxPooling2 (None, 12, 12, 16)        0         \n",
            "_________________________________________________________________\n",
            "conv2d_3 (Conv2D)            (None, 12, 12, 10)        170       \n",
            "_________________________________________________________________\n",
            "batch_normalization_3 (Batch (None, 12, 12, 10)        40        \n",
            "_________________________________________________________________\n",
            "dropout_3 (Dropout)          (None, 12, 12, 10)        0         \n",
            "_________________________________________________________________\n",
            "conv2d_4 (Conv2D)            (None, 10, 10, 16)        1456      \n",
            "_________________________________________________________________\n",
            "batch_normalization_4 (Batch (None, 10, 10, 16)        64        \n",
            "_________________________________________________________________\n",
            "dropout_4 (Dropout)          (None, 10, 10, 16)        0         \n",
            "_________________________________________________________________\n",
            "conv2d_5 (Conv2D)            (None, 8, 8, 16)          2320      \n",
            "_________________________________________________________________\n",
            "batch_normalization_5 (Batch (None, 8, 8, 16)          64        \n",
            "_________________________________________________________________\n",
            "dropout_5 (Dropout)          (None, 8, 8, 16)          0         \n",
            "_________________________________________________________________\n",
            "max_pooling2d_2 (MaxPooling2 (None, 4, 4, 16)          0         \n",
            "_________________________________________________________________\n",
            "conv2d_6 (Conv2D)            (None, 4, 4, 10)          170       \n",
            "_________________________________________________________________\n",
            "batch_normalization_6 (Batch (None, 4, 4, 10)          40        \n",
            "_________________________________________________________________\n",
            "dropout_6 (Dropout)          (None, 4, 4, 10)          0         \n",
            "_________________________________________________________________\n",
            "conv2d_7 (Conv2D)            (None, 2, 2, 16)          1456      \n",
            "_________________________________________________________________\n",
            "batch_normalization_7 (Batch (None, 2, 2, 16)          64        \n",
            "_________________________________________________________________\n",
            "dropout_7 (Dropout)          (None, 2, 2, 16)          0         \n",
            "_________________________________________________________________\n",
            "conv2d_8 (Conv2D)            (None, 1, 1, 10)          650       \n",
            "_________________________________________________________________\n",
            "flatten_1 (Flatten)          (None, 10)                0         \n",
            "_________________________________________________________________\n",
            "activation_1 (Activation)    (None, 10)                0         \n",
            "=================================================================\n",
            "Total params: 8,154\n",
            "Trainable params: 7,966\n",
            "Non-trainable params: 188\n",
            "_________________________________________________________________\n"
          ],
          "name": "stdout"
        }
      ]
    },
    {
      "cell_type": "code",
      "metadata": {
        "id": "Zp6SuGrL9M3h",
        "colab_type": "code",
        "colab": {}
      },
      "source": [
        "model.compile(loss='categorical_crossentropy',\n",
        "             optimizer='adam',\n",
        "             metrics=['accuracy'])"
      ],
      "execution_count": 0,
      "outputs": []
    },
    {
      "cell_type": "markdown",
      "metadata": {
        "id": "Y7x49pENXqWc",
        "colab_type": "text"
      },
      "source": [
        "Compiling the model for training"
      ]
    },
    {
      "cell_type": "code",
      "metadata": {
        "id": "4xWoKhPY9Of5",
        "colab_type": "code",
        "outputId": "936d3ec8-ea36-442e-a6a5-7e24464e4d0a",
        "colab": {
          "base_uri": "https://localhost:8080/",
          "height": 2137
        }
      },
      "source": [
        "from keras.callbacks import ModelCheckpoint\n",
        "filepath=\"weights.iter3.best.hdf5\"\n",
        "checkpoint = ModelCheckpoint(filepath, monitor='val_acc', verbose=1, save_best_only=True, mode='max')\n",
        "\n",
        "callbacks_list = [checkpoint]\n",
        "\n",
        "model.fit(X_train, Y_train, batch_size=32, epochs=30, verbose=1, validation_data=(X_test, Y_test), callbacks = callbacks_list)"
      ],
      "execution_count": 13,
      "outputs": [
        {
          "output_type": "stream",
          "text": [
            "WARNING:tensorflow:From /usr/local/lib/python3.6/dist-packages/tensorflow/python/ops/math_ops.py:3066: to_int32 (from tensorflow.python.ops.math_ops) is deprecated and will be removed in a future version.\n",
            "Instructions for updating:\n",
            "Use tf.cast instead.\n",
            "Train on 60000 samples, validate on 10000 samples\n",
            "Epoch 1/30\n",
            "60000/60000 [==============================] - 45s 747us/step - loss: 0.3958 - acc: 0.8783 - val_loss: 0.0759 - val_acc: 0.9765\n",
            "\n",
            "Epoch 00001: val_acc improved from -inf to 0.97650, saving model to weights.iter3.best.hdf5\n",
            "Epoch 2/30\n",
            "60000/60000 [==============================] - 40s 660us/step - loss: 0.1113 - acc: 0.9662 - val_loss: 0.0581 - val_acc: 0.9810\n",
            "\n",
            "Epoch 00002: val_acc improved from 0.97650 to 0.98100, saving model to weights.iter3.best.hdf5\n",
            "Epoch 3/30\n",
            "60000/60000 [==============================] - 41s 688us/step - loss: 0.0850 - acc: 0.9735 - val_loss: 0.0488 - val_acc: 0.9847\n",
            "\n",
            "Epoch 00003: val_acc improved from 0.98100 to 0.98470, saving model to weights.iter3.best.hdf5\n",
            "Epoch 4/30\n",
            "60000/60000 [==============================] - 39s 644us/step - loss: 0.0718 - acc: 0.9783 - val_loss: 0.0380 - val_acc: 0.9870\n",
            "\n",
            "Epoch 00004: val_acc improved from 0.98470 to 0.98700, saving model to weights.iter3.best.hdf5\n",
            "Epoch 5/30\n",
            "60000/60000 [==============================] - 40s 675us/step - loss: 0.0649 - acc: 0.9796 - val_loss: 0.0338 - val_acc: 0.9892\n",
            "\n",
            "Epoch 00005: val_acc improved from 0.98700 to 0.98920, saving model to weights.iter3.best.hdf5\n",
            "Epoch 6/30\n",
            "60000/60000 [==============================] - 39s 645us/step - loss: 0.0617 - acc: 0.9807 - val_loss: 0.0333 - val_acc: 0.9891\n",
            "\n",
            "Epoch 00006: val_acc did not improve from 0.98920\n",
            "Epoch 7/30\n",
            "60000/60000 [==============================] - 41s 676us/step - loss: 0.0575 - acc: 0.9822 - val_loss: 0.0307 - val_acc: 0.9893\n",
            "\n",
            "Epoch 00007: val_acc improved from 0.98920 to 0.98930, saving model to weights.iter3.best.hdf5\n",
            "Epoch 8/30\n",
            "60000/60000 [==============================] - 40s 667us/step - loss: 0.0529 - acc: 0.9835 - val_loss: 0.0303 - val_acc: 0.9913\n",
            "\n",
            "Epoch 00008: val_acc improved from 0.98930 to 0.99130, saving model to weights.iter3.best.hdf5\n",
            "Epoch 9/30\n",
            "60000/60000 [==============================] - 40s 672us/step - loss: 0.0487 - acc: 0.9849 - val_loss: 0.0324 - val_acc: 0.9892\n",
            "\n",
            "Epoch 00009: val_acc did not improve from 0.99130\n",
            "Epoch 10/30\n",
            "60000/60000 [==============================] - 41s 675us/step - loss: 0.0506 - acc: 0.9841 - val_loss: 0.0233 - val_acc: 0.9921\n",
            "\n",
            "Epoch 00010: val_acc improved from 0.99130 to 0.99210, saving model to weights.iter3.best.hdf5\n",
            "Epoch 11/30\n",
            "60000/60000 [==============================] - 40s 667us/step - loss: 0.0446 - acc: 0.9864 - val_loss: 0.0264 - val_acc: 0.9916\n",
            "\n",
            "Epoch 00011: val_acc did not improve from 0.99210\n",
            "Epoch 12/30\n",
            "60000/60000 [==============================] - 38s 637us/step - loss: 0.0460 - acc: 0.9859 - val_loss: 0.0338 - val_acc: 0.9899\n",
            "\n",
            "Epoch 00012: val_acc did not improve from 0.99210\n",
            "Epoch 13/30\n",
            "60000/60000 [==============================] - 40s 668us/step - loss: 0.0454 - acc: 0.9863 - val_loss: 0.0257 - val_acc: 0.9915\n",
            "\n",
            "Epoch 00013: val_acc did not improve from 0.99210\n",
            "Epoch 14/30\n",
            "60000/60000 [==============================] - 38s 637us/step - loss: 0.0437 - acc: 0.9860 - val_loss: 0.0249 - val_acc: 0.9916\n",
            "\n",
            "Epoch 00014: val_acc did not improve from 0.99210\n",
            "Epoch 15/30\n",
            "60000/60000 [==============================] - 37s 625us/step - loss: 0.0439 - acc: 0.9859 - val_loss: 0.0254 - val_acc: 0.9913\n",
            "\n",
            "Epoch 00015: val_acc did not improve from 0.99210\n",
            "Epoch 16/30\n",
            "60000/60000 [==============================] - 25s 415us/step - loss: 0.0405 - acc: 0.9871 - val_loss: 0.0266 - val_acc: 0.9913\n",
            "\n",
            "Epoch 00016: val_acc did not improve from 0.99210\n",
            "Epoch 17/30\n",
            "60000/60000 [==============================] - 24s 402us/step - loss: 0.0403 - acc: 0.9872 - val_loss: 0.0242 - val_acc: 0.9914\n",
            "\n",
            "Epoch 00017: val_acc did not improve from 0.99210\n",
            "Epoch 18/30\n",
            "60000/60000 [==============================] - 25s 422us/step - loss: 0.0385 - acc: 0.9878 - val_loss: 0.0220 - val_acc: 0.9928\n",
            "\n",
            "Epoch 00018: val_acc improved from 0.99210 to 0.99280, saving model to weights.iter3.best.hdf5\n",
            "Epoch 19/30\n",
            "60000/60000 [==============================] - 24s 402us/step - loss: 0.0383 - acc: 0.9880 - val_loss: 0.0251 - val_acc: 0.9921\n",
            "\n",
            "Epoch 00019: val_acc did not improve from 0.99280\n",
            "Epoch 20/30\n",
            "60000/60000 [==============================] - 26s 429us/step - loss: 0.0376 - acc: 0.9881 - val_loss: 0.0216 - val_acc: 0.9926\n",
            "\n",
            "Epoch 00020: val_acc did not improve from 0.99280\n",
            "Epoch 21/30\n",
            "60000/60000 [==============================] - 26s 425us/step - loss: 0.0371 - acc: 0.9884 - val_loss: 0.0240 - val_acc: 0.9922\n",
            "\n",
            "Epoch 00021: val_acc did not improve from 0.99280\n",
            "Epoch 22/30\n",
            "60000/60000 [==============================] - 24s 404us/step - loss: 0.0370 - acc: 0.9877 - val_loss: 0.0238 - val_acc: 0.9919\n",
            "\n",
            "Epoch 00022: val_acc did not improve from 0.99280\n",
            "Epoch 23/30\n",
            "60000/60000 [==============================] - 24s 404us/step - loss: 0.0357 - acc: 0.9886 - val_loss: 0.0239 - val_acc: 0.9922\n",
            "\n",
            "Epoch 00023: val_acc did not improve from 0.99280\n",
            "Epoch 24/30\n",
            "60000/60000 [==============================] - 25s 415us/step - loss: 0.0352 - acc: 0.9891 - val_loss: 0.0225 - val_acc: 0.9931\n",
            "\n",
            "Epoch 00024: val_acc improved from 0.99280 to 0.99310, saving model to weights.iter3.best.hdf5\n",
            "Epoch 25/30\n",
            "60000/60000 [==============================] - 25s 414us/step - loss: 0.0350 - acc: 0.9887 - val_loss: 0.0235 - val_acc: 0.9915\n",
            "\n",
            "Epoch 00025: val_acc did not improve from 0.99310\n",
            "Epoch 26/30\n",
            "60000/60000 [==============================] - 24s 405us/step - loss: 0.0348 - acc: 0.9893 - val_loss: 0.0292 - val_acc: 0.9904\n",
            "\n",
            "Epoch 00026: val_acc did not improve from 0.99310\n",
            "Epoch 27/30\n",
            "60000/60000 [==============================] - 24s 403us/step - loss: 0.0346 - acc: 0.9889 - val_loss: 0.0233 - val_acc: 0.9920\n",
            "\n",
            "Epoch 00027: val_acc did not improve from 0.99310\n",
            "Epoch 28/30\n",
            "60000/60000 [==============================] - 26s 436us/step - loss: 0.0343 - acc: 0.9886 - val_loss: 0.0276 - val_acc: 0.9917\n",
            "\n",
            "Epoch 00028: val_acc did not improve from 0.99310\n",
            "Epoch 29/30\n",
            "60000/60000 [==============================] - 24s 402us/step - loss: 0.0343 - acc: 0.9893 - val_loss: 0.0213 - val_acc: 0.9930\n",
            "\n",
            "Epoch 00029: val_acc did not improve from 0.99310\n",
            "Epoch 30/30\n",
            "60000/60000 [==============================] - 24s 403us/step - loss: 0.0321 - acc: 0.9894 - val_loss: 0.0223 - val_acc: 0.9924\n",
            "\n",
            "Epoch 00030: val_acc did not improve from 0.99310\n"
          ],
          "name": "stdout"
        },
        {
          "output_type": "execute_result",
          "data": {
            "text/plain": [
              "<keras.callbacks.History at 0x7fceb02e4fd0>"
            ]
          },
          "metadata": {
            "tags": []
          },
          "execution_count": 13
        }
      ]
    },
    {
      "cell_type": "markdown",
      "metadata": {
        "id": "7TyQdemDXvDR",
        "colab_type": "text"
      },
      "source": [
        "After 30 epochs, the max validation accuracy reached was 99.31%. This is not only close to our target of 99.4% but also a very good validation accuracy in general."
      ]
    },
    {
      "cell_type": "code",
      "metadata": {
        "id": "p8F0TvhCla86",
        "colab_type": "code",
        "colab": {}
      },
      "source": [
        "model.load_weights(\"weights.iter3.best.hdf5\")\n",
        "model.compile(loss='categorical_crossentropy', optimizer='adam', metrics=['accuracy'])"
      ],
      "execution_count": 0,
      "outputs": []
    },
    {
      "cell_type": "markdown",
      "metadata": {
        "id": "VddwEnLbcr96",
        "colab_type": "text"
      },
      "source": [
        "Loading the best model weights ( according to validation accuracty ) stored during the training phase"
      ]
    },
    {
      "cell_type": "code",
      "metadata": {
        "id": "AtsH-lLk-eLb",
        "colab_type": "code",
        "colab": {}
      },
      "source": [
        "score = model.evaluate(X_test, Y_test, verbose=0)"
      ],
      "execution_count": 0,
      "outputs": []
    },
    {
      "cell_type": "markdown",
      "metadata": {
        "id": "-mwPViLSc1vy",
        "colab_type": "text"
      },
      "source": [
        "Evaluate the model on the testing dataset"
      ]
    },
    {
      "cell_type": "code",
      "metadata": {
        "id": "mkX8JMv79q9r",
        "colab_type": "code",
        "outputId": "31b70d08-d0ec-4bdb-b232-02be8ae39fcf",
        "colab": {
          "base_uri": "https://localhost:8080/",
          "height": 34
        }
      },
      "source": [
        "print(score)"
      ],
      "execution_count": 16,
      "outputs": [
        {
          "output_type": "stream",
          "text": [
            "[0.022502157384279416, 0.9931]\n"
          ],
          "name": "stdout"
        }
      ]
    },
    {
      "cell_type": "markdown",
      "metadata": {
        "id": "AbI5Ga7Sc529",
        "colab_type": "text"
      },
      "source": [
        "Printing the score of the model on the testing dataset. The first number is the value of the loss function. The latter is the test accuracy."
      ]
    },
    {
      "cell_type": "code",
      "metadata": {
        "id": "FNxbpnu4oxXQ",
        "colab_type": "code",
        "outputId": "ddeef2b7-36f5-4558-dd8e-1908a2c121e2",
        "colab": {
          "base_uri": "https://localhost:8080/",
          "height": 34
        }
      },
      "source": [
        "model.evaluate(X_train, Y_train, verbose=0)"
      ],
      "execution_count": 17,
      "outputs": [
        {
          "output_type": "execute_result",
          "data": {
            "text/plain": [
              "[0.013936993314657593, 0.9958]"
            ]
          },
          "metadata": {
            "tags": []
          },
          "execution_count": 17
        }
      ]
    },
    {
      "cell_type": "markdown",
      "metadata": {
        "id": "otCfVbNNdCsP",
        "colab_type": "text"
      },
      "source": [
        "Evaluating the model on the training dataset to see what the achieved training accuracy is."
      ]
    },
    {
      "cell_type": "code",
      "metadata": {
        "id": "OCWoJkwE9suh",
        "colab_type": "code",
        "colab": {}
      },
      "source": [
        "y_pred = model.predict(X_test)"
      ],
      "execution_count": 0,
      "outputs": []
    },
    {
      "cell_type": "markdown",
      "metadata": {
        "id": "LmxXIct7dIvc",
        "colab_type": "text"
      },
      "source": [
        "Computing the predicted classifications for the testing dataset"
      ]
    },
    {
      "cell_type": "code",
      "metadata": {
        "id": "Ym7iCFBm9uBs",
        "colab_type": "code",
        "outputId": "80ad20c6-f33d-4db0-9c7a-84f65ea790d8",
        "colab": {
          "base_uri": "https://localhost:8080/",
          "height": 336
        }
      },
      "source": [
        "print(y_pred[:9])\n",
        "print(y_test[:9])"
      ],
      "execution_count": 19,
      "outputs": [
        {
          "output_type": "stream",
          "text": [
            "[[8.0395024e-11 2.2204777e-07 3.3418697e-08 2.9487416e-07 9.3010849e-10\n",
            "  5.7870206e-09 2.2186328e-12 9.9999928e-01 3.6366232e-10 7.5506385e-08]\n",
            " [2.0120019e-04 1.5429204e-04 9.9959224e-01 4.6745322e-07 4.5939919e-07\n",
            "  9.9598179e-09 3.6667003e-05 3.1440347e-06 1.1545457e-05 2.3920084e-08]\n",
            " [2.2605731e-07 9.9993289e-01 1.6399857e-06 4.4738030e-08 2.3515142e-05\n",
            "  8.6331136e-07 3.8619319e-07 3.9077873e-05 1.8492521e-07 1.1187763e-06]\n",
            " [9.9981958e-01 1.8943945e-08 2.2414248e-07 3.5598288e-07 1.1439892e-07\n",
            "  2.1960206e-07 1.5972512e-04 1.8375107e-07 5.2377045e-06 1.4383380e-05]\n",
            " [3.2721605e-08 2.7938736e-07 5.4116816e-07 1.0831743e-08 9.9923468e-01\n",
            "  1.4884148e-08 1.4637775e-08 1.4094447e-06 3.8448715e-07 7.6274172e-04]\n",
            " [1.1406171e-07 9.9993265e-01 1.0215329e-06 6.7783716e-09 1.9709321e-05\n",
            "  3.1920104e-07 8.4080504e-08 4.4282497e-05 1.2112096e-07 1.6958031e-06]\n",
            " [7.5451972e-08 3.2743247e-04 1.0820502e-04 1.0170563e-06 9.9552709e-01\n",
            "  1.9263668e-06 1.4344278e-07 2.6872204e-04 2.6200530e-03 1.1453273e-03]\n",
            " [5.4263069e-08 1.6252317e-08 2.2501338e-06 5.2088053e-05 4.4979686e-05\n",
            "  7.8238972e-06 2.8001350e-09 1.1558328e-05 3.2245749e-05 9.9984896e-01]\n",
            " [1.1003410e-04 5.4282629e-07 2.3862176e-05 7.8412831e-06 3.5479678e-07\n",
            "  9.7446716e-01 2.4102483e-02 5.0107377e-07 1.2803065e-03 6.9730841e-06]]\n",
            "[7 2 1 0 4 1 4 9 5]\n"
          ],
          "name": "stdout"
        }
      ]
    },
    {
      "cell_type": "markdown",
      "metadata": {
        "id": "yXx-vpw7dPRd",
        "colab_type": "text"
      },
      "source": [
        "Comparing the labels computed by our model and that given in the dataset.\n",
        "\n",
        "Note that for the first element, the target label in the dataset is 11. The output by the model, is in the categorical form described earlier. One can see that first output peaks at index 8 which corresponds to the digit 7."
      ]
    },
    {
      "cell_type": "code",
      "metadata": {
        "id": "CT--y98_dr2T",
        "colab_type": "code",
        "colab": {}
      },
      "source": [
        "layer_dict = dict([(layer.name, layer) for layer in model.layers])"
      ],
      "execution_count": 0,
      "outputs": []
    },
    {
      "cell_type": "markdown",
      "metadata": {
        "id": "P_aFWrMHeGpC",
        "colab_type": "text"
      },
      "source": [
        "Copying the layers in a dict for visualization in the next step"
      ]
    },
    {
      "cell_type": "code",
      "metadata": {
        "id": "2GY4Upv4dsUR",
        "colab_type": "code",
        "colab": {}
      },
      "source": [
        "import numpy as np\n",
        "from matplotlib import pyplot as plt\n",
        "from keras import backend as K\n",
        "%matplotlib inline\n",
        "# util function to convert a tensor into a valid image\n",
        "def deprocess_image(x):\n",
        "    # normalize tensor: center on 0., ensure std is 0.1\n",
        "    x -= x.mean()\n",
        "    x /= (x.std() + 1e-5)\n",
        "    x *= 0.1\n",
        "\n",
        "    # clip to [0, 1]\n",
        "    x += 0.5\n",
        "    x = np.clip(x, 0, 1)\n",
        "\n",
        "    # convert to RGB array\n",
        "    x *= 255\n",
        "    #x = x.transpose((1, 2, 0))\n",
        "    x = np.clip(x, 0, 255).astype('uint8')\n",
        "    return x\n",
        "\n",
        "def vis_img_in_filter(img = np.array(X_train[2]).reshape((1, 28, 28, 1)).astype(np.float64), \n",
        "                      layer_name = 'conv2d_14'):\n",
        "    layer_output = layer_dict[layer_name].output\n",
        "    img_ascs = list()\n",
        "    for filter_index in range(layer_output.shape[3]):\n",
        "        # build a loss function that maximizes the activation\n",
        "        # of the nth filter of the layer considered\n",
        "        loss = K.mean(layer_output[:, :, :, filter_index])\n",
        "\n",
        "        # compute the gradient of the input picture wrt this loss\n",
        "        grads = K.gradients(loss, model.input)[0]\n",
        "\n",
        "        # normalization trick: we normalize the gradient\n",
        "        grads /= (K.sqrt(K.mean(K.square(grads))) + 1e-5)\n",
        "\n",
        "        # this function returns the loss and grads given the input picture\n",
        "        iterate = K.function([model.input], [loss, grads])\n",
        "\n",
        "        # step size for gradient ascent\n",
        "        step = 5.\n",
        "\n",
        "        img_asc = np.array(img)\n",
        "        # run gradient ascent for 20 steps\n",
        "        for i in range(20):\n",
        "            loss_value, grads_value = iterate([img_asc])\n",
        "            img_asc += grads_value * step\n",
        "\n",
        "        img_asc = img_asc[0]\n",
        "        img_ascs.append(deprocess_image(img_asc).reshape((28, 28)))\n",
        "        \n",
        "    if layer_output.shape[3] >= 35:\n",
        "        plot_x, plot_y = 6, 6\n",
        "    elif layer_output.shape[3] >= 23:\n",
        "        plot_x, plot_y = 4, 6\n",
        "    elif layer_output.shape[3] >= 11:\n",
        "        plot_x, plot_y = 2, 6\n",
        "    else:\n",
        "        plot_x, plot_y = 1, 2\n",
        "    fig, ax = plt.subplots(plot_x, plot_y, figsize = (12, 12))\n",
        "    ax[0, 0].imshow(img.reshape((28, 28)), cmap = 'gray')\n",
        "    ax[0, 0].set_title('Input image')\n",
        "    fig.suptitle('Input image and %s filters' % (layer_name,))\n",
        "    fig.tight_layout(pad = 0.3, rect = [0, 0, 0.9, 0.9])\n",
        "    for (x, y) in [(i, j) for i in range(plot_x) for j in range(plot_y)]:\n",
        "        if x == 0 and y == 0:\n",
        "            continue\n",
        "        ax[x, y].imshow(img_ascs[x * plot_y + y - 1], cmap = 'gray')\n",
        "        ax[x, y].set_title('filter %d' % (x * plot_y + y - 1))"
      ],
      "execution_count": 0,
      "outputs": []
    },
    {
      "cell_type": "markdown",
      "metadata": {
        "id": "9e-QiggGerDS",
        "colab_type": "text"
      },
      "source": [
        "Predefined function for visualizing how an image is processed by a particular layer in the network."
      ]
    },
    {
      "cell_type": "code",
      "metadata": {
        "id": "wRHK7kqZFcYI",
        "colab_type": "code",
        "outputId": "a5f410e9-7dd3-4205-bd7f-6039a41891b4",
        "colab": {
          "base_uri": "https://localhost:8080/",
          "height": 741
        }
      },
      "source": [
        "vis_img_in_filter(img = np.array(X_train[2]).reshape((1, 28, 28, 1)).astype(np.float64), layer_name = 'conv2d_7')"
      ],
      "execution_count": 22,
      "outputs": [
        {
          "output_type": "display_data",
          "data": {
            "image/png": "[encoded data removed]",
            "text/plain": [
              "<Figure size 864x864 with 12 Axes>"
            ]
          },
          "metadata": {
            "tags": []
          }
        }
      ]
    },
    {
      "cell_type": "markdown",
      "metadata": {
        "id": "m5pzvtnneymo",
        "colab_type": "text"
      },
      "source": [
        "Visualization of the 7th convolution layer ( 3x3x10x32 kernel ). One can see that the exact input image itself shows up in many kernels. This is surprising. I currently dont understand the significance of it"
      ]
    }
  ]
}