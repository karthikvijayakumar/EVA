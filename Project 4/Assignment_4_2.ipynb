{
  "nbformat": 4,
  "nbformat_minor": 0,
  "metadata": {
    "colab": {
      "name": "Assignment 4_2.ipynb",
      "version": "0.3.2",
      "provenance": [],
      "collapsed_sections": [],
      "include_colab_link": true
    },
    "kernelspec": {
      "name": "python3",
      "display_name": "Python 3"
    },
    "accelerator": "GPU"
  },
  "cells": [
    {
      "cell_type": "markdown",
      "metadata": {
        "id": "view-in-github",
        "colab_type": "text"
      },
      "source": [
        "<a href=\"https://colab.research.google.com/github/karthikvijayakumar/EVA/blob/vijkar_development/Project%204/Assignment_4_2.ipynb\" target=\"_parent\"><img src=\"https://colab.research.google.com/assets/colab-badge.svg\" alt=\"Open In Colab\"/></a>"
      ]
    },
    {
      "cell_type": "markdown",
      "metadata": {
        "id": "RGrK9tmQFiOU",
        "colab_type": "text"
      },
      "source": [
        "# Second iteration\n",
        "\n",
        "We noticed in the first iteration that the best validation loss and accuracy was not obtained in the end. This meant even though we found a good model while performing gradient descent we dropped it since it was not where the process finally exited. In this iteration we add functionality to store the best model ( measured by validation accuracy ) found over epochs and use the same going forward. This is the only change implemented in this iteration.\n",
        "\n",
        "### Why is this the only change implemented?\n",
        "<br> I feel getting the best model out of an existing process is the most basic change one could do. More importantly we are not even making any changes to the model through this change. We are merely saving and extracting the best model we found through our execution.\n",
        "\n",
        "In this iteration our number of parameters dont change and remain at 7,778 and our validation accuracy rises to 99.00% compared to 98.80% from the first iteration.\n",
        "\n",
        "### High level stats:\n",
        "\n",
        "Total number of params: 7,778\n",
        "<br>Total number of trainable params: 7,778\n",
        "<br>Validation accuracy: 98.11%\n",
        "<br>Training accuracy: 99.38%"
      ]
    },
    {
      "cell_type": "markdown",
      "metadata": {
        "id": "aNyZv-Ec52ot",
        "colab_type": "text"
      },
      "source": [
        "# **Import Libraries and modules**"
      ]
    },
    {
      "cell_type": "code",
      "metadata": {
        "id": "3m3w1Cw49Zkt",
        "colab_type": "code",
        "outputId": "899c6fa3-f27b-466d-c332-c3d653b459aa",
        "colab": {
          "base_uri": "https://localhost:8080/",
          "height": 34
        }
      },
      "source": [
        "# https://keras.io/\n",
        "!pip install -q keras\n",
        "import keras"
      ],
      "execution_count": 1,
      "outputs": [
        {
          "output_type": "stream",
          "text": [
            "Using TensorFlow backend.\n"
          ],
          "name": "stderr"
        }
      ]
    },
    {
      "cell_type": "markdown",
      "metadata": {
        "id": "W8TuvCMEI5bz",
        "colab_type": "text"
      },
      "source": [
        "Installing Keras and importing into current runtime environment"
      ]
    },
    {
      "cell_type": "code",
      "metadata": {
        "id": "Eso6UHE080D4",
        "colab_type": "code",
        "colab": {}
      },
      "source": [
        "import numpy as np\n",
        "\n",
        "from keras.models import Sequential\n",
        "from keras.layers import Dense, Dropout, Activation, Flatten, Add\n",
        "from keras.layers import Convolution2D, MaxPooling2D\n",
        "from keras.utils import np_utils\n",
        "\n",
        "from keras.datasets import mnist"
      ],
      "execution_count": 0,
      "outputs": []
    },
    {
      "cell_type": "markdown",
      "metadata": {
        "id": "Y0u5KVe7JBFn",
        "colab_type": "text"
      },
      "source": [
        "Importing libraries and functions required for the program"
      ]
    },
    {
      "cell_type": "markdown",
      "metadata": {
        "id": "zByEi95J86RD",
        "colab_type": "text"
      },
      "source": [
        "### Load pre-shuffled MNIST data into train and test sets"
      ]
    },
    {
      "cell_type": "code",
      "metadata": {
        "id": "7eRM0QWN83PV",
        "colab_type": "code",
        "colab": {}
      },
      "source": [
        "(X_train, y_train), (X_test, y_test) = mnist.load_data()"
      ],
      "execution_count": 0,
      "outputs": []
    },
    {
      "cell_type": "markdown",
      "metadata": {
        "id": "iGsh_aQ1J3OS",
        "colab_type": "text"
      },
      "source": [
        "Loading the MNIST dataset. Note that this dataset comes with a ready made train and test set."
      ]
    },
    {
      "cell_type": "code",
      "metadata": {
        "id": "4a4Be72j8-ZC",
        "colab_type": "code",
        "outputId": "1dcc69dd-c284-400c-ba5d-ff152ed0fea0",
        "colab": {
          "base_uri": "https://localhost:8080/",
          "height": 302
        }
      },
      "source": [
        "print (X_train.shape)\n",
        "from matplotlib import pyplot as plt\n",
        "%matplotlib inline\n",
        "plt.imshow(X_train[0])"
      ],
      "execution_count": 4,
      "outputs": [
        {
          "output_type": "stream",
          "text": [
            "(60000, 28, 28)\n"
          ],
          "name": "stdout"
        },
        {
          "output_type": "execute_result",
          "data": {
            "text/plain": [
              "<matplotlib.image.AxesImage at 0x7fbf62cf8d68>"
            ]
          },
          "metadata": {
            "tags": []
          },
          "execution_count": 4
        },
        {
          "output_type": "display_data",
          "data": {
            "image/png": "[encoded data removed]",
            "text/plain": [
              "<Figure size 432x288 with 1 Axes>"
            ]
          },
          "metadata": {
            "tags": []
          }
        }
      ]
    },
    {
      "cell_type": "markdown",
      "metadata": {
        "id": "vlxccYctJ_be",
        "colab_type": "text"
      },
      "source": [
        "Visualizing the first training image"
      ]
    },
    {
      "cell_type": "code",
      "metadata": {
        "id": "dkmprriw9AnZ",
        "colab_type": "code",
        "colab": {}
      },
      "source": [
        "X_train = X_train.reshape(X_train.shape[0], 28, 28,1)\n",
        "X_test = X_test.reshape(X_test.shape[0], 28, 28,1)"
      ],
      "execution_count": 0,
      "outputs": []
    },
    {
      "cell_type": "markdown",
      "metadata": {
        "id": "l-vkWkDfKDDC",
        "colab_type": "text"
      },
      "source": [
        "Reshaping images from 28x28 to 28x28x1. This change needs to be done since convolution expects a 3 dimensional matrix."
      ]
    },
    {
      "cell_type": "code",
      "metadata": {
        "id": "X2m4YS4E9CRh",
        "colab_type": "code",
        "colab": {}
      },
      "source": [
        "X_train = X_train.astype('float32')\n",
        "X_test = X_test.astype('float32')\n",
        "X_train /= 255\n",
        "X_test /= 255"
      ],
      "execution_count": 0,
      "outputs": []
    },
    {
      "cell_type": "markdown",
      "metadata": {
        "id": "1Q_oAEhuKOqU",
        "colab_type": "text"
      },
      "source": [
        "Bringing the values of pixels to 0-255"
      ]
    },
    {
      "cell_type": "code",
      "metadata": {
        "id": "0Mn0vAYD9DvB",
        "colab_type": "code",
        "outputId": "bfe108c0-2bc1-4e3f-a7fc-c61efb072838",
        "colab": {
          "base_uri": "https://localhost:8080/",
          "height": 34
        }
      },
      "source": [
        "y_train[:10]"
      ],
      "execution_count": 7,
      "outputs": [
        {
          "output_type": "execute_result",
          "data": {
            "text/plain": [
              "array([5, 0, 4, 1, 9, 2, 1, 3, 1, 4], dtype=uint8)"
            ]
          },
          "metadata": {
            "tags": []
          },
          "execution_count": 7
        }
      ]
    },
    {
      "cell_type": "markdown",
      "metadata": {
        "id": "jlCvUDE1KT9P",
        "colab_type": "text"
      },
      "source": [
        "Checking out the first ten labels on the training set. Note that these are numbers at this point. More importantly these numbers have an ordinality amongst them"
      ]
    },
    {
      "cell_type": "code",
      "metadata": {
        "id": "ZG8JiXR39FHC",
        "colab_type": "code",
        "colab": {}
      },
      "source": [
        "# Convert 1-dimensional class arrays to 10-dimensional class matrices\n",
        "Y_train = np_utils.to_categorical(y_train, 10)\n",
        "Y_test = np_utils.to_categorical(y_test, 10)"
      ],
      "execution_count": 0,
      "outputs": []
    },
    {
      "cell_type": "markdown",
      "metadata": {
        "id": "L29eBlgYPcRo",
        "colab_type": "text"
      },
      "source": [
        "Converting the numerical labels to categorical values. This is important since the classes 0-9 are just different classes and have no inherent order amongst them ( i.e 7 is not a lesser class than 8 in any way with respect to digit classification )"
      ]
    },
    {
      "cell_type": "code",
      "metadata": {
        "id": "fYlFRvKS9HMB",
        "colab_type": "code",
        "outputId": "eeb3416f-66bb-4520-8d44-567ecbbc7d70",
        "colab": {
          "base_uri": "https://localhost:8080/",
          "height": 185
        }
      },
      "source": [
        "Y_train[:10]"
      ],
      "execution_count": 9,
      "outputs": [
        {
          "output_type": "execute_result",
          "data": {
            "text/plain": [
              "array([[0., 0., 0., 0., 0., 1., 0., 0., 0., 0.],\n",
              "       [1., 0., 0., 0., 0., 0., 0., 0., 0., 0.],\n",
              "       [0., 0., 0., 0., 1., 0., 0., 0., 0., 0.],\n",
              "       [0., 1., 0., 0., 0., 0., 0., 0., 0., 0.],\n",
              "       [0., 0., 0., 0., 0., 0., 0., 0., 0., 1.],\n",
              "       [0., 0., 1., 0., 0., 0., 0., 0., 0., 0.],\n",
              "       [0., 1., 0., 0., 0., 0., 0., 0., 0., 0.],\n",
              "       [0., 0., 0., 1., 0., 0., 0., 0., 0., 0.],\n",
              "       [0., 1., 0., 0., 0., 0., 0., 0., 0., 0.],\n",
              "       [0., 0., 0., 0., 1., 0., 0., 0., 0., 0.]], dtype=float32)"
            ]
          },
          "metadata": {
            "tags": []
          },
          "execution_count": 9
        }
      ]
    },
    {
      "cell_type": "markdown",
      "metadata": {
        "id": "bJOar7DqPurN",
        "colab_type": "text"
      },
      "source": [
        "Seeing the categorical representation of the labels for the first ten training images"
      ]
    },
    {
      "cell_type": "code",
      "metadata": {
        "id": "osKqT73Q9JJB",
        "colab_type": "code",
        "outputId": "438b4023-9862-46d7-a7c0-5d6af3075264",
        "colab": {
          "base_uri": "https://localhost:8080/",
          "height": 87
        }
      },
      "source": [
        "from keras.layers import Activation, BatchNormalization, Dropout\n",
        "dropout_rate = 0.5\n",
        "\n",
        "\n",
        "model = Sequential()\n",
        "\n",
        "# Convolution block \n",
        "model.add(Convolution2D(10, (3, 3), activation='relu', input_shape=(28,28,1))) #3x3x1x10 kernel - 26x26x10 image - Receptive Field 3x3\n",
        "model.add(Convolution2D(16, (3, 3), activation='relu')) # 3x3x10x16 kernel - 24x24x16 image - Receptive Field 5x5\n",
        "\n",
        "# Transition block\n",
        "model.add(MaxPooling2D(pool_size=(2, 2))) # Max pooling layer - 12x12x16 image - Receptive Field 10x10\n",
        "model.add(Convolution2D(10, (1,1), activation='relu')) # 1x1x16x8 kernel - 12x12x8 image - Receptive Field 10x10\n",
        "\n",
        "#Convolution block\n",
        "model.add(Convolution2D(16, (3, 3), activation='relu')) # 3x3x8x16 kernel - 10x10x16 image - Receptive Field 12x12\n",
        "model.add(Convolution2D(16, (3, 3), activation='relu')) # 3x3x16x16 kernel - 8x8x16 image - Receptive Field 14x14\n",
        "\n",
        "# Transition block\n",
        "model.add(MaxPooling2D(pool_size=(2, 2))) # Max pooling layer - 4x4x16 image - Receptive Field 28x28\n",
        "model.add(Convolution2D(10, (1,1), activation='relu')) # 1x1x16x8 kernel - 4x4x10 image - Receptive Field 28x28\n",
        "\n",
        "#Convolution block\n",
        "model.add(Convolution2D(16, (3, 3), activation='relu')) # 3x3x16x16 kernel - 2x2x16 image - Receptive Field 28x28\n",
        "\n",
        "model.add(Convolution2D(10, (2, 2))) # 2x2x16x10 kernel - 1x1x10 image\n",
        "\n",
        "model.add(Flatten())\n",
        "model.add(Activation('softmax'))"
      ],
      "execution_count": 10,
      "outputs": [
        {
          "output_type": "stream",
          "text": [
            "WARNING:tensorflow:From /usr/local/lib/python3.6/dist-packages/tensorflow/python/framework/op_def_library.py:263: colocate_with (from tensorflow.python.framework.ops) is deprecated and will be removed in a future version.\n",
            "Instructions for updating:\n",
            "Colocations handled automatically by placer.\n"
          ],
          "name": "stdout"
        }
      ]
    },
    {
      "cell_type": "markdown",
      "metadata": {
        "id": "P3TZOpxxQlVy",
        "colab_type": "text"
      },
      "source": [
        "No change here compared to the previous iterations"
      ]
    },
    {
      "cell_type": "code",
      "metadata": {
        "id": "TzdAYg1k9K7Z",
        "colab_type": "code",
        "outputId": "942592dc-8e4a-441a-8782-4148d8d5deb5",
        "colab": {
          "base_uri": "https://localhost:8080/",
          "height": 538
        }
      },
      "source": [
        "model.summary()"
      ],
      "execution_count": 11,
      "outputs": [
        {
          "output_type": "stream",
          "text": [
            "_________________________________________________________________\n",
            "Layer (type)                 Output Shape              Param #   \n",
            "=================================================================\n",
            "conv2d_1 (Conv2D)            (None, 26, 26, 10)        100       \n",
            "_________________________________________________________________\n",
            "conv2d_2 (Conv2D)            (None, 24, 24, 16)        1456      \n",
            "_________________________________________________________________\n",
            "max_pooling2d_1 (MaxPooling2 (None, 12, 12, 16)        0         \n",
            "_________________________________________________________________\n",
            "conv2d_3 (Conv2D)            (None, 12, 12, 10)        170       \n",
            "_________________________________________________________________\n",
            "conv2d_4 (Conv2D)            (None, 10, 10, 16)        1456      \n",
            "_________________________________________________________________\n",
            "conv2d_5 (Conv2D)            (None, 8, 8, 16)          2320      \n",
            "_________________________________________________________________\n",
            "max_pooling2d_2 (MaxPooling2 (None, 4, 4, 16)          0         \n",
            "_________________________________________________________________\n",
            "conv2d_6 (Conv2D)            (None, 4, 4, 10)          170       \n",
            "_________________________________________________________________\n",
            "conv2d_7 (Conv2D)            (None, 2, 2, 16)          1456      \n",
            "_________________________________________________________________\n",
            "conv2d_8 (Conv2D)            (None, 1, 1, 10)          650       \n",
            "_________________________________________________________________\n",
            "flatten_1 (Flatten)          (None, 10)                0         \n",
            "_________________________________________________________________\n",
            "activation_1 (Activation)    (None, 10)                0         \n",
            "=================================================================\n",
            "Total params: 7,778\n",
            "Trainable params: 7,778\n",
            "Non-trainable params: 0\n",
            "_________________________________________________________________\n"
          ],
          "name": "stdout"
        }
      ]
    },
    {
      "cell_type": "code",
      "metadata": {
        "id": "Zp6SuGrL9M3h",
        "colab_type": "code",
        "colab": {}
      },
      "source": [
        "model.compile(loss='categorical_crossentropy',\n",
        "             optimizer='adam',\n",
        "             metrics=['accuracy'])"
      ],
      "execution_count": 0,
      "outputs": []
    },
    {
      "cell_type": "markdown",
      "metadata": {
        "id": "Y7x49pENXqWc",
        "colab_type": "text"
      },
      "source": [
        "Compiling the model for training"
      ]
    },
    {
      "cell_type": "code",
      "metadata": {
        "id": "4xWoKhPY9Of5",
        "colab_type": "code",
        "outputId": "f315f019-3028-47be-ddae-ac1bdf75c5a6",
        "colab": {
          "base_uri": "https://localhost:8080/",
          "height": 2137
        }
      },
      "source": [
        "from keras.callbacks import ModelCheckpoint\n",
        "filepath=\"weights.iter2.best.hdf5\"\n",
        "checkpoint = ModelCheckpoint(filepath, monitor='val_acc', verbose=1, save_best_only=True, mode='max')\n",
        "callbacks_list = [checkpoint]\n",
        "\n",
        "model.fit(X_train, Y_train, batch_size=32, epochs=30, verbose=1, validation_data=(X_test, Y_test), callbacks = callbacks_list)"
      ],
      "execution_count": 13,
      "outputs": [
        {
          "output_type": "stream",
          "text": [
            "WARNING:tensorflow:From /usr/local/lib/python3.6/dist-packages/tensorflow/python/ops/math_ops.py:3066: to_int32 (from tensorflow.python.ops.math_ops) is deprecated and will be removed in a future version.\n",
            "Instructions for updating:\n",
            "Use tf.cast instead.\n",
            "Train on 60000 samples, validate on 10000 samples\n",
            "Epoch 1/30\n",
            "60000/60000 [==============================] - 19s 315us/step - loss: 0.2470 - acc: 0.9211 - val_loss: 0.0759 - val_acc: 0.9764\n",
            "\n",
            "Epoch 00001: val_acc improved from -inf to 0.97640, saving model to weights.iter2.best.hdf5\n",
            "Epoch 2/30\n",
            "60000/60000 [==============================] - 20s 341us/step - loss: 0.0807 - acc: 0.9749 - val_loss: 0.0585 - val_acc: 0.9804\n",
            "\n",
            "Epoch 00002: val_acc improved from 0.97640 to 0.98040, saving model to weights.iter2.best.hdf5\n",
            "Epoch 3/30\n",
            "60000/60000 [==============================] - 21s 346us/step - loss: 0.0611 - acc: 0.9811 - val_loss: 0.0629 - val_acc: 0.9805\n",
            "\n",
            "Epoch 00003: val_acc improved from 0.98040 to 0.98050, saving model to weights.iter2.best.hdf5\n",
            "Epoch 4/30\n",
            "60000/60000 [==============================] - 19s 323us/step - loss: 0.0494 - acc: 0.9840 - val_loss: 0.0373 - val_acc: 0.9877\n",
            "\n",
            "Epoch 00004: val_acc improved from 0.98050 to 0.98770, saving model to weights.iter2.best.hdf5\n",
            "Epoch 5/30\n",
            "60000/60000 [==============================] - 20s 339us/step - loss: 0.0439 - acc: 0.9864 - val_loss: 0.0412 - val_acc: 0.9871\n",
            "\n",
            "Epoch 00005: val_acc did not improve from 0.98770\n",
            "Epoch 6/30\n",
            "60000/60000 [==============================] - 22s 371us/step - loss: 0.0386 - acc: 0.9873 - val_loss: 0.0432 - val_acc: 0.9855\n",
            "\n",
            "Epoch 00006: val_acc did not improve from 0.98770\n",
            "Epoch 7/30\n",
            "60000/60000 [==============================] - 20s 336us/step - loss: 0.0344 - acc: 0.9894 - val_loss: 0.0324 - val_acc: 0.9898\n",
            "\n",
            "Epoch 00007: val_acc improved from 0.98770 to 0.98980, saving model to weights.iter2.best.hdf5\n",
            "Epoch 8/30\n",
            "60000/60000 [==============================] - 19s 323us/step - loss: 0.0312 - acc: 0.9903 - val_loss: 0.0369 - val_acc: 0.9883\n",
            "\n",
            "Epoch 00008: val_acc did not improve from 0.98980\n",
            "Epoch 9/30\n",
            "60000/60000 [==============================] - 20s 329us/step - loss: 0.0291 - acc: 0.9908 - val_loss: 0.0473 - val_acc: 0.9860\n",
            "\n",
            "Epoch 00009: val_acc did not improve from 0.98980\n",
            "Epoch 10/30\n",
            "60000/60000 [==============================] - 20s 339us/step - loss: 0.0265 - acc: 0.9917 - val_loss: 0.0305 - val_acc: 0.9911\n",
            "\n",
            "Epoch 00010: val_acc improved from 0.98980 to 0.99110, saving model to weights.iter2.best.hdf5\n",
            "Epoch 11/30\n",
            "60000/60000 [==============================] - 20s 328us/step - loss: 0.0230 - acc: 0.9925 - val_loss: 0.0372 - val_acc: 0.9890\n",
            "\n",
            "Epoch 00011: val_acc did not improve from 0.99110\n",
            "Epoch 12/30\n",
            "60000/60000 [==============================] - 20s 330us/step - loss: 0.0234 - acc: 0.9923 - val_loss: 0.0375 - val_acc: 0.9875\n",
            "\n",
            "Epoch 00012: val_acc did not improve from 0.99110\n",
            "Epoch 13/30\n",
            "60000/60000 [==============================] - 20s 329us/step - loss: 0.0217 - acc: 0.9927 - val_loss: 0.0318 - val_acc: 0.9903\n",
            "\n",
            "Epoch 00013: val_acc did not improve from 0.99110\n",
            "Epoch 14/30\n",
            "60000/60000 [==============================] - 21s 347us/step - loss: 0.0193 - acc: 0.9936 - val_loss: 0.0315 - val_acc: 0.9908\n",
            "\n",
            "Epoch 00014: val_acc did not improve from 0.99110\n",
            "Epoch 15/30\n",
            "60000/60000 [==============================] - 20s 337us/step - loss: 0.0188 - acc: 0.9940 - val_loss: 0.0353 - val_acc: 0.9907\n",
            "\n",
            "Epoch 00015: val_acc did not improve from 0.99110\n",
            "Epoch 16/30\n",
            "60000/60000 [==============================] - 20s 341us/step - loss: 0.0177 - acc: 0.9942 - val_loss: 0.0364 - val_acc: 0.9898\n",
            "\n",
            "Epoch 00016: val_acc did not improve from 0.99110\n",
            "Epoch 17/30\n",
            "60000/60000 [==============================] - 20s 334us/step - loss: 0.0175 - acc: 0.9943 - val_loss: 0.0326 - val_acc: 0.9900\n",
            "\n",
            "Epoch 00017: val_acc did not improve from 0.99110\n",
            "Epoch 18/30\n",
            "60000/60000 [==============================] - 21s 342us/step - loss: 0.0167 - acc: 0.9945 - val_loss: 0.0374 - val_acc: 0.9896\n",
            "\n",
            "Epoch 00018: val_acc did not improve from 0.99110\n",
            "Epoch 19/30\n",
            "60000/60000 [==============================] - 20s 332us/step - loss: 0.0146 - acc: 0.9952 - val_loss: 0.0319 - val_acc: 0.9902\n",
            "\n",
            "Epoch 00019: val_acc did not improve from 0.99110\n",
            "Epoch 20/30\n",
            "60000/60000 [==============================] - 20s 327us/step - loss: 0.0149 - acc: 0.9952 - val_loss: 0.0397 - val_acc: 0.9897\n",
            "\n",
            "Epoch 00020: val_acc did not improve from 0.99110\n",
            "Epoch 21/30\n",
            "60000/60000 [==============================] - 21s 348us/step - loss: 0.0144 - acc: 0.9953 - val_loss: 0.0351 - val_acc: 0.9904\n",
            "\n",
            "Epoch 00021: val_acc did not improve from 0.99110\n",
            "Epoch 22/30\n",
            "60000/60000 [==============================] - 21s 349us/step - loss: 0.0132 - acc: 0.9954 - val_loss: 0.0381 - val_acc: 0.9903\n",
            "\n",
            "Epoch 00022: val_acc did not improve from 0.99110\n",
            "Epoch 23/30\n",
            "60000/60000 [==============================] - 19s 317us/step - loss: 0.0149 - acc: 0.9948 - val_loss: 0.0454 - val_acc: 0.9874\n",
            "\n",
            "Epoch 00023: val_acc did not improve from 0.99110\n",
            "Epoch 24/30\n",
            "60000/60000 [==============================] - 19s 325us/step - loss: 0.0131 - acc: 0.9958 - val_loss: 0.0408 - val_acc: 0.9905\n",
            "\n",
            "Epoch 00024: val_acc did not improve from 0.99110\n",
            "Epoch 25/30\n",
            "60000/60000 [==============================] - 20s 329us/step - loss: 0.0127 - acc: 0.9958 - val_loss: 0.0470 - val_acc: 0.9879\n",
            "\n",
            "Epoch 00025: val_acc did not improve from 0.99110\n",
            "Epoch 26/30\n",
            "60000/60000 [==============================] - 20s 338us/step - loss: 0.0123 - acc: 0.9960 - val_loss: 0.0347 - val_acc: 0.9911\n",
            "\n",
            "Epoch 00026: val_acc did not improve from 0.99110\n",
            "Epoch 27/30\n",
            "60000/60000 [==============================] - 20s 330us/step - loss: 0.0114 - acc: 0.9960 - val_loss: 0.0413 - val_acc: 0.9893\n",
            "\n",
            "Epoch 00027: val_acc did not improve from 0.99110\n",
            "Epoch 28/30\n",
            "60000/60000 [==============================] - 20s 335us/step - loss: 0.0117 - acc: 0.9960 - val_loss: 0.0469 - val_acc: 0.9893\n",
            "\n",
            "Epoch 00028: val_acc did not improve from 0.99110\n",
            "Epoch 29/30\n",
            "60000/60000 [==============================] - 19s 322us/step - loss: 0.0107 - acc: 0.9966 - val_loss: 0.0503 - val_acc: 0.9885\n",
            "\n",
            "Epoch 00029: val_acc did not improve from 0.99110\n",
            "Epoch 30/30\n",
            "60000/60000 [==============================] - 19s 320us/step - loss: 0.0101 - acc: 0.9967 - val_loss: 0.0410 - val_acc: 0.9892\n",
            "\n",
            "Epoch 00030: val_acc did not improve from 0.99110\n"
          ],
          "name": "stdout"
        },
        {
          "output_type": "execute_result",
          "data": {
            "text/plain": [
              "<keras.callbacks.History at 0x7fbf5faab9e8>"
            ]
          },
          "metadata": {
            "tags": []
          },
          "execution_count": 13
        }
      ]
    },
    {
      "cell_type": "markdown",
      "metadata": {
        "id": "wt5aXk9OGcVk",
        "colab_type": "text"
      },
      "source": [
        "In the following section we set up functionality to keep track of the best model ( measured by validation accuracy ) seen so far and store its parameters to a file.\n",
        "\n",
        "```\n",
        "from keras.callbacks import ModelCheckpoint\n",
        "filepath=\"weights.best.hdf5\"\n",
        "checkpoint = ModelCheckpoint(filepath, monitor='val_acc', verbose=1, save_best_only=True, mode='max')\n",
        "callbacks_list = [checkpoint]\n",
        "```\n",
        "This functionality is implemented through a callback function. This function gets called at the end of every epoch. The checkpoint function/object measures the validation accuracy ( specified through val_acc ), keeps track of the best so far and stores the latest model after the epoch if it beats the current best.\n",
        "\n",
        "After 30 epochs, the max validation accuracy reached was 99.11%."
      ]
    },
    {
      "cell_type": "code",
      "metadata": {
        "id": "p8F0TvhCla86",
        "colab_type": "code",
        "colab": {}
      },
      "source": [
        "model.load_weights(\"weights.iter2.best.hdf5\")\n",
        "model.compile(loss='categorical_crossentropy', optimizer='adam', metrics=['accuracy'])"
      ],
      "execution_count": 0,
      "outputs": []
    },
    {
      "cell_type": "markdown",
      "metadata": {
        "id": "VddwEnLbcr96",
        "colab_type": "text"
      },
      "source": [
        "Loading the best model weights ( according to validation accuracty ) stored during the training phase"
      ]
    },
    {
      "cell_type": "code",
      "metadata": {
        "id": "AtsH-lLk-eLb",
        "colab_type": "code",
        "colab": {}
      },
      "source": [
        "score = model.evaluate(X_test, Y_test, verbose=0)"
      ],
      "execution_count": 0,
      "outputs": []
    },
    {
      "cell_type": "markdown",
      "metadata": {
        "id": "-mwPViLSc1vy",
        "colab_type": "text"
      },
      "source": [
        "Evaluate the model on the testing dataset"
      ]
    },
    {
      "cell_type": "code",
      "metadata": {
        "id": "mkX8JMv79q9r",
        "colab_type": "code",
        "outputId": "45c9a052-b8d8-4b91-e977-6652b155f492",
        "colab": {
          "base_uri": "https://localhost:8080/",
          "height": 34
        }
      },
      "source": [
        "print(score)"
      ],
      "execution_count": 16,
      "outputs": [
        {
          "output_type": "stream",
          "text": [
            "[0.03052619675468595, 0.9911]\n"
          ],
          "name": "stdout"
        }
      ]
    },
    {
      "cell_type": "markdown",
      "metadata": {
        "id": "AbI5Ga7Sc529",
        "colab_type": "text"
      },
      "source": [
        "Printing the score of the model on the testing dataset. The first number is the value of the loss function. The latter is the test accuracy."
      ]
    },
    {
      "cell_type": "code",
      "metadata": {
        "id": "FNxbpnu4oxXQ",
        "colab_type": "code",
        "outputId": "f4d9706c-7e50-4915-b29e-d81e96a18f06",
        "colab": {
          "base_uri": "https://localhost:8080/",
          "height": 34
        }
      },
      "source": [
        "model.evaluate(X_train, Y_train, verbose=0)"
      ],
      "execution_count": 17,
      "outputs": [
        {
          "output_type": "execute_result",
          "data": {
            "text/plain": [
              "[0.020098386924987426, 0.9938666666666667]"
            ]
          },
          "metadata": {
            "tags": []
          },
          "execution_count": 17
        }
      ]
    },
    {
      "cell_type": "markdown",
      "metadata": {
        "id": "otCfVbNNdCsP",
        "colab_type": "text"
      },
      "source": [
        "Evaluating the model on the training dataset to see what the achieved training accuracy is. Surprisingly this number doesnt match with the number printed last in the training logs. I dont understand why there is a discrepancy"
      ]
    },
    {
      "cell_type": "code",
      "metadata": {
        "id": "OCWoJkwE9suh",
        "colab_type": "code",
        "colab": {}
      },
      "source": [
        "y_pred = model.predict(X_test)"
      ],
      "execution_count": 0,
      "outputs": []
    },
    {
      "cell_type": "markdown",
      "metadata": {
        "id": "LmxXIct7dIvc",
        "colab_type": "text"
      },
      "source": [
        "Computing the predicted classifications for the testing dataset"
      ]
    },
    {
      "cell_type": "code",
      "metadata": {
        "id": "Ym7iCFBm9uBs",
        "colab_type": "code",
        "outputId": "9db5158d-f7da-4aa7-9077-b66497609c8b",
        "colab": {
          "base_uri": "https://localhost:8080/",
          "height": 487
        }
      },
      "source": [
        "print(y_pred[:9])\n",
        "print(y_test[:9])"
      ],
      "execution_count": 19,
      "outputs": [
        {
          "output_type": "stream",
          "text": [
            "[[9.10484362e-12 5.83305140e-11 6.31283958e-09 4.10064338e-08\n",
            "  1.11776488e-09 1.79431058e-12 7.20912254e-19 9.99999881e-01\n",
            "  4.54265319e-08 8.94988332e-08]\n",
            " [5.69737111e-08 1.18849229e-07 9.99999642e-01 3.19230908e-09\n",
            "  5.22517105e-08 3.37702262e-12 7.36625161e-09 1.30025608e-08\n",
            "  6.68452387e-08 2.72520857e-13]\n",
            " [5.02039029e-07 9.99812305e-01 2.23287338e-06 6.36250519e-09\n",
            "  6.62070015e-05 1.56537624e-07 2.18334253e-06 4.72768988e-05\n",
            "  6.83153412e-05 8.13110432e-07]\n",
            " [9.99997377e-01 2.46393672e-13 8.77266615e-09 1.01408126e-13\n",
            "  1.19932939e-10 2.45225031e-08 2.65734434e-06 6.06755063e-11\n",
            "  1.01884154e-08 5.40928280e-09]\n",
            " [1.26727101e-12 1.19431912e-11 3.06612935e-09 2.13099923e-13\n",
            "  9.99990582e-01 2.65447414e-10 4.79204065e-10 6.24745394e-12\n",
            "  3.33994166e-08 9.41170219e-06]\n",
            " [5.82659574e-08 9.99981999e-01 6.73328557e-08 5.04808140e-11\n",
            "  3.03772163e-06 3.36486150e-09 9.53022052e-08 6.27664031e-06\n",
            "  8.23137452e-06 2.06464392e-07]\n",
            " [2.70251351e-13 1.58280766e-08 7.14961175e-07 2.28582832e-13\n",
            "  9.99987245e-01 4.21978535e-10 2.36504508e-14 4.75546287e-08\n",
            "  9.24509663e-07 1.11163936e-05]\n",
            " [6.17709703e-11 1.50894280e-11 1.47980463e-08 2.55065430e-07\n",
            "  3.25250323e-04 1.69260966e-06 1.08452934e-15 4.81469886e-09\n",
            "  1.23973105e-05 9.99660373e-01]\n",
            " [5.50276269e-08 6.72825944e-13 4.97677455e-09 3.37724404e-09\n",
            "  8.10869483e-10 9.98236060e-01 7.79571128e-04 1.71474502e-13\n",
            "  9.83989215e-04 1.93142213e-07]]\n",
            "[7 2 1 0 4 1 4 9 5]\n"
          ],
          "name": "stdout"
        }
      ]
    },
    {
      "cell_type": "markdown",
      "metadata": {
        "id": "yXx-vpw7dPRd",
        "colab_type": "text"
      },
      "source": [
        "Comparing the labels computed by our model and that given in the dataset.\n",
        "\n",
        "Note that for the first element, the target label in the dataset is 11. The output by the model, is in the categorical form described earlier. One can see that first output peaks at index 8 which corresponds to the digit 7."
      ]
    },
    {
      "cell_type": "code",
      "metadata": {
        "id": "CT--y98_dr2T",
        "colab_type": "code",
        "colab": {}
      },
      "source": [
        "layer_dict = dict([(layer.name, layer) for layer in model.layers])"
      ],
      "execution_count": 0,
      "outputs": []
    },
    {
      "cell_type": "markdown",
      "metadata": {
        "id": "P_aFWrMHeGpC",
        "colab_type": "text"
      },
      "source": [
        "Copying the layers in a dict for visualization in the next step"
      ]
    },
    {
      "cell_type": "code",
      "metadata": {
        "id": "2GY4Upv4dsUR",
        "colab_type": "code",
        "colab": {}
      },
      "source": [
        "import numpy as np\n",
        "from matplotlib import pyplot as plt\n",
        "from keras import backend as K\n",
        "%matplotlib inline\n",
        "# util function to convert a tensor into a valid image\n",
        "def deprocess_image(x):\n",
        "    # normalize tensor: center on 0., ensure std is 0.1\n",
        "    x -= x.mean()\n",
        "    x /= (x.std() + 1e-5)\n",
        "    x *= 0.1\n",
        "\n",
        "    # clip to [0, 1]\n",
        "    x += 0.5\n",
        "    x = np.clip(x, 0, 1)\n",
        "\n",
        "    # convert to RGB array\n",
        "    x *= 255\n",
        "    #x = x.transpose((1, 2, 0))\n",
        "    x = np.clip(x, 0, 255).astype('uint8')\n",
        "    return x\n",
        "\n",
        "def vis_img_in_filter(img = np.array(X_train[2]).reshape((1, 28, 28, 1)).astype(np.float64), \n",
        "                      layer_name = 'conv2d_14'):\n",
        "    layer_output = layer_dict[layer_name].output\n",
        "    img_ascs = list()\n",
        "    for filter_index in range(layer_output.shape[3]):\n",
        "        # build a loss function that maximizes the activation\n",
        "        # of the nth filter of the layer considered\n",
        "        loss = K.mean(layer_output[:, :, :, filter_index])\n",
        "\n",
        "        # compute the gradient of the input picture wrt this loss\n",
        "        grads = K.gradients(loss, model.input)[0]\n",
        "\n",
        "        # normalization trick: we normalize the gradient\n",
        "        grads /= (K.sqrt(K.mean(K.square(grads))) + 1e-5)\n",
        "\n",
        "        # this function returns the loss and grads given the input picture\n",
        "        iterate = K.function([model.input], [loss, grads])\n",
        "\n",
        "        # step size for gradient ascent\n",
        "        step = 5.\n",
        "\n",
        "        img_asc = np.array(img)\n",
        "        # run gradient ascent for 20 steps\n",
        "        for i in range(20):\n",
        "            loss_value, grads_value = iterate([img_asc])\n",
        "            img_asc += grads_value * step\n",
        "\n",
        "        img_asc = img_asc[0]\n",
        "        img_ascs.append(deprocess_image(img_asc).reshape((28, 28)))\n",
        "        \n",
        "    if layer_output.shape[3] >= 35:\n",
        "        plot_x, plot_y = 6, 6\n",
        "    elif layer_output.shape[3] >= 23:\n",
        "        plot_x, plot_y = 4, 6\n",
        "    elif layer_output.shape[3] >= 11:\n",
        "        plot_x, plot_y = 2, 6\n",
        "    else:\n",
        "        plot_x, plot_y = 1, 2\n",
        "    fig, ax = plt.subplots(plot_x, plot_y, figsize = (12, 12))\n",
        "    ax[0, 0].imshow(img.reshape((28, 28)), cmap = 'gray')\n",
        "    ax[0, 0].set_title('Input image')\n",
        "    fig.suptitle('Input image and %s filters' % (layer_name,))\n",
        "    fig.tight_layout(pad = 0.3, rect = [0, 0, 0.9, 0.9])\n",
        "    for (x, y) in [(i, j) for i in range(plot_x) for j in range(plot_y)]:\n",
        "        if x == 0 and y == 0:\n",
        "            continue\n",
        "        ax[x, y].imshow(img_ascs[x * plot_y + y - 1], cmap = 'gray')\n",
        "        ax[x, y].set_title('filter %d' % (x * plot_y + y - 1))"
      ],
      "execution_count": 0,
      "outputs": []
    },
    {
      "cell_type": "markdown",
      "metadata": {
        "id": "9e-QiggGerDS",
        "colab_type": "text"
      },
      "source": [
        "Predefined function for visualizing how an image is processed by a particular layer in the network."
      ]
    },
    {
      "cell_type": "code",
      "metadata": {
        "id": "wRHK7kqZFcYI",
        "colab_type": "code",
        "outputId": "f889d930-2718-438a-f9dd-f029f1aa6640",
        "colab": {
          "base_uri": "https://localhost:8080/",
          "height": 741
        }
      },
      "source": [
        "vis_img_in_filter(img = np.array(X_train[2]).reshape((1, 28, 28, 1)).astype(np.float64), layer_name = 'conv2d_7')"
      ],
      "execution_count": 22,
      "outputs": [
        {
          "output_type": "display_data",
          "data": {
            "image/png": "[encoded data removed]",
            "text/plain": [
              "<Figure size 864x864 with 12 Axes>"
            ]
          },
          "metadata": {
            "tags": []
          }
        }
      ]
    },
    {
      "cell_type": "markdown",
      "metadata": {
        "id": "m5pzvtnneymo",
        "colab_type": "text"
      },
      "source": [
        "Visualization of the 7th convolution layer ( 3x3x10x32 kernel ). One can see that the exact input image itself shows up in many kernels. This is surprising. I currently dont understand the significance of it"
      ]
    }
  ]
}