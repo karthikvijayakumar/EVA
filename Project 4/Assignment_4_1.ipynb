{
  "nbformat": 4,
  "nbformat_minor": 0,
  "metadata": {
    "colab": {
      "name": "Assignment 4_1.ipynb",
      "version": "0.3.2",
      "provenance": [],
      "collapsed_sections": [],
      "include_colab_link": true
    },
    "kernelspec": {
      "name": "python3",
      "display_name": "Python 3"
    },
    "accelerator": "GPU"
  },
  "cells": [
    {
      "cell_type": "markdown",
      "metadata": {
        "id": "view-in-github",
        "colab_type": "text"
      },
      "source": [
        "<a href=\"https://colab.research.google.com/github/karthikvijayakumar/EVA/blob/vijkar_development/Project%204/Assignment_4_1.ipynb\" target=\"_parent\"><img src=\"https://colab.research.google.com/assets/colab-badge.svg\" alt=\"Open In Colab\"/></a>"
      ]
    },
    {
      "cell_type": "markdown",
      "metadata": {
        "id": "39eMVOfdDJ6I",
        "colab_type": "text"
      },
      "source": [
        "# First iteration\n",
        "\n",
        "This is the first iteration towards building our model for the MNIST dataset. In this notebook we would build a barebones neural network model that only uses convolutions and max pooling layers. The description and thought process behind the model is described.\n",
        "\n",
        "### High level stats:\n",
        "\n",
        "Total number of params: 7,778\n",
        "<br>Total number of trainable params: 7,778\n",
        "<br>Validation accuracy: 98.8%\n",
        "<br>Training accuracy: 99.62%"
      ]
    },
    {
      "cell_type": "markdown",
      "metadata": {
        "id": "aNyZv-Ec52ot",
        "colab_type": "text"
      },
      "source": [
        "# **Import Libraries and modules**"
      ]
    },
    {
      "cell_type": "code",
      "metadata": {
        "id": "3m3w1Cw49Zkt",
        "colab_type": "code",
        "outputId": "0d70f2b8-2b09-4bb0-a967-074fd8086570",
        "colab": {
          "base_uri": "https://localhost:8080/",
          "height": 34
        }
      },
      "source": [
        "# https://keras.io/\n",
        "!pip install -q keras\n",
        "import keras"
      ],
      "execution_count": 1,
      "outputs": [
        {
          "output_type": "stream",
          "text": [
            "Using TensorFlow backend.\n"
          ],
          "name": "stderr"
        }
      ]
    },
    {
      "cell_type": "markdown",
      "metadata": {
        "id": "W8TuvCMEI5bz",
        "colab_type": "text"
      },
      "source": [
        "Installing Keras and importing into current runtime environment"
      ]
    },
    {
      "cell_type": "code",
      "metadata": {
        "id": "Eso6UHE080D4",
        "colab_type": "code",
        "colab": {}
      },
      "source": [
        "import numpy as np\n",
        "\n",
        "from keras.models import Sequential\n",
        "from keras.layers import Dense, Dropout, Activation, Flatten, Add\n",
        "from keras.layers import Convolution2D, MaxPooling2D\n",
        "from keras.utils import np_utils\n",
        "\n",
        "from keras.datasets import mnist"
      ],
      "execution_count": 0,
      "outputs": []
    },
    {
      "cell_type": "markdown",
      "metadata": {
        "id": "Y0u5KVe7JBFn",
        "colab_type": "text"
      },
      "source": [
        "Importing libraries and functions required for the program"
      ]
    },
    {
      "cell_type": "markdown",
      "metadata": {
        "id": "zByEi95J86RD",
        "colab_type": "text"
      },
      "source": [
        "### Load pre-shuffled MNIST data into train and test sets"
      ]
    },
    {
      "cell_type": "code",
      "metadata": {
        "id": "7eRM0QWN83PV",
        "colab_type": "code",
        "colab": {
          "base_uri": "https://localhost:8080/",
          "height": 50
        },
        "outputId": "7fd1daa2-f25b-4a9e-8311-065860b0a417"
      },
      "source": [
        "(X_train, y_train), (X_test, y_test) = mnist.load_data()"
      ],
      "execution_count": 3,
      "outputs": [
        {
          "output_type": "stream",
          "text": [
            "Downloading data from https://s3.amazonaws.com/img-datasets/mnist.npz\n",
            "11493376/11490434 [==============================] - 1s 0us/step\n"
          ],
          "name": "stdout"
        }
      ]
    },
    {
      "cell_type": "markdown",
      "metadata": {
        "id": "iGsh_aQ1J3OS",
        "colab_type": "text"
      },
      "source": [
        "Loading the MNIST dataset. Note that this dataset comes with a ready made train and test set."
      ]
    },
    {
      "cell_type": "code",
      "metadata": {
        "id": "4a4Be72j8-ZC",
        "colab_type": "code",
        "outputId": "874b48f4-3e0e-455d-c8c5-d843e0331321",
        "colab": {
          "base_uri": "https://localhost:8080/",
          "height": 302
        }
      },
      "source": [
        "print (X_train.shape)\n",
        "from matplotlib import pyplot as plt\n",
        "%matplotlib inline\n",
        "plt.imshow(X_train[0])"
      ],
      "execution_count": 4,
      "outputs": [
        {
          "output_type": "stream",
          "text": [
            "(60000, 28, 28)\n"
          ],
          "name": "stdout"
        },
        {
          "output_type": "execute_result",
          "data": {
            "text/plain": [
              "<matplotlib.image.AxesImage at 0x7fb25b0092b0>"
            ]
          },
          "metadata": {
            "tags": []
          },
          "execution_count": 4
        },
        {
          "output_type": "display_data",
          "data": {
            "image/png": "[encoded data removed]",
            "text/plain": [
              "<Figure size 432x288 with 1 Axes>"
            ]
          },
          "metadata": {
            "tags": []
          }
        }
      ]
    },
    {
      "cell_type": "markdown",
      "metadata": {
        "id": "vlxccYctJ_be",
        "colab_type": "text"
      },
      "source": [
        "Visualizing the first training image"
      ]
    },
    {
      "cell_type": "code",
      "metadata": {
        "id": "dkmprriw9AnZ",
        "colab_type": "code",
        "colab": {}
      },
      "source": [
        "X_train = X_train.reshape(X_train.shape[0], 28, 28,1)\n",
        "X_test = X_test.reshape(X_test.shape[0], 28, 28,1)"
      ],
      "execution_count": 0,
      "outputs": []
    },
    {
      "cell_type": "markdown",
      "metadata": {
        "id": "l-vkWkDfKDDC",
        "colab_type": "text"
      },
      "source": [
        "Reshaping images from 28x28 to 28x28x1. This change needs to be done since convolution expects a 3 dimensional matrix."
      ]
    },
    {
      "cell_type": "code",
      "metadata": {
        "id": "X2m4YS4E9CRh",
        "colab_type": "code",
        "colab": {}
      },
      "source": [
        "X_train = X_train.astype('float32')\n",
        "X_test = X_test.astype('float32')\n",
        "X_train /= 255\n",
        "X_test /= 255"
      ],
      "execution_count": 0,
      "outputs": []
    },
    {
      "cell_type": "markdown",
      "metadata": {
        "id": "1Q_oAEhuKOqU",
        "colab_type": "text"
      },
      "source": [
        "Bringing the values of pixels to 0-255"
      ]
    },
    {
      "cell_type": "code",
      "metadata": {
        "id": "0Mn0vAYD9DvB",
        "colab_type": "code",
        "outputId": "4047af78-1902-4da5-dd3d-2293934febd1",
        "colab": {
          "base_uri": "https://localhost:8080/",
          "height": 34
        }
      },
      "source": [
        "y_train[:10]"
      ],
      "execution_count": 7,
      "outputs": [
        {
          "output_type": "execute_result",
          "data": {
            "text/plain": [
              "array([5, 0, 4, 1, 9, 2, 1, 3, 1, 4], dtype=uint8)"
            ]
          },
          "metadata": {
            "tags": []
          },
          "execution_count": 7
        }
      ]
    },
    {
      "cell_type": "markdown",
      "metadata": {
        "id": "jlCvUDE1KT9P",
        "colab_type": "text"
      },
      "source": [
        "Checking out the first ten labels on the training set. Note that these are numbers at this point. More importantly these numbers have an ordinality amongst them"
      ]
    },
    {
      "cell_type": "code",
      "metadata": {
        "id": "ZG8JiXR39FHC",
        "colab_type": "code",
        "colab": {}
      },
      "source": [
        "# Convert 1-dimensional class arrays to 10-dimensional class matrices\n",
        "Y_train = np_utils.to_categorical(y_train, 10)\n",
        "Y_test = np_utils.to_categorical(y_test, 10)"
      ],
      "execution_count": 0,
      "outputs": []
    },
    {
      "cell_type": "markdown",
      "metadata": {
        "id": "L29eBlgYPcRo",
        "colab_type": "text"
      },
      "source": [
        "Converting the numerical labels to categorical values. This is important since the classes 0-9 are just different classes and have no inherent order amongst them ( i.e 7 is not a lesser class than 8 in any way with respect to digit classification )"
      ]
    },
    {
      "cell_type": "code",
      "metadata": {
        "id": "fYlFRvKS9HMB",
        "colab_type": "code",
        "outputId": "e4a6f9c6-c3fa-44fa-ea58-bd7cc829f0b5",
        "colab": {
          "base_uri": "https://localhost:8080/",
          "height": 185
        }
      },
      "source": [
        "Y_train[:10]"
      ],
      "execution_count": 9,
      "outputs": [
        {
          "output_type": "execute_result",
          "data": {
            "text/plain": [
              "array([[0., 0., 0., 0., 0., 1., 0., 0., 0., 0.],\n",
              "       [1., 0., 0., 0., 0., 0., 0., 0., 0., 0.],\n",
              "       [0., 0., 0., 0., 1., 0., 0., 0., 0., 0.],\n",
              "       [0., 1., 0., 0., 0., 0., 0., 0., 0., 0.],\n",
              "       [0., 0., 0., 0., 0., 0., 0., 0., 0., 1.],\n",
              "       [0., 0., 1., 0., 0., 0., 0., 0., 0., 0.],\n",
              "       [0., 1., 0., 0., 0., 0., 0., 0., 0., 0.],\n",
              "       [0., 0., 0., 1., 0., 0., 0., 0., 0., 0.],\n",
              "       [0., 1., 0., 0., 0., 0., 0., 0., 0., 0.],\n",
              "       [0., 0., 0., 0., 1., 0., 0., 0., 0., 0.]], dtype=float32)"
            ]
          },
          "metadata": {
            "tags": []
          },
          "execution_count": 9
        }
      ]
    },
    {
      "cell_type": "markdown",
      "metadata": {
        "id": "bJOar7DqPurN",
        "colab_type": "text"
      },
      "source": [
        "Seeing the categorical representation of the labels for the first ten training images"
      ]
    },
    {
      "cell_type": "code",
      "metadata": {
        "id": "osKqT73Q9JJB",
        "colab_type": "code",
        "outputId": "949bac3b-8191-496a-e754-4c415a4862c4",
        "colab": {
          "base_uri": "https://localhost:8080/",
          "height": 87
        }
      },
      "source": [
        "from keras.layers import Activation, BatchNormalization, Dropout\n",
        "dropout_rate = 0.5\n",
        "\n",
        "\n",
        "model = Sequential()\n",
        "\n",
        "# Convolution block \n",
        "model.add(Convolution2D(10, (3, 3), activation='relu', input_shape=(28,28,1))) #3x3x1x10 kernel - 26x26x10 image - Receptive Field 3x3\n",
        "model.add(Convolution2D(16, (3, 3), activation='relu')) # 3x3x10x16 kernel - 24x24x16 image - Receptive Field 5x5\n",
        "\n",
        "# Transition block\n",
        "model.add(MaxPooling2D(pool_size=(2, 2))) # Max pooling layer - 12x12x16 image - Receptive Field 10x10\n",
        "model.add(Convolution2D(10, (1,1), activation='relu')) # 1x1x16x8 kernel - 12x12x8 image - Receptive Field 10x10\n",
        "\n",
        "#Convolution block\n",
        "model.add(Convolution2D(16, (3, 3), activation='relu')) # 3x3x8x16 kernel - 10x10x16 image - Receptive Field 12x12\n",
        "model.add(Convolution2D(16, (3, 3), activation='relu')) # 3x3x16x16 kernel - 8x8x16 image - Receptive Field 14x14\n",
        "\n",
        "# Transition block\n",
        "model.add(MaxPooling2D(pool_size=(2, 2))) # Max pooling layer - 4x4x16 image - Receptive Field 28x28\n",
        "model.add(Convolution2D(10, (1,1), activation='relu')) # 1x1x16x8 kernel - 4x4x10 image - Receptive Field 28x28\n",
        "\n",
        "#Convolution block\n",
        "model.add(Convolution2D(16, (3, 3), activation='relu')) # 3x3x16x16 kernel - 2x2x16 image - Receptive Field 28x28\n",
        "\n",
        "model.add(Convolution2D(10, (2, 2))) # 2x2x16x10 kernel - 1x1x10 image\n",
        "\n",
        "model.add(Flatten())\n",
        "model.add(Activation('softmax'))"
      ],
      "execution_count": 10,
      "outputs": [
        {
          "output_type": "stream",
          "text": [
            "WARNING:tensorflow:From /usr/local/lib/python3.6/dist-packages/tensorflow/python/framework/op_def_library.py:263: colocate_with (from tensorflow.python.framework.ops) is deprecated and will be removed in a future version.\n",
            "Instructions for updating:\n",
            "Colocations handled automatically by placer.\n"
          ],
          "name": "stdout"
        }
      ]
    },
    {
      "cell_type": "markdown",
      "metadata": {
        "id": "P3TZOpxxQlVy",
        "colab_type": "text"
      },
      "source": [
        "Defining the model.\n",
        "\n",
        "The thought process behind the architecture was to constantly and aggressively decrease the size of the image from 28x28 to 1x1 through convolutions. This has 2 benefits:\n",
        "\n",
        "1. We neatly bring the image dimension from 28x28 to 1x1, flatten the image and produce  ing and getting a classification output but also allows the output layer to have a receptive field equal to the full image. Hence, I used a series of 3x3 convolutions\n",
        "\n",
        "Couple of things to note:\n",
        "\n",
        "1. Once a 2x2 image size was reached, it didnt make sense to use a 3x3 and then a 1x1 to get to 10 outputs, hence used a 2x2 convolution to directly get to 10 outputs.\n",
        "2. Why 16 channels in most places?\n",
        "<br>I started with 16 and 32 channel repetitions and found the number of params crossed the given limit of 15k. Also in the 4th session I noticed architectures with a series of 16 channel layers that worked pretty well. I tried it out, it seemed to have enough expressivity and worked ( produced a validation accuracy of close to 90% )\n",
        "3. Could we go smaller ( in terms of #layers )?\n",
        "<br> This is the least number of layers to go from 28x28 to 1x1 through convolutions theoretically. May be one could go smaller in terms of params, but unlikely in number of layers.\n",
        "4. Receptive field and design choices\n",
        "<br>A receptive field of 28x28 was achieved 3-4 layers before the last layer in a max pooling layer. However we want the max pooling to be 2-3 layers away from the output layer, hence I added \n",
        "4. What other architectures did I consider?\n",
        "<br> In assignment 3 I had taken 4 3x3 convolutions in each convolution block. While that certainly worked it lead to more parameters in the model and a slower drop in image size. Given the lower #params constraint now, I tried to aggressively decrease the image size further. I did not try 3 convolutions per convolution block, though likely it may have performed well."
      ]
    },
    {
      "cell_type": "code",
      "metadata": {
        "id": "TzdAYg1k9K7Z",
        "colab_type": "code",
        "outputId": "1baee715-536a-4ba4-87db-7d5984917328",
        "colab": {
          "base_uri": "https://localhost:8080/",
          "height": 538
        }
      },
      "source": [
        "model.summary()"
      ],
      "execution_count": 11,
      "outputs": [
        {
          "output_type": "stream",
          "text": [
            "_________________________________________________________________\n",
            "Layer (type)                 Output Shape              Param #   \n",
            "=================================================================\n",
            "conv2d_1 (Conv2D)            (None, 26, 26, 10)        100       \n",
            "_________________________________________________________________\n",
            "conv2d_2 (Conv2D)            (None, 24, 24, 16)        1456      \n",
            "_________________________________________________________________\n",
            "max_pooling2d_1 (MaxPooling2 (None, 12, 12, 16)        0         \n",
            "_________________________________________________________________\n",
            "conv2d_3 (Conv2D)            (None, 12, 12, 10)        170       \n",
            "_________________________________________________________________\n",
            "conv2d_4 (Conv2D)            (None, 10, 10, 16)        1456      \n",
            "_________________________________________________________________\n",
            "conv2d_5 (Conv2D)            (None, 8, 8, 16)          2320      \n",
            "_________________________________________________________________\n",
            "max_pooling2d_2 (MaxPooling2 (None, 4, 4, 16)          0         \n",
            "_________________________________________________________________\n",
            "conv2d_6 (Conv2D)            (None, 4, 4, 10)          170       \n",
            "_________________________________________________________________\n",
            "conv2d_7 (Conv2D)            (None, 2, 2, 16)          1456      \n",
            "_________________________________________________________________\n",
            "conv2d_8 (Conv2D)            (None, 1, 1, 10)          650       \n",
            "_________________________________________________________________\n",
            "flatten_1 (Flatten)          (None, 10)                0         \n",
            "_________________________________________________________________\n",
            "activation_1 (Activation)    (None, 10)                0         \n",
            "=================================================================\n",
            "Total params: 7,778\n",
            "Trainable params: 7,778\n",
            "Non-trainable params: 0\n",
            "_________________________________________________________________\n"
          ],
          "name": "stdout"
        }
      ]
    },
    {
      "cell_type": "code",
      "metadata": {
        "id": "Zp6SuGrL9M3h",
        "colab_type": "code",
        "colab": {}
      },
      "source": [
        "model.compile(loss='categorical_crossentropy',\n",
        "             optimizer='adam',\n",
        "             metrics=['accuracy'])"
      ],
      "execution_count": 0,
      "outputs": []
    },
    {
      "cell_type": "markdown",
      "metadata": {
        "id": "Y7x49pENXqWc",
        "colab_type": "text"
      },
      "source": [
        "Compiling the model for training"
      ]
    },
    {
      "cell_type": "code",
      "metadata": {
        "id": "4xWoKhPY9Of5",
        "colab_type": "code",
        "outputId": "27d3eb19-2311-494c-910c-b923c9c085bb",
        "colab": {
          "base_uri": "https://localhost:8080/",
          "height": 1129
        }
      },
      "source": [
        "model.fit(X_train, Y_train, batch_size=32, epochs=30, verbose=1, validation_data=(X_test, Y_test))"
      ],
      "execution_count": 13,
      "outputs": [
        {
          "output_type": "stream",
          "text": [
            "WARNING:tensorflow:From /usr/local/lib/python3.6/dist-packages/tensorflow/python/ops/math_ops.py:3066: to_int32 (from tensorflow.python.ops.math_ops) is deprecated and will be removed in a future version.\n",
            "Instructions for updating:\n",
            "Use tf.cast instead.\n",
            "Train on 60000 samples, validate on 10000 samples\n",
            "Epoch 1/30\n",
            "60000/60000 [==============================] - 18s 299us/step - loss: 0.3046 - acc: 0.9025 - val_loss: 0.0992 - val_acc: 0.9682\n",
            "Epoch 2/30\n",
            "60000/60000 [==============================] - 13s 211us/step - loss: 0.0994 - acc: 0.9694 - val_loss: 0.0839 - val_acc: 0.9713\n",
            "Epoch 3/30\n",
            "60000/60000 [==============================] - 13s 213us/step - loss: 0.0748 - acc: 0.9767 - val_loss: 0.0567 - val_acc: 0.9823\n",
            "Epoch 4/30\n",
            "60000/60000 [==============================] - 13s 218us/step - loss: 0.0613 - acc: 0.9812 - val_loss: 0.0506 - val_acc: 0.9844\n",
            "Epoch 5/30\n",
            "60000/60000 [==============================] - 12s 207us/step - loss: 0.0526 - acc: 0.9841 - val_loss: 0.0772 - val_acc: 0.9749\n",
            "Epoch 6/30\n",
            "60000/60000 [==============================] - 12s 206us/step - loss: 0.0470 - acc: 0.9849 - val_loss: 0.0392 - val_acc: 0.9865\n",
            "Epoch 7/30\n",
            "60000/60000 [==============================] - 12s 206us/step - loss: 0.0418 - acc: 0.9863 - val_loss: 0.0497 - val_acc: 0.9831\n",
            "Epoch 8/30\n",
            "60000/60000 [==============================] - 12s 205us/step - loss: 0.0371 - acc: 0.9883 - val_loss: 0.0454 - val_acc: 0.9849\n",
            "Epoch 9/30\n",
            "60000/60000 [==============================] - 12s 205us/step - loss: 0.0358 - acc: 0.9885 - val_loss: 0.0498 - val_acc: 0.9847\n",
            "Epoch 10/30\n",
            "60000/60000 [==============================] - 13s 221us/step - loss: 0.0322 - acc: 0.9894 - val_loss: 0.0365 - val_acc: 0.9885\n",
            "Epoch 11/30\n",
            "60000/60000 [==============================] - 12s 204us/step - loss: 0.0303 - acc: 0.9905 - val_loss: 0.0373 - val_acc: 0.9886\n",
            "Epoch 12/30\n",
            "60000/60000 [==============================] - 12s 203us/step - loss: 0.0285 - acc: 0.9910 - val_loss: 0.0321 - val_acc: 0.9899\n",
            "Epoch 13/30\n",
            "60000/60000 [==============================] - 12s 203us/step - loss: 0.0255 - acc: 0.9916 - val_loss: 0.0427 - val_acc: 0.9875\n",
            "Epoch 14/30\n",
            "60000/60000 [==============================] - 12s 202us/step - loss: 0.0264 - acc: 0.9911 - val_loss: 0.0473 - val_acc: 0.9874\n",
            "Epoch 15/30\n",
            "60000/60000 [==============================] - 12s 202us/step - loss: 0.0235 - acc: 0.9925 - val_loss: 0.0352 - val_acc: 0.9893\n",
            "Epoch 16/30\n",
            "60000/60000 [==============================] - 13s 209us/step - loss: 0.0209 - acc: 0.9930 - val_loss: 0.0425 - val_acc: 0.9870\n",
            "Epoch 17/30\n",
            "60000/60000 [==============================] - 13s 213us/step - loss: 0.0209 - acc: 0.9931 - val_loss: 0.0445 - val_acc: 0.9887\n",
            "Epoch 18/30\n",
            "60000/60000 [==============================] - 13s 213us/step - loss: 0.0205 - acc: 0.9930 - val_loss: 0.0383 - val_acc: 0.9900\n",
            "Epoch 19/30\n",
            "60000/60000 [==============================] - 13s 212us/step - loss: 0.0194 - acc: 0.9939 - val_loss: 0.0373 - val_acc: 0.9897\n",
            "Epoch 20/30\n",
            "60000/60000 [==============================] - 13s 218us/step - loss: 0.0175 - acc: 0.9942 - val_loss: 0.0458 - val_acc: 0.9882\n",
            "Epoch 21/30\n",
            "60000/60000 [==============================] - 12s 203us/step - loss: 0.0177 - acc: 0.9941 - val_loss: 0.0612 - val_acc: 0.9851\n",
            "Epoch 22/30\n",
            "60000/60000 [==============================] - 12s 202us/step - loss: 0.0176 - acc: 0.9939 - val_loss: 0.0523 - val_acc: 0.9859\n",
            "Epoch 23/30\n",
            "60000/60000 [==============================] - 13s 220us/step - loss: 0.0162 - acc: 0.9949 - val_loss: 0.0491 - val_acc: 0.9865\n",
            "Epoch 24/30\n",
            "60000/60000 [==============================] - 12s 204us/step - loss: 0.0155 - acc: 0.9950 - val_loss: 0.0348 - val_acc: 0.9888\n",
            "Epoch 25/30\n",
            "60000/60000 [==============================] - 12s 202us/step - loss: 0.0147 - acc: 0.9952 - val_loss: 0.0452 - val_acc: 0.9883\n",
            "Epoch 26/30\n",
            "60000/60000 [==============================] - 12s 201us/step - loss: 0.0149 - acc: 0.9951 - val_loss: 0.0454 - val_acc: 0.9881\n",
            "Epoch 27/30\n",
            "60000/60000 [==============================] - 12s 201us/step - loss: 0.0153 - acc: 0.9947 - val_loss: 0.0519 - val_acc: 0.9868\n",
            "Epoch 28/30\n",
            "60000/60000 [==============================] - 12s 200us/step - loss: 0.0132 - acc: 0.9953 - val_loss: 0.0539 - val_acc: 0.9859\n",
            "Epoch 29/30\n",
            "60000/60000 [==============================] - 13s 210us/step - loss: 0.0137 - acc: 0.9951 - val_loss: 0.0457 - val_acc: 0.9880\n",
            "Epoch 30/30\n",
            "60000/60000 [==============================] - 13s 210us/step - loss: 0.0122 - acc: 0.9957 - val_loss: 0.0541 - val_acc: 0.9880\n"
          ],
          "name": "stdout"
        },
        {
          "output_type": "execute_result",
          "data": {
            "text/plain": [
              "<keras.callbacks.History at 0x7fb258767160>"
            ]
          },
          "metadata": {
            "tags": []
          },
          "execution_count": 13
        }
      ]
    },
    {
      "cell_type": "markdown",
      "metadata": {
        "id": "7TyQdemDXvDR",
        "colab_type": "text"
      },
      "source": [
        "Fitting the model through gradient descent and tracking the validation accuracy through the training process. The training process itself only focusses on minimizing the loss function. We keep track of the training and validation loss\n",
        "\n",
        "After 30 epochs, the validation accuracy was 98.80% and the max validation accuracy reached was 98.88%.\n",
        "\n",
        "A couple of observations here:\n",
        "\n",
        "1. Training loss vs validation loss\n",
        "<br>We notice that while the training loss decrease monotonically ( almost all the time ) the validation loss doesn't. In a certain sense, the model is overfitting when for an epoch the training loss decreases but the validation loss increases. Over time ofcourse things get corrected and the validation loss also drops. This means adding standard ways to tackle overfitting like dropout and batch normalization would be useful.\n",
        "<br><br>The best validation accuracy/loss doesnt come in the end. The optimizer may not be necessarily monotonically converge towards the minimum. Using a learning rate scheduler to control the step size could help with the fluctuations here and potentially give us a monotonically decreasing loss function over epochs.\n",
        "<br><br>In the 27th epoch the training loss also increased compared to the previous epoch. This potentially means the learning rate was too high and the step taken by the optimizer was too big. Using a learning rate scheduler would help here.\n",
        "\n",
        "2. Loss vs accuracy\n",
        "<br>In many epochs we observe that a decrease in loss doesnt lead to a improvement in accuracy. Its key to distinguish between the two. The optimizer for gradient descent focusses on the loss function, while our target is to improve validation accuracy. In a sense the difference between a lower loss function value and better accuracy is about knowing for sure that a given image is a number and knowing well enough most of the time what digit an image is."
      ]
    },
    {
      "cell_type": "markdown",
      "metadata": {
        "id": "VddwEnLbcr96",
        "colab_type": "text"
      },
      "source": [
        "Loading the best model weights ( according to validation accuracty ) stored during the training phase"
      ]
    },
    {
      "cell_type": "code",
      "metadata": {
        "id": "AtsH-lLk-eLb",
        "colab_type": "code",
        "colab": {}
      },
      "source": [
        "score = model.evaluate(X_test, Y_test, verbose=0)"
      ],
      "execution_count": 0,
      "outputs": []
    },
    {
      "cell_type": "markdown",
      "metadata": {
        "id": "-mwPViLSc1vy",
        "colab_type": "text"
      },
      "source": [
        "Evaluate the model on the testing dataset"
      ]
    },
    {
      "cell_type": "code",
      "metadata": {
        "id": "mkX8JMv79q9r",
        "colab_type": "code",
        "outputId": "a2ad5dd7-1ca3-4a99-e3c6-c478c517e610",
        "colab": {
          "base_uri": "https://localhost:8080/",
          "height": 34
        }
      },
      "source": [
        "print(score)"
      ],
      "execution_count": 15,
      "outputs": [
        {
          "output_type": "stream",
          "text": [
            "[0.05408821732583028, 0.988]\n"
          ],
          "name": "stdout"
        }
      ]
    },
    {
      "cell_type": "markdown",
      "metadata": {
        "id": "AbI5Ga7Sc529",
        "colab_type": "text"
      },
      "source": [
        "Printing the score of the model on the testing dataset. The first number is the value of the loss function. The latter is the test accuracy."
      ]
    },
    {
      "cell_type": "code",
      "metadata": {
        "id": "FNxbpnu4oxXQ",
        "colab_type": "code",
        "outputId": "4694e5f5-8fb8-4728-dfa6-0cd454b8c2ad",
        "colab": {
          "base_uri": "https://localhost:8080/",
          "height": 34
        }
      },
      "source": [
        "model.evaluate(X_train, Y_train, verbose=0)"
      ],
      "execution_count": 16,
      "outputs": [
        {
          "output_type": "execute_result",
          "data": {
            "text/plain": [
              "[0.011824844805054219, 0.9962]"
            ]
          },
          "metadata": {
            "tags": []
          },
          "execution_count": 16
        }
      ]
    },
    {
      "cell_type": "markdown",
      "metadata": {
        "id": "otCfVbNNdCsP",
        "colab_type": "text"
      },
      "source": [
        "Evaluating the model on the training dataset to see what the achieved training accuracy is. Surprisingly this number doesnt match with the number printed last in the training logs. I dont understand why there is a discrepancy."
      ]
    },
    {
      "cell_type": "code",
      "metadata": {
        "id": "OCWoJkwE9suh",
        "colab_type": "code",
        "colab": {}
      },
      "source": [
        "y_pred = model.predict(X_test)"
      ],
      "execution_count": 0,
      "outputs": []
    },
    {
      "cell_type": "markdown",
      "metadata": {
        "id": "LmxXIct7dIvc",
        "colab_type": "text"
      },
      "source": [
        "Computing the predicted classifications for the testing dataset"
      ]
    },
    {
      "cell_type": "code",
      "metadata": {
        "id": "Ym7iCFBm9uBs",
        "colab_type": "code",
        "outputId": "d1463ded-4c85-427e-ebf4-541a4e93431a",
        "colab": {
          "base_uri": "https://localhost:8080/",
          "height": 487
        }
      },
      "source": [
        "print(y_pred[:9])\n",
        "print(y_test[:9])"
      ],
      "execution_count": 18,
      "outputs": [
        {
          "output_type": "stream",
          "text": [
            "[[7.10903123e-20 1.33035171e-13 4.93637466e-13 1.76876203e-08\n",
            "  9.30713898e-22 3.81990040e-13 1.34210739e-26 1.00000000e+00\n",
            "  5.13929598e-17 1.87127823e-14]\n",
            " [5.72449332e-09 7.31243954e-10 1.00000000e+00 1.65671079e-13\n",
            "  1.04381785e-22 3.45509186e-15 8.70790582e-13 4.56152416e-14\n",
            "  5.35448096e-13 5.11687881e-24]\n",
            " [1.19709975e-09 9.99999523e-01 1.98463385e-10 3.35577746e-11\n",
            "  2.75958598e-08 4.99384367e-10 3.67403552e-10 4.41570847e-07\n",
            "  3.17021565e-09 3.38323425e-10]\n",
            " [1.00000000e+00 2.02346755e-12 1.12182026e-14 4.49817890e-13\n",
            "  2.17313282e-13 1.32761871e-10 3.03779935e-08 2.56062641e-12\n",
            "  2.57250155e-09 8.98807001e-11]\n",
            " [2.53606183e-19 9.83688809e-17 2.64171145e-13 2.63384983e-19\n",
            "  1.00000000e+00 8.44222436e-18 2.65558636e-15 1.40933399e-14\n",
            "  1.44047720e-16 2.05357120e-10]\n",
            " [7.57790206e-13 9.99999285e-01 2.59246921e-12 2.52371605e-12\n",
            "  1.50443551e-08 1.59262013e-12 5.94933955e-12 7.15072758e-07\n",
            "  1.85772425e-10 9.93396554e-13]\n",
            " [3.85705474e-21 3.09809849e-08 1.55675906e-11 1.60409394e-11\n",
            "  1.00000000e+00 1.05383248e-14 1.95006159e-17 5.07595008e-11\n",
            "  1.07895171e-09 2.04536908e-11]\n",
            " [2.00003601e-13 7.41143813e-11 3.69983672e-06 2.58142118e-05\n",
            "  1.65957096e-03 4.80529949e-10 2.06272906e-13 4.83866688e-06\n",
            "  3.71522619e-05 9.98268962e-01]\n",
            " [2.69715026e-15 1.59695370e-16 5.70308384e-12 2.42311118e-15\n",
            "  3.42472440e-18 9.99710739e-01 2.89259595e-04 4.92003918e-21\n",
            "  7.26293248e-10 4.55435993e-12]]\n",
            "[7 2 1 0 4 1 4 9 5]\n"
          ],
          "name": "stdout"
        }
      ]
    },
    {
      "cell_type": "markdown",
      "metadata": {
        "id": "yXx-vpw7dPRd",
        "colab_type": "text"
      },
      "source": [
        "Comparing the labels computed by our model and that given in the dataset.\n",
        "\n",
        "Note that for the first element, the target label in the dataset is 11. The output by the model, is in the categorical form described earlier. One can see that first output peaks at index 8 which corresponds to the digit 7."
      ]
    },
    {
      "cell_type": "code",
      "metadata": {
        "id": "CT--y98_dr2T",
        "colab_type": "code",
        "colab": {}
      },
      "source": [
        "layer_dict = dict([(layer.name, layer) for layer in model.layers])"
      ],
      "execution_count": 0,
      "outputs": []
    },
    {
      "cell_type": "markdown",
      "metadata": {
        "id": "P_aFWrMHeGpC",
        "colab_type": "text"
      },
      "source": [
        "Copying the layers in a dict for visualization in the next step"
      ]
    },
    {
      "cell_type": "code",
      "metadata": {
        "id": "2GY4Upv4dsUR",
        "colab_type": "code",
        "colab": {}
      },
      "source": [
        "import numpy as np\n",
        "from matplotlib import pyplot as plt\n",
        "from keras import backend as K\n",
        "%matplotlib inline\n",
        "# util function to convert a tensor into a valid image\n",
        "def deprocess_image(x):\n",
        "    # normalize tensor: center on 0., ensure std is 0.1\n",
        "    x -= x.mean()\n",
        "    x /= (x.std() + 1e-5)\n",
        "    x *= 0.1\n",
        "\n",
        "    # clip to [0, 1]\n",
        "    x += 0.5\n",
        "    x = np.clip(x, 0, 1)\n",
        "\n",
        "    # convert to RGB array\n",
        "    x *= 255\n",
        "    #x = x.transpose((1, 2, 0))\n",
        "    x = np.clip(x, 0, 255).astype('uint8')\n",
        "    return x\n",
        "\n",
        "def vis_img_in_filter(img = np.array(X_train[2]).reshape((1, 28, 28, 1)).astype(np.float64), \n",
        "                      layer_name = 'conv2d_14'):\n",
        "    layer_output = layer_dict[layer_name].output\n",
        "    img_ascs = list()\n",
        "    for filter_index in range(layer_output.shape[3]):\n",
        "        # build a loss function that maximizes the activation\n",
        "        # of the nth filter of the layer considered\n",
        "        loss = K.mean(layer_output[:, :, :, filter_index])\n",
        "\n",
        "        # compute the gradient of the input picture wrt this loss\n",
        "        grads = K.gradients(loss, model.input)[0]\n",
        "\n",
        "        # normalization trick: we normalize the gradient\n",
        "        grads /= (K.sqrt(K.mean(K.square(grads))) + 1e-5)\n",
        "\n",
        "        # this function returns the loss and grads given the input picture\n",
        "        iterate = K.function([model.input], [loss, grads])\n",
        "\n",
        "        # step size for gradient ascent\n",
        "        step = 5.\n",
        "\n",
        "        img_asc = np.array(img)\n",
        "        # run gradient ascent for 20 steps\n",
        "        for i in range(20):\n",
        "            loss_value, grads_value = iterate([img_asc])\n",
        "            img_asc += grads_value * step\n",
        "\n",
        "        img_asc = img_asc[0]\n",
        "        img_ascs.append(deprocess_image(img_asc).reshape((28, 28)))\n",
        "        \n",
        "    if layer_output.shape[3] >= 35:\n",
        "        plot_x, plot_y = 6, 6\n",
        "    elif layer_output.shape[3] >= 23:\n",
        "        plot_x, plot_y = 4, 6\n",
        "    elif layer_output.shape[3] >= 11:\n",
        "        plot_x, plot_y = 2, 6\n",
        "    else:\n",
        "        plot_x, plot_y = 1, 2\n",
        "    fig, ax = plt.subplots(plot_x, plot_y, figsize = (12, 12))\n",
        "    ax[0, 0].imshow(img.reshape((28, 28)), cmap = 'gray')\n",
        "    ax[0, 0].set_title('Input image')\n",
        "    fig.suptitle('Input image and %s filters' % (layer_name,))\n",
        "    fig.tight_layout(pad = 0.3, rect = [0, 0, 0.9, 0.9])\n",
        "    for (x, y) in [(i, j) for i in range(plot_x) for j in range(plot_y)]:\n",
        "        if x == 0 and y == 0:\n",
        "            continue\n",
        "        ax[x, y].imshow(img_ascs[x * plot_y + y - 1], cmap = 'gray')\n",
        "        ax[x, y].set_title('filter %d' % (x * plot_y + y - 1))"
      ],
      "execution_count": 0,
      "outputs": []
    },
    {
      "cell_type": "markdown",
      "metadata": {
        "id": "9e-QiggGerDS",
        "colab_type": "text"
      },
      "source": [
        "Predefined function for visualizing how an image is processed by a particular layer in the network."
      ]
    },
    {
      "cell_type": "code",
      "metadata": {
        "id": "wRHK7kqZFcYI",
        "colab_type": "code",
        "outputId": "8649cb10-4f3a-45a6-fcee-e7fe2a77b2b4",
        "colab": {
          "base_uri": "https://localhost:8080/",
          "height": 741
        }
      },
      "source": [
        "vis_img_in_filter(img = np.array(X_train[2]).reshape((1, 28, 28, 1)).astype(np.float64), layer_name = 'conv2d_7')"
      ],
      "execution_count": 21,
      "outputs": [
        {
          "output_type": "display_data",
          "data": {
            "image/png": "[encoded data removed]",
            "text/plain": [
              "<Figure size 864x864 with 12 Axes>"
            ]
          },
          "metadata": {
            "tags": []
          }
        }
      ]
    },
    {
      "cell_type": "markdown",
      "metadata": {
        "id": "m5pzvtnneymo",
        "colab_type": "text"
      },
      "source": [
        "Visualization of the 7th convolution layer ( 3x3x10x32 kernel ). One can see that the exact input image itself shows up in many kernels. This is surprising. I currently dont understand the significance of it. This happened even during the 3rd assignment."
      ]
    }
  ]
}