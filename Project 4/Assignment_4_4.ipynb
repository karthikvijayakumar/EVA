{
  "nbformat": 4,
  "nbformat_minor": 0,
  "metadata": {
    "colab": {
      "name": "Assignment 4_4.ipynb",
      "version": "0.3.2",
      "provenance": [],
      "collapsed_sections": [],
      "include_colab_link": true
    },
    "kernelspec": {
      "name": "python3",
      "display_name": "Python 3"
    },
    "accelerator": "GPU"
  },
  "cells": [
    {
      "cell_type": "markdown",
      "metadata": {
        "id": "view-in-github",
        "colab_type": "text"
      },
      "source": [
        "<a href=\"https://colab.research.google.com/github/karthikvijayakumar/EVA/blob/vijkar_development/Project%204/Assignment_4_4.ipynb\" target=\"_parent\"><img src=\"https://colab.research.google.com/assets/colab-badge.svg\" alt=\"Open In Colab\"/></a>"
      ]
    },
    {
      "cell_type": "markdown",
      "metadata": {
        "id": "Jscz-aL0ms5j",
        "colab_type": "text"
      },
      "source": [
        "# Fourth and final iteration\n",
        "\n",
        "Up until the previous we had added the following components to the barebones model built in the first iteration\n",
        "\n",
        "1. Saving the best model parameters to a file and restoring it at the end of training\n",
        "2. Batch normalization\n",
        "3. Dropout\n",
        "\n",
        "With the above we ensured we always saved the best model through the training process and overcame overfitting to a considerable extent\n",
        "\n",
        "What issues remain at this point and what scope is there for improvement?\n",
        "\n",
        "1. Constant learning rates and step sizes through out the training process\n",
        "<br>As the training phase moves forward, the loss function value decreases with time. With lower loss function values, one should take smaller step sizes. In our current setup there is a constant learning rate ( 0.001 ) and proportional step size. This shows up in that when the optimizer is trying to converge to a minima, the step sizes are so large that they escape the minima and go outside. To control this issue we need a learning rate scheduler. In this case we use a scheduler where the learning rate is inversely proportional to the number of epochs passed. Hence we start off with larger learning rates and use smaller step sizes later in the training.\n",
        "2. Slow start to the learning process\n",
        "<br>We often observe that the optimizer takes several epochs to get to even 99% training accuracy and the loss function values at this point are very high (0.03 - 1). This could be improved if initially we use a larger learning rate and later taper the learning rate down. By deafult the adam optimizer uses a learning rate of 0.01. We increase it to 0.03\n",
        "3. Batch sizes not optimized yet\n",
        "We havent tweaked with the batch sizes. The ideal batch size is specific to a dataset and depends on the amount of inter and intra class variance in the dataset. After some experimenation ( and as mentioned in the class ), a batch size of 128 works best.\n",
        "\n",
        "### What changes are being implemented in this iteration\n",
        "\n",
        "1. LR scheduler\n",
        "<br>We implement an LR scheduler that makes the learning rate inversely proportional to the number of epochs passed.\n",
        "2. Optimizer initialization with explicit learning rate\n",
        "<br>The default learning rate for Adam is 0.001. We explicitly set it to 0.003\n",
        "3. Batch size tweaking\n",
        "<br>We change the batch size from 32 to 128.\n",
        "\n",
        "### High level stats\n",
        "Total number of params: 8,154 \n",
        "<br>Total number of trainable params: 7,966 \n",
        "<br>Validation accuracy: 99.41% \n",
        "<br>Training accuracy: 99.60%\n"
      ]
    },
    {
      "cell_type": "markdown",
      "metadata": {
        "id": "aNyZv-Ec52ot",
        "colab_type": "text"
      },
      "source": [
        "# **Import Libraries and modules**"
      ]
    },
    {
      "cell_type": "code",
      "metadata": {
        "id": "3m3w1Cw49Zkt",
        "colab_type": "code",
        "outputId": "078fb8a6-30f6-47bd-fe26-736a089e808d",
        "colab": {
          "base_uri": "https://localhost:8080/",
          "height": 34
        }
      },
      "source": [
        "# https://keras.io/\n",
        "!pip install -q keras\n",
        "import keras"
      ],
      "execution_count": 1,
      "outputs": [
        {
          "output_type": "stream",
          "text": [
            "Using TensorFlow backend.\n"
          ],
          "name": "stderr"
        }
      ]
    },
    {
      "cell_type": "markdown",
      "metadata": {
        "id": "W8TuvCMEI5bz",
        "colab_type": "text"
      },
      "source": [
        "Installing Keras and importing into current runtime environment"
      ]
    },
    {
      "cell_type": "code",
      "metadata": {
        "id": "Eso6UHE080D4",
        "colab_type": "code",
        "colab": {}
      },
      "source": [
        "import numpy as np\n",
        "\n",
        "from keras.models import Sequential\n",
        "from keras.layers import Dense, Dropout, Activation, Flatten, Add\n",
        "from keras.layers import Convolution2D, MaxPooling2D\n",
        "from keras.utils import np_utils\n",
        "\n",
        "from keras.datasets import mnist"
      ],
      "execution_count": 0,
      "outputs": []
    },
    {
      "cell_type": "markdown",
      "metadata": {
        "id": "Y0u5KVe7JBFn",
        "colab_type": "text"
      },
      "source": [
        "Importing libraries and functions required for the program"
      ]
    },
    {
      "cell_type": "markdown",
      "metadata": {
        "id": "zByEi95J86RD",
        "colab_type": "text"
      },
      "source": [
        "### Load pre-shuffled MNIST data into train and test sets"
      ]
    },
    {
      "cell_type": "code",
      "metadata": {
        "id": "7eRM0QWN83PV",
        "colab_type": "code",
        "colab": {}
      },
      "source": [
        "(X_train, y_train), (X_test, y_test) = mnist.load_data()"
      ],
      "execution_count": 0,
      "outputs": []
    },
    {
      "cell_type": "markdown",
      "metadata": {
        "id": "iGsh_aQ1J3OS",
        "colab_type": "text"
      },
      "source": [
        "Loading the MNIST dataset. Note that this dataset comes with a ready made train and test set."
      ]
    },
    {
      "cell_type": "code",
      "metadata": {
        "id": "4a4Be72j8-ZC",
        "colab_type": "code",
        "outputId": "2d3a9d90-4ef2-4b5e-979d-3af56c404506",
        "colab": {
          "base_uri": "https://localhost:8080/",
          "height": 302
        }
      },
      "source": [
        "print (X_train.shape)\n",
        "from matplotlib import pyplot as plt\n",
        "%matplotlib inline\n",
        "plt.imshow(X_train[0])"
      ],
      "execution_count": 4,
      "outputs": [
        {
          "output_type": "stream",
          "text": [
            "(60000, 28, 28)\n"
          ],
          "name": "stdout"
        },
        {
          "output_type": "execute_result",
          "data": {
            "text/plain": [
              "<matplotlib.image.AxesImage at 0x7fd2ed86fda0>"
            ]
          },
          "metadata": {
            "tags": []
          },
          "execution_count": 4
        },
        {
          "output_type": "display_data",
          "data": {
            "image/png": "[encoded data removed]",
            "text/plain": [
              "<Figure size 432x288 with 1 Axes>"
            ]
          },
          "metadata": {
            "tags": []
          }
        }
      ]
    },
    {
      "cell_type": "markdown",
      "metadata": {
        "id": "vlxccYctJ_be",
        "colab_type": "text"
      },
      "source": [
        "Visualizing the first training image"
      ]
    },
    {
      "cell_type": "code",
      "metadata": {
        "id": "dkmprriw9AnZ",
        "colab_type": "code",
        "colab": {}
      },
      "source": [
        "X_train = X_train.reshape(X_train.shape[0], 28, 28,1)\n",
        "X_test = X_test.reshape(X_test.shape[0], 28, 28,1)"
      ],
      "execution_count": 0,
      "outputs": []
    },
    {
      "cell_type": "markdown",
      "metadata": {
        "id": "l-vkWkDfKDDC",
        "colab_type": "text"
      },
      "source": [
        "Reshaping images from 28x28 to 28x28x1. This change needs to be done since convolution expects a 3 dimensional matrix."
      ]
    },
    {
      "cell_type": "code",
      "metadata": {
        "id": "X2m4YS4E9CRh",
        "colab_type": "code",
        "colab": {}
      },
      "source": [
        "X_train = X_train.astype('float32')\n",
        "X_test = X_test.astype('float32')\n",
        "X_train /= 255\n",
        "X_test /= 255"
      ],
      "execution_count": 0,
      "outputs": []
    },
    {
      "cell_type": "markdown",
      "metadata": {
        "id": "1Q_oAEhuKOqU",
        "colab_type": "text"
      },
      "source": [
        "Bringing the values of pixels to 0-255"
      ]
    },
    {
      "cell_type": "code",
      "metadata": {
        "id": "0Mn0vAYD9DvB",
        "colab_type": "code",
        "outputId": "2c9e08c2-7bfc-425c-b42f-23fd9ca16930",
        "colab": {
          "base_uri": "https://localhost:8080/",
          "height": 34
        }
      },
      "source": [
        "y_train[:10]"
      ],
      "execution_count": 7,
      "outputs": [
        {
          "output_type": "execute_result",
          "data": {
            "text/plain": [
              "array([5, 0, 4, 1, 9, 2, 1, 3, 1, 4], dtype=uint8)"
            ]
          },
          "metadata": {
            "tags": []
          },
          "execution_count": 7
        }
      ]
    },
    {
      "cell_type": "markdown",
      "metadata": {
        "id": "jlCvUDE1KT9P",
        "colab_type": "text"
      },
      "source": [
        "Checking out the first ten labels on the training set. Note that these are numbers at this point. More importantly these numbers have an ordinality amongst them"
      ]
    },
    {
      "cell_type": "code",
      "metadata": {
        "id": "ZG8JiXR39FHC",
        "colab_type": "code",
        "colab": {}
      },
      "source": [
        "# Convert 1-dimensional class arrays to 10-dimensional class matrices\n",
        "Y_train = np_utils.to_categorical(y_train, 10)\n",
        "Y_test = np_utils.to_categorical(y_test, 10)"
      ],
      "execution_count": 0,
      "outputs": []
    },
    {
      "cell_type": "markdown",
      "metadata": {
        "id": "L29eBlgYPcRo",
        "colab_type": "text"
      },
      "source": [
        "Converting the numerical labels to categorical values. This is important since the classes 0-9 are just different classes and have no inherent order amongst them ( i.e 7 is not a lesser class than 8 in any way with respect to digit classification )"
      ]
    },
    {
      "cell_type": "code",
      "metadata": {
        "id": "fYlFRvKS9HMB",
        "colab_type": "code",
        "outputId": "407ddb37-4d59-49f1-a0fb-ba1c17790564",
        "colab": {
          "base_uri": "https://localhost:8080/",
          "height": 185
        }
      },
      "source": [
        "Y_train[:10]"
      ],
      "execution_count": 9,
      "outputs": [
        {
          "output_type": "execute_result",
          "data": {
            "text/plain": [
              "array([[0., 0., 0., 0., 0., 1., 0., 0., 0., 0.],\n",
              "       [1., 0., 0., 0., 0., 0., 0., 0., 0., 0.],\n",
              "       [0., 0., 0., 0., 1., 0., 0., 0., 0., 0.],\n",
              "       [0., 1., 0., 0., 0., 0., 0., 0., 0., 0.],\n",
              "       [0., 0., 0., 0., 0., 0., 0., 0., 0., 1.],\n",
              "       [0., 0., 1., 0., 0., 0., 0., 0., 0., 0.],\n",
              "       [0., 1., 0., 0., 0., 0., 0., 0., 0., 0.],\n",
              "       [0., 0., 0., 1., 0., 0., 0., 0., 0., 0.],\n",
              "       [0., 1., 0., 0., 0., 0., 0., 0., 0., 0.],\n",
              "       [0., 0., 0., 0., 1., 0., 0., 0., 0., 0.]], dtype=float32)"
            ]
          },
          "metadata": {
            "tags": []
          },
          "execution_count": 9
        }
      ]
    },
    {
      "cell_type": "markdown",
      "metadata": {
        "id": "bJOar7DqPurN",
        "colab_type": "text"
      },
      "source": [
        "Seeing the categorical representation of the labels for the first ten training images"
      ]
    },
    {
      "cell_type": "code",
      "metadata": {
        "id": "osKqT73Q9JJB",
        "colab_type": "code",
        "outputId": "9ec854d4-0a50-418c-afcb-1424fc0c2e4d",
        "colab": {
          "base_uri": "https://localhost:8080/",
          "height": 138
        }
      },
      "source": [
        "from keras.layers import Activation, BatchNormalization, Dropout\n",
        "dropout_rate = 0.1\n",
        "\n",
        "\n",
        "model = Sequential()\n",
        "\n",
        "# Convolution block \n",
        "model.add(Convolution2D(10, (3, 3), activation='relu', input_shape=(28,28,1))) #3x3x1x10 kernel - 26x26x10 image - Receptive Field 3x3\n",
        "model.add(BatchNormalization())\n",
        "model.add(Dropout(dropout_rate))\n",
        "model.add(Convolution2D(16, (3, 3), activation='relu')) # 3x3x10x16 kernel - 24x24x16 image - Receptive Field 5x5\n",
        "model.add(BatchNormalization())\n",
        "model.add(Dropout(dropout_rate))\n",
        "\n",
        "# Transition block\n",
        "model.add(MaxPooling2D(pool_size=(2, 2))) # Max pooling layer - 12x12x16 image - Receptive Field 10x10\n",
        "model.add(Convolution2D(10, (1,1), activation='relu')) # 1x1x16x8 kernel - 12x12x8 image - Receptive Field 10x10\n",
        "model.add(BatchNormalization())\n",
        "model.add(Dropout(dropout_rate))\n",
        "\n",
        "#Convolution block\n",
        "model.add(Convolution2D(16, (3, 3), activation='relu')) # 3x3x8x16 kernel - 10x10x16 image - Receptive Field 12x12\n",
        "model.add(BatchNormalization())\n",
        "model.add(Dropout(dropout_rate))\n",
        "model.add(Convolution2D(16, (3, 3), activation='relu')) # 3x3x16x16 kernel - 8x8x16 image - Receptive Field 14x14\n",
        "model.add(BatchNormalization())\n",
        "model.add(Dropout(dropout_rate))\n",
        "\n",
        "# Transition block\n",
        "model.add(MaxPooling2D(pool_size=(2, 2))) # Max pooling layer - 4x4x16 image - Receptive Field 28x28\n",
        "model.add(Convolution2D(10, (1,1), activation='relu')) # 1x1x16x8 kernel - 4x4x10 image - Receptive Field 28x28\n",
        "model.add(BatchNormalization())\n",
        "model.add(Dropout(dropout_rate))\n",
        "\n",
        "#Convolution block\n",
        "model.add(Convolution2D(16, (3, 3), activation='relu')) # 3x3x16x16 kernel - 2x2x16 image - Receptive Field 28x28\n",
        "model.add(BatchNormalization())\n",
        "model.add(Dropout(dropout_rate))\n",
        "\n",
        "model.add(Convolution2D(10, (2, 2))) # 2x2x16x10 kernel - 1x1x10 image\n",
        "\n",
        "model.add(Flatten())\n",
        "model.add(Activation('softmax'))"
      ],
      "execution_count": 10,
      "outputs": [
        {
          "output_type": "stream",
          "text": [
            "WARNING:tensorflow:From /usr/local/lib/python3.6/dist-packages/tensorflow/python/framework/op_def_library.py:263: colocate_with (from tensorflow.python.framework.ops) is deprecated and will be removed in a future version.\n",
            "Instructions for updating:\n",
            "Colocations handled automatically by placer.\n",
            "WARNING:tensorflow:From /usr/local/lib/python3.6/dist-packages/keras/backend/tensorflow_backend.py:3445: calling dropout (from tensorflow.python.ops.nn_ops) with keep_prob is deprecated and will be removed in a future version.\n",
            "Instructions for updating:\n",
            "Please use `rate` instead of `keep_prob`. Rate should be set to `rate = 1 - keep_prob`.\n"
          ],
          "name": "stdout"
        }
      ]
    },
    {
      "cell_type": "markdown",
      "metadata": {
        "id": "P3TZOpxxQlVy",
        "colab_type": "text"
      },
      "source": [
        "No changes here compared to the previous iteration"
      ]
    },
    {
      "cell_type": "code",
      "metadata": {
        "id": "TzdAYg1k9K7Z",
        "colab_type": "code",
        "outputId": "b21570fe-8612-406f-a496-9d7873c7e08d",
        "colab": {
          "base_uri": "https://localhost:8080/",
          "height": 1008
        }
      },
      "source": [
        "model.summary()"
      ],
      "execution_count": 11,
      "outputs": [
        {
          "output_type": "stream",
          "text": [
            "_________________________________________________________________\n",
            "Layer (type)                 Output Shape              Param #   \n",
            "=================================================================\n",
            "conv2d_1 (Conv2D)            (None, 26, 26, 10)        100       \n",
            "_________________________________________________________________\n",
            "batch_normalization_1 (Batch (None, 26, 26, 10)        40        \n",
            "_________________________________________________________________\n",
            "dropout_1 (Dropout)          (None, 26, 26, 10)        0         \n",
            "_________________________________________________________________\n",
            "conv2d_2 (Conv2D)            (None, 24, 24, 16)        1456      \n",
            "_________________________________________________________________\n",
            "batch_normalization_2 (Batch (None, 24, 24, 16)        64        \n",
            "_________________________________________________________________\n",
            "dropout_2 (Dropout)          (None, 24, 24, 16)        0         \n",
            "_________________________________________________________________\n",
            "max_pooling2d_1 (MaxPooling2 (None, 12, 12, 16)        0         \n",
            "_________________________________________________________________\n",
            "conv2d_3 (Conv2D)            (None, 12, 12, 10)        170       \n",
            "_________________________________________________________________\n",
            "batch_normalization_3 (Batch (None, 12, 12, 10)        40        \n",
            "_________________________________________________________________\n",
            "dropout_3 (Dropout)          (None, 12, 12, 10)        0         \n",
            "_________________________________________________________________\n",
            "conv2d_4 (Conv2D)            (None, 10, 10, 16)        1456      \n",
            "_________________________________________________________________\n",
            "batch_normalization_4 (Batch (None, 10, 10, 16)        64        \n",
            "_________________________________________________________________\n",
            "dropout_4 (Dropout)          (None, 10, 10, 16)        0         \n",
            "_________________________________________________________________\n",
            "conv2d_5 (Conv2D)            (None, 8, 8, 16)          2320      \n",
            "_________________________________________________________________\n",
            "batch_normalization_5 (Batch (None, 8, 8, 16)          64        \n",
            "_________________________________________________________________\n",
            "dropout_5 (Dropout)          (None, 8, 8, 16)          0         \n",
            "_________________________________________________________________\n",
            "max_pooling2d_2 (MaxPooling2 (None, 4, 4, 16)          0         \n",
            "_________________________________________________________________\n",
            "conv2d_6 (Conv2D)            (None, 4, 4, 10)          170       \n",
            "_________________________________________________________________\n",
            "batch_normalization_6 (Batch (None, 4, 4, 10)          40        \n",
            "_________________________________________________________________\n",
            "dropout_6 (Dropout)          (None, 4, 4, 10)          0         \n",
            "_________________________________________________________________\n",
            "conv2d_7 (Conv2D)            (None, 2, 2, 16)          1456      \n",
            "_________________________________________________________________\n",
            "batch_normalization_7 (Batch (None, 2, 2, 16)          64        \n",
            "_________________________________________________________________\n",
            "dropout_7 (Dropout)          (None, 2, 2, 16)          0         \n",
            "_________________________________________________________________\n",
            "conv2d_8 (Conv2D)            (None, 1, 1, 10)          650       \n",
            "_________________________________________________________________\n",
            "flatten_1 (Flatten)          (None, 10)                0         \n",
            "_________________________________________________________________\n",
            "activation_1 (Activation)    (None, 10)                0         \n",
            "=================================================================\n",
            "Total params: 8,154\n",
            "Trainable params: 7,966\n",
            "Non-trainable params: 188\n",
            "_________________________________________________________________\n"
          ],
          "name": "stdout"
        }
      ]
    },
    {
      "cell_type": "code",
      "metadata": {
        "id": "Zp6SuGrL9M3h",
        "colab_type": "code",
        "colab": {}
      },
      "source": [
        "from keras.optimizers import Adam\n",
        "model.compile(loss='categorical_crossentropy',\n",
        "             optimizer=Adam(lr=0.003),\n",
        "             metrics=['accuracy'])"
      ],
      "execution_count": 0,
      "outputs": []
    },
    {
      "cell_type": "markdown",
      "metadata": {
        "id": "Y7x49pENXqWc",
        "colab_type": "text"
      },
      "source": [
        "Compiling the model for training. Note the explicit setting of learning rate for the Adam optimizer."
      ]
    },
    {
      "cell_type": "code",
      "metadata": {
        "id": "27vkUb-bkL3y",
        "colab_type": "code",
        "colab": {
          "base_uri": "https://localhost:8080/",
          "height": 286
        },
        "outputId": "64ae44e7-1fda-462f-95a9-02e16ec72f54"
      },
      "source": [
        "import numpy as np\n",
        "from matplotlib import pyplot as plt\n",
        "%matplotlib inline\n",
        "\n",
        "x = np.linspace(1,40)\n",
        "\n",
        "plt.plot(x, np.round(0.003 * 1/(1 + 0.6 * x), 10), label = '0.6')\n",
        "plt.plot(x, np.round(0.003 * 1/(1 + 0.319* x), 10), label = '0.319')\n",
        "plt.plot(x, np.round(0.003 * 1/(1 + 0.1* x), 10), label = '0.1')\n",
        "plt.legend()"
      ],
      "execution_count": 13,
      "outputs": [
        {
          "output_type": "execute_result",
          "data": {
            "text/plain": [
              "<matplotlib.legend.Legend at 0x7fd2cc5e1ba8>"
            ]
          },
          "metadata": {
            "tags": []
          },
          "execution_count": 13
        },
        {
          "output_type": "display_data",
          "data": {
            "image/png": "[encoded data removed]",
            "text/plain": [
              "<Figure size 432x288 with 1 Axes>"
            ]
          },
          "metadata": {
            "tags": []
          }
        }
      ]
    },
    {
      "cell_type": "markdown",
      "metadata": {
        "id": "DgsJSJm1GKVr",
        "colab_type": "text"
      },
      "source": [
        "Plotting the LR scheduler function for different scaling factors in the denominator. After some experimentation chose 0.1 since we needed a smoother and slower drop of learning rate. If the learning rate drops too soon then we spend more epocsh just getting to 99% training/validation accuracy."
      ]
    },
    {
      "cell_type": "code",
      "metadata": {
        "id": "4xWoKhPY9Of5",
        "colab_type": "code",
        "outputId": "341199ec-6ea4-41a7-c7ec-709aa4692f4c",
        "colab": {
          "base_uri": "https://localhost:8080/",
          "height": 3145
        }
      },
      "source": [
        "from keras.callbacks import ModelCheckpoint, LearningRateScheduler\n",
        "\n",
        "def scheduler(epoch, lr):\n",
        "  return round(0.003 * 1/(1 + 0.1 * epoch), 10)\n",
        "\n",
        "filepath=\"weights.iter4.best.hdf5\"\n",
        "checkpoint = ModelCheckpoint(filepath, monitor='val_acc', verbose=1, save_best_only=True, mode='max')\n",
        "\n",
        "callbacks_list = [checkpoint, LearningRateScheduler(scheduler, verbose=1)]\n",
        "\n",
        "model.fit(X_train, Y_train, batch_size=128, epochs=30, verbose=1, validation_data=(X_test, Y_test), callbacks = callbacks_list)"
      ],
      "execution_count": 14,
      "outputs": [
        {
          "output_type": "stream",
          "text": [
            "WARNING:tensorflow:From /usr/local/lib/python3.6/dist-packages/tensorflow/python/ops/math_ops.py:3066: to_int32 (from tensorflow.python.ops.math_ops) is deprecated and will be removed in a future version.\n",
            "Instructions for updating:\n",
            "Use tf.cast instead.\n",
            "Train on 60000 samples, validate on 10000 samples\n",
            "Epoch 1/30\n",
            "\n",
            "Epoch 00001: LearningRateScheduler setting learning rate to 0.003.\n",
            "60000/60000 [==============================] - 10s 165us/step - loss: 0.3103 - acc: 0.9047 - val_loss: 0.0680 - val_acc: 0.9801\n",
            "\n",
            "Epoch 00001: val_acc improved from -inf to 0.98010, saving model to weights.best.hdf5\n",
            "Epoch 2/30\n",
            "\n",
            "Epoch 00002: LearningRateScheduler setting learning rate to 0.0027272727.\n",
            "60000/60000 [==============================] - 7s 110us/step - loss: 0.0909 - acc: 0.9719 - val_loss: 0.0557 - val_acc: 0.9814\n",
            "\n",
            "Epoch 00002: val_acc improved from 0.98010 to 0.98140, saving model to weights.best.hdf5\n",
            "Epoch 3/30\n",
            "\n",
            "Epoch 00003: LearningRateScheduler setting learning rate to 0.0025.\n",
            "60000/60000 [==============================] - 6s 101us/step - loss: 0.0727 - acc: 0.9781 - val_loss: 0.0537 - val_acc: 0.9825\n",
            "\n",
            "Epoch 00003: val_acc improved from 0.98140 to 0.98250, saving model to weights.best.hdf5\n",
            "Epoch 4/30\n",
            "\n",
            "Epoch 00004: LearningRateScheduler setting learning rate to 0.0023076923.\n",
            "60000/60000 [==============================] - 6s 100us/step - loss: 0.0636 - acc: 0.9805 - val_loss: 0.0373 - val_acc: 0.9873\n",
            "\n",
            "Epoch 00004: val_acc improved from 0.98250 to 0.98730, saving model to weights.best.hdf5\n",
            "Epoch 5/30\n",
            "\n",
            "Epoch 00005: LearningRateScheduler setting learning rate to 0.0021428571.\n",
            "60000/60000 [==============================] - 6s 101us/step - loss: 0.0589 - acc: 0.9817 - val_loss: 0.0366 - val_acc: 0.9887\n",
            "\n",
            "Epoch 00005: val_acc improved from 0.98730 to 0.98870, saving model to weights.best.hdf5\n",
            "Epoch 6/30\n",
            "\n",
            "Epoch 00006: LearningRateScheduler setting learning rate to 0.002.\n",
            "60000/60000 [==============================] - 6s 101us/step - loss: 0.0519 - acc: 0.9835 - val_loss: 0.0331 - val_acc: 0.9889\n",
            "\n",
            "Epoch 00006: val_acc improved from 0.98870 to 0.98890, saving model to weights.best.hdf5\n",
            "Epoch 7/30\n",
            "\n",
            "Epoch 00007: LearningRateScheduler setting learning rate to 0.001875.\n",
            "60000/60000 [==============================] - 6s 100us/step - loss: 0.0489 - acc: 0.9847 - val_loss: 0.0298 - val_acc: 0.9895\n",
            "\n",
            "Epoch 00007: val_acc improved from 0.98890 to 0.98950, saving model to weights.best.hdf5\n",
            "Epoch 8/30\n",
            "\n",
            "Epoch 00008: LearningRateScheduler setting learning rate to 0.0017647059.\n",
            "60000/60000 [==============================] - 6s 101us/step - loss: 0.0443 - acc: 0.9858 - val_loss: 0.0371 - val_acc: 0.9884\n",
            "\n",
            "Epoch 00008: val_acc did not improve from 0.98950\n",
            "Epoch 9/30\n",
            "\n",
            "Epoch 00009: LearningRateScheduler setting learning rate to 0.0016666667.\n",
            "60000/60000 [==============================] - 6s 101us/step - loss: 0.0441 - acc: 0.9859 - val_loss: 0.0295 - val_acc: 0.9908\n",
            "\n",
            "Epoch 00009: val_acc improved from 0.98950 to 0.99080, saving model to weights.best.hdf5\n",
            "Epoch 10/30\n",
            "\n",
            "Epoch 00010: LearningRateScheduler setting learning rate to 0.0015789474.\n",
            "60000/60000 [==============================] - 6s 101us/step - loss: 0.0405 - acc: 0.9871 - val_loss: 0.0283 - val_acc: 0.9912\n",
            "\n",
            "Epoch 00010: val_acc improved from 0.99080 to 0.99120, saving model to weights.best.hdf5\n",
            "Epoch 11/30\n",
            "\n",
            "Epoch 00011: LearningRateScheduler setting learning rate to 0.0015.\n",
            "60000/60000 [==============================] - 6s 100us/step - loss: 0.0381 - acc: 0.9876 - val_loss: 0.0285 - val_acc: 0.9906\n",
            "\n",
            "Epoch 00011: val_acc did not improve from 0.99120\n",
            "Epoch 12/30\n",
            "\n",
            "Epoch 00012: LearningRateScheduler setting learning rate to 0.0014285714.\n",
            "60000/60000 [==============================] - 6s 101us/step - loss: 0.0378 - acc: 0.9881 - val_loss: 0.0301 - val_acc: 0.9901\n",
            "\n",
            "Epoch 00012: val_acc did not improve from 0.99120\n",
            "Epoch 13/30\n",
            "\n",
            "Epoch 00013: LearningRateScheduler setting learning rate to 0.0013636364.\n",
            "60000/60000 [==============================] - 6s 100us/step - loss: 0.0364 - acc: 0.9888 - val_loss: 0.0255 - val_acc: 0.9915\n",
            "\n",
            "Epoch 00013: val_acc improved from 0.99120 to 0.99150, saving model to weights.best.hdf5\n",
            "Epoch 14/30\n",
            "\n",
            "Epoch 00014: LearningRateScheduler setting learning rate to 0.0013043478.\n",
            "60000/60000 [==============================] - 7s 112us/step - loss: 0.0365 - acc: 0.9886 - val_loss: 0.0253 - val_acc: 0.9915\n",
            "\n",
            "Epoch 00014: val_acc did not improve from 0.99150\n",
            "Epoch 15/30\n",
            "\n",
            "Epoch 00015: LearningRateScheduler setting learning rate to 0.00125.\n",
            "60000/60000 [==============================] - 6s 108us/step - loss: 0.0343 - acc: 0.9893 - val_loss: 0.0304 - val_acc: 0.9898\n",
            "\n",
            "Epoch 00015: val_acc did not improve from 0.99150\n",
            "Epoch 16/30\n",
            "\n",
            "Epoch 00016: LearningRateScheduler setting learning rate to 0.0012.\n",
            "60000/60000 [==============================] - 6s 100us/step - loss: 0.0339 - acc: 0.9892 - val_loss: 0.0297 - val_acc: 0.9901\n",
            "\n",
            "Epoch 00016: val_acc did not improve from 0.99150\n",
            "Epoch 17/30\n",
            "\n",
            "Epoch 00017: LearningRateScheduler setting learning rate to 0.0011538462.\n",
            "60000/60000 [==============================] - 6s 101us/step - loss: 0.0322 - acc: 0.9899 - val_loss: 0.0263 - val_acc: 0.9915\n",
            "\n",
            "Epoch 00017: val_acc did not improve from 0.99150\n",
            "Epoch 18/30\n",
            "\n",
            "Epoch 00018: LearningRateScheduler setting learning rate to 0.0011111111.\n",
            "60000/60000 [==============================] - 6s 101us/step - loss: 0.0319 - acc: 0.9897 - val_loss: 0.0265 - val_acc: 0.9915\n",
            "\n",
            "Epoch 00018: val_acc did not improve from 0.99150\n",
            "Epoch 19/30\n",
            "\n",
            "Epoch 00019: LearningRateScheduler setting learning rate to 0.0010714286.\n",
            "60000/60000 [==============================] - 6s 101us/step - loss: 0.0319 - acc: 0.9898 - val_loss: 0.0257 - val_acc: 0.9921\n",
            "\n",
            "Epoch 00019: val_acc improved from 0.99150 to 0.99210, saving model to weights.best.hdf5\n",
            "Epoch 20/30\n",
            "\n",
            "Epoch 00020: LearningRateScheduler setting learning rate to 0.0010344828.\n",
            "60000/60000 [==============================] - 6s 101us/step - loss: 0.0308 - acc: 0.9902 - val_loss: 0.0245 - val_acc: 0.9914\n",
            "\n",
            "Epoch 00020: val_acc did not improve from 0.99210\n",
            "Epoch 21/30\n",
            "\n",
            "Epoch 00021: LearningRateScheduler setting learning rate to 0.001.\n",
            "60000/60000 [==============================] - 6s 101us/step - loss: 0.0319 - acc: 0.9893 - val_loss: 0.0297 - val_acc: 0.9900\n",
            "\n",
            "Epoch 00021: val_acc did not improve from 0.99210\n",
            "Epoch 22/30\n",
            "\n",
            "Epoch 00022: LearningRateScheduler setting learning rate to 0.0009677419.\n",
            "60000/60000 [==============================] - 6s 101us/step - loss: 0.0296 - acc: 0.9903 - val_loss: 0.0241 - val_acc: 0.9925\n",
            "\n",
            "Epoch 00022: val_acc improved from 0.99210 to 0.99250, saving model to weights.best.hdf5\n",
            "Epoch 23/30\n",
            "\n",
            "Epoch 00023: LearningRateScheduler setting learning rate to 0.0009375.\n",
            "60000/60000 [==============================] - 6s 101us/step - loss: 0.0292 - acc: 0.9904 - val_loss: 0.0223 - val_acc: 0.9932\n",
            "\n",
            "Epoch 00023: val_acc improved from 0.99250 to 0.99320, saving model to weights.best.hdf5\n",
            "Epoch 24/30\n",
            "\n",
            "Epoch 00024: LearningRateScheduler setting learning rate to 0.0009090909.\n",
            "60000/60000 [==============================] - 6s 101us/step - loss: 0.0283 - acc: 0.9909 - val_loss: 0.0263 - val_acc: 0.9919\n",
            "\n",
            "Epoch 00024: val_acc did not improve from 0.99320\n",
            "Epoch 25/30\n",
            "\n",
            "Epoch 00025: LearningRateScheduler setting learning rate to 0.0008823529.\n",
            "60000/60000 [==============================] - 6s 100us/step - loss: 0.0284 - acc: 0.9906 - val_loss: 0.0235 - val_acc: 0.9927\n",
            "\n",
            "Epoch 00025: val_acc did not improve from 0.99320\n",
            "Epoch 26/30\n",
            "\n",
            "Epoch 00026: LearningRateScheduler setting learning rate to 0.0008571429.\n",
            "60000/60000 [==============================] - 6s 100us/step - loss: 0.0277 - acc: 0.9911 - val_loss: 0.0249 - val_acc: 0.9923\n",
            "\n",
            "Epoch 00026: val_acc did not improve from 0.99320\n",
            "Epoch 27/30\n",
            "\n",
            "Epoch 00027: LearningRateScheduler setting learning rate to 0.0008333333.\n",
            "60000/60000 [==============================] - 7s 111us/step - loss: 0.0272 - acc: 0.9917 - val_loss: 0.0254 - val_acc: 0.9921\n",
            "\n",
            "Epoch 00027: val_acc did not improve from 0.99320\n",
            "Epoch 28/30\n",
            "\n",
            "Epoch 00028: LearningRateScheduler setting learning rate to 0.0008108108.\n",
            "60000/60000 [==============================] - 7s 109us/step - loss: 0.0267 - acc: 0.9915 - val_loss: 0.0218 - val_acc: 0.9941\n",
            "\n",
            "Epoch 00028: val_acc improved from 0.99320 to 0.99410, saving model to weights.best.hdf5\n",
            "Epoch 29/30\n",
            "\n",
            "Epoch 00029: LearningRateScheduler setting learning rate to 0.0007894737.\n",
            "60000/60000 [==============================] - 6s 100us/step - loss: 0.0264 - acc: 0.9916 - val_loss: 0.0230 - val_acc: 0.9934\n",
            "\n",
            "Epoch 00029: val_acc did not improve from 0.99410\n",
            "Epoch 30/30\n",
            "\n",
            "Epoch 00030: LearningRateScheduler setting learning rate to 0.0007692308.\n",
            "60000/60000 [==============================] - 6s 100us/step - loss: 0.0268 - acc: 0.9913 - val_loss: 0.0259 - val_acc: 0.9918\n",
            "\n",
            "Epoch 00030: val_acc did not improve from 0.99410\n"
          ],
          "name": "stdout"
        },
        {
          "output_type": "execute_result",
          "data": {
            "text/plain": [
              "<keras.callbacks.History at 0x7fd2cc5457b8>"
            ]
          },
          "metadata": {
            "tags": []
          },
          "execution_count": 14
        }
      ]
    },
    {
      "cell_type": "markdown",
      "metadata": {
        "id": "7TyQdemDXvDR",
        "colab_type": "text"
      },
      "source": [
        "After 30 epochs, the max validation accuracy reached was 99.21%. Note the added callback for the LR scheduler and the modified batch size."
      ]
    },
    {
      "cell_type": "code",
      "metadata": {
        "id": "p8F0TvhCla86",
        "colab_type": "code",
        "colab": {}
      },
      "source": [
        "model.load_weights(\"weights.iter4.best.hdf5\")\n",
        "model.compile(loss='categorical_crossentropy', optimizer='adam', metrics=['accuracy'])"
      ],
      "execution_count": 0,
      "outputs": []
    },
    {
      "cell_type": "markdown",
      "metadata": {
        "id": "VddwEnLbcr96",
        "colab_type": "text"
      },
      "source": [
        "Loading the best model weights ( according to validation accuracty ) stored during the training phase"
      ]
    },
    {
      "cell_type": "code",
      "metadata": {
        "id": "AtsH-lLk-eLb",
        "colab_type": "code",
        "colab": {}
      },
      "source": [
        "score = model.evaluate(X_test, Y_test, verbose=0)"
      ],
      "execution_count": 0,
      "outputs": []
    },
    {
      "cell_type": "markdown",
      "metadata": {
        "id": "-mwPViLSc1vy",
        "colab_type": "text"
      },
      "source": [
        "Evaluate the model on the testing dataset"
      ]
    },
    {
      "cell_type": "code",
      "metadata": {
        "id": "mkX8JMv79q9r",
        "colab_type": "code",
        "outputId": "91e12306-8f26-457c-8e3e-87477c5a01fb",
        "colab": {
          "base_uri": "https://localhost:8080/",
          "height": 34
        }
      },
      "source": [
        "print(score)"
      ],
      "execution_count": 17,
      "outputs": [
        {
          "output_type": "stream",
          "text": [
            "[0.021767143284808846, 0.9941]\n"
          ],
          "name": "stdout"
        }
      ]
    },
    {
      "cell_type": "markdown",
      "metadata": {
        "id": "AbI5Ga7Sc529",
        "colab_type": "text"
      },
      "source": [
        "Printing the score of the model on the testing dataset. The first number is the value of the loss function. The latter is the test accuracy."
      ]
    },
    {
      "cell_type": "code",
      "metadata": {
        "id": "FNxbpnu4oxXQ",
        "colab_type": "code",
        "outputId": "40440f0c-7b22-45e6-f660-1537be7ced80",
        "colab": {
          "base_uri": "https://localhost:8080/",
          "height": 34
        }
      },
      "source": [
        "model.evaluate(X_train, Y_train, verbose=0)"
      ],
      "execution_count": 18,
      "outputs": [
        {
          "output_type": "execute_result",
          "data": {
            "text/plain": [
              "[0.013033069100294475, 0.9959833333333333]"
            ]
          },
          "metadata": {
            "tags": []
          },
          "execution_count": 18
        }
      ]
    },
    {
      "cell_type": "markdown",
      "metadata": {
        "id": "otCfVbNNdCsP",
        "colab_type": "text"
      },
      "source": [
        "Evaluating the model on the training dataset to see what the achieved training accuracy is."
      ]
    },
    {
      "cell_type": "code",
      "metadata": {
        "id": "OCWoJkwE9suh",
        "colab_type": "code",
        "colab": {}
      },
      "source": [
        "y_pred = model.predict(X_test)"
      ],
      "execution_count": 0,
      "outputs": []
    },
    {
      "cell_type": "markdown",
      "metadata": {
        "id": "LmxXIct7dIvc",
        "colab_type": "text"
      },
      "source": [
        "Computing the predicted classifications for the testing dataset"
      ]
    },
    {
      "cell_type": "code",
      "metadata": {
        "id": "Ym7iCFBm9uBs",
        "colab_type": "code",
        "outputId": "ba34c401-c0e1-4ab0-8e71-afdd87ea0328",
        "colab": {
          "base_uri": "https://localhost:8080/",
          "height": 336
        }
      },
      "source": [
        "print(y_pred[:9])\n",
        "print(y_test[:9])"
      ],
      "execution_count": 20,
      "outputs": [
        {
          "output_type": "stream",
          "text": [
            "[[8.8409619e-10 4.2325391e-07 4.8773938e-08 2.4092547e-08 4.5385285e-08\n",
            "  1.5100630e-10 1.1547233e-12 9.9999940e-01 2.9636851e-10 1.5345829e-07]\n",
            " [1.0642779e-06 4.6228783e-05 9.9994552e-01 1.7426057e-06 1.0561879e-06\n",
            "  1.3096253e-09 2.3275404e-06 1.4482034e-06 5.2869234e-07 4.5851878e-09]\n",
            " [7.1919000e-09 9.9999475e-01 1.5276734e-07 5.9848313e-09 1.5994168e-06\n",
            "  4.5432864e-07 4.7920042e-07 2.4325570e-06 5.3277248e-08 3.1452561e-08]\n",
            " [9.9999523e-01 8.5077216e-09 6.3753327e-09 3.1061702e-09 2.5723370e-09\n",
            "  2.6524294e-08 4.5019669e-06 7.9440721e-09 9.9236289e-08 1.3640411e-07]\n",
            " [5.8925330e-12 1.1664880e-09 1.2042820e-11 6.0287387e-12 9.9999702e-01\n",
            "  1.1707029e-09 9.1064329e-08 7.7464229e-10 3.1698857e-10 2.8120594e-06]\n",
            " [1.4060919e-08 9.9998832e-01 2.5009027e-07 5.0424696e-09 7.2221196e-06\n",
            "  1.2037296e-07 3.3457573e-07 3.5588462e-06 5.3614116e-08 1.7385608e-07]\n",
            " [3.7666248e-10 2.3490311e-04 6.0143158e-08 3.7560430e-10 9.9973792e-01\n",
            "  4.3391915e-07 1.4345753e-07 1.9746424e-06 8.2743627e-06 1.6212303e-05]\n",
            " [6.1205303e-09 1.4159433e-07 4.6147719e-08 1.2335945e-08 9.2324946e-05\n",
            "  3.6783879e-07 4.4588166e-10 9.2356061e-08 2.1470584e-07 9.9990678e-01]\n",
            " [8.0617901e-06 2.1499500e-09 4.4946383e-08 1.3668235e-07 2.8771980e-09\n",
            "  8.7398374e-01 1.2576516e-01 8.6610730e-10 2.4282209e-04 7.0002315e-08]]\n",
            "[7 2 1 0 4 1 4 9 5]\n"
          ],
          "name": "stdout"
        }
      ]
    },
    {
      "cell_type": "markdown",
      "metadata": {
        "id": "yXx-vpw7dPRd",
        "colab_type": "text"
      },
      "source": [
        "Comparing the labels computed by our model and that given in the dataset.\n",
        "\n",
        "Note that for the first element, the target label in the dataset is 11. The output by the model, is in the categorical form described earlier. One can see that first output peaks at index 8 which corresponds to the digit 7."
      ]
    },
    {
      "cell_type": "code",
      "metadata": {
        "id": "CT--y98_dr2T",
        "colab_type": "code",
        "colab": {}
      },
      "source": [
        "layer_dict = dict([(layer.name, layer) for layer in model.layers])"
      ],
      "execution_count": 0,
      "outputs": []
    },
    {
      "cell_type": "markdown",
      "metadata": {
        "id": "P_aFWrMHeGpC",
        "colab_type": "text"
      },
      "source": [
        "Copying the layers in a dict for visualization in the next step"
      ]
    },
    {
      "cell_type": "code",
      "metadata": {
        "id": "2GY4Upv4dsUR",
        "colab_type": "code",
        "colab": {}
      },
      "source": [
        "import numpy as np\n",
        "from matplotlib import pyplot as plt\n",
        "from keras import backend as K\n",
        "%matplotlib inline\n",
        "# util function to convert a tensor into a valid image\n",
        "def deprocess_image(x):\n",
        "    # normalize tensor: center on 0., ensure std is 0.1\n",
        "    x -= x.mean()\n",
        "    x /= (x.std() + 1e-5)\n",
        "    x *= 0.1\n",
        "\n",
        "    # clip to [0, 1]\n",
        "    x += 0.5\n",
        "    x = np.clip(x, 0, 1)\n",
        "\n",
        "    # convert to RGB array\n",
        "    x *= 255\n",
        "    #x = x.transpose((1, 2, 0))\n",
        "    x = np.clip(x, 0, 255).astype('uint8')\n",
        "    return x\n",
        "\n",
        "def vis_img_in_filter(img = np.array(X_train[2]).reshape((1, 28, 28, 1)).astype(np.float64), \n",
        "                      layer_name = 'conv2d_14'):\n",
        "    layer_output = layer_dict[layer_name].output\n",
        "    img_ascs = list()\n",
        "    for filter_index in range(layer_output.shape[3]):\n",
        "        # build a loss function that maximizes the activation\n",
        "        # of the nth filter of the layer considered\n",
        "        loss = K.mean(layer_output[:, :, :, filter_index])\n",
        "\n",
        "        # compute the gradient of the input picture wrt this loss\n",
        "        grads = K.gradients(loss, model.input)[0]\n",
        "\n",
        "        # normalization trick: we normalize the gradient\n",
        "        grads /= (K.sqrt(K.mean(K.square(grads))) + 1e-5)\n",
        "\n",
        "        # this function returns the loss and grads given the input picture\n",
        "        iterate = K.function([model.input], [loss, grads])\n",
        "\n",
        "        # step size for gradient ascent\n",
        "        step = 5.\n",
        "\n",
        "        img_asc = np.array(img)\n",
        "        # run gradient ascent for 20 steps\n",
        "        for i in range(20):\n",
        "            loss_value, grads_value = iterate([img_asc])\n",
        "            img_asc += grads_value * step\n",
        "\n",
        "        img_asc = img_asc[0]\n",
        "        img_ascs.append(deprocess_image(img_asc).reshape((28, 28)))\n",
        "        \n",
        "    if layer_output.shape[3] >= 35:\n",
        "        plot_x, plot_y = 6, 6\n",
        "    elif layer_output.shape[3] >= 23:\n",
        "        plot_x, plot_y = 4, 6\n",
        "    elif layer_output.shape[3] >= 11:\n",
        "        plot_x, plot_y = 2, 6\n",
        "    else:\n",
        "        plot_x, plot_y = 1, 2\n",
        "    fig, ax = plt.subplots(plot_x, plot_y, figsize = (12, 12))\n",
        "    ax[0, 0].imshow(img.reshape((28, 28)), cmap = 'gray')\n",
        "    ax[0, 0].set_title('Input image')\n",
        "    fig.suptitle('Input image and %s filters' % (layer_name,))\n",
        "    fig.tight_layout(pad = 0.3, rect = [0, 0, 0.9, 0.9])\n",
        "    for (x, y) in [(i, j) for i in range(plot_x) for j in range(plot_y)]:\n",
        "        if x == 0 and y == 0:\n",
        "            continue\n",
        "        ax[x, y].imshow(img_ascs[x * plot_y + y - 1], cmap = 'gray')\n",
        "        ax[x, y].set_title('filter %d' % (x * plot_y + y - 1))"
      ],
      "execution_count": 0,
      "outputs": []
    },
    {
      "cell_type": "markdown",
      "metadata": {
        "id": "9e-QiggGerDS",
        "colab_type": "text"
      },
      "source": [
        "Predefined function for visualizing how an image is processed by a particular layer in the network."
      ]
    },
    {
      "cell_type": "code",
      "metadata": {
        "id": "wRHK7kqZFcYI",
        "colab_type": "code",
        "outputId": "031a0e45-9ffa-45dd-886b-2e0d2c828d51",
        "colab": {
          "base_uri": "https://localhost:8080/",
          "height": 741
        }
      },
      "source": [
        "vis_img_in_filter(img = np.array(X_train[2]).reshape((1, 28, 28, 1)).astype(np.float64), layer_name = 'conv2d_7')"
      ],
      "execution_count": 23,
      "outputs": [
        {
          "output_type": "display_data",
          "data": {
            "image/png": "[encoded data removed]",
            "text/plain": [
              "<Figure size 864x864 with 12 Axes>"
            ]
          },
          "metadata": {
            "tags": []
          }
        }
      ]
    },
    {
      "cell_type": "markdown",
      "metadata": {
        "id": "m5pzvtnneymo",
        "colab_type": "text"
      },
      "source": [
        "Visualization of the 7th convolution layer ( 3x3x10x32 kernel ). One can see that the exact input image itself shows up in many kernels. This is surprising. I currently dont understand the significance of it"
      ]
    }
  ]
}