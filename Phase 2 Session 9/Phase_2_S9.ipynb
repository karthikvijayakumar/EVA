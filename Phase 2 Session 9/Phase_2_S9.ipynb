{
  "nbformat": 4,
  "nbformat_minor": 0,
  "metadata": {
    "colab": {
      "name": "Phase 2 S9.ipynb",
      "provenance": [],
      "collapsed_sections": [],
      "authorship_tag": "ABX9TyNlVZdOBaUS39PMrw+M0vi5",
      "include_colab_link": true
    },
    "kernelspec": {
      "name": "python3",
      "display_name": "Python 3"
    }
  },
  "cells": [
    {
      "cell_type": "markdown",
      "metadata": {
        "id": "view-in-github",
        "colab_type": "text"
      },
      "source": [
        "<a href=\"https://colab.research.google.com/github/karthikvijayakumar/EVA/blob/kvk_development/Phase%202%20Session%209/Phase_2_S9.ipynb\" target=\"_parent\"><img src=\"https://colab.research.google.com/assets/colab-badge.svg\" alt=\"Open In Colab\"/></a>"
      ]
    },
    {
      "cell_type": "code",
      "metadata": {
        "id": "F7FOcKd_CKCG",
        "colab_type": "code",
        "outputId": "a0906747-da3f-4f0e-9b4e-26e0fa6193a4",
        "colab": {
          "base_uri": "https://localhost:8080/",
          "height": 121
        }
      },
      "source": [
        "!pip install pybullet"
      ],
      "execution_count": 0,
      "outputs": [
        {
          "output_type": "stream",
          "text": [
            "Collecting pybullet\n",
            "\u001b[?25l  Downloading https://files.pythonhosted.org/packages/d8/ac/a422ab8d1c57ab3f43e573b5a5f532e6afd348d81308fe66a1ecb691548e/pybullet-2.7.1-cp36-cp36m-manylinux1_x86_64.whl (95.0MB)\n",
            "\u001b[K     |████████████████████████████████| 95.0MB 44kB/s \n",
            "\u001b[?25hInstalling collected packages: pybullet\n",
            "Successfully installed pybullet-2.7.1\n"
          ],
          "name": "stdout"
        }
      ]
    },
    {
      "cell_type": "code",
      "metadata": {
        "id": "7qyFodA1BbtQ",
        "colab_type": "code",
        "colab": {}
      },
      "source": [
        "import os\n",
        "import time\n",
        "import random\n",
        "import numpy as np\n",
        "import matplotlib.pyplot as plt\n",
        "import pybullet_envs\n",
        "import gym\n",
        "import torch\n",
        "import torch.nn as nn\n",
        "import torch.nn.functional as F\n",
        "from gym import wrappers\n",
        "from torch.autograd import Variable\n",
        "from collections import deque"
      ],
      "execution_count": 0,
      "outputs": []
    },
    {
      "cell_type": "markdown",
      "metadata": {
        "id": "zKVcQI10CqBt",
        "colab_type": "text"
      },
      "source": [
        "# Step 1\n",
        "\n",
        "# Define ReplayBuffer and initialize with a memory of 1e6"
      ]
    },
    {
      "cell_type": "code",
      "metadata": {
        "id": "QZniKbLoCEFv",
        "colab_type": "code",
        "colab": {}
      },
      "source": [
        "class ReplayBuffer(object):\n",
        "    def __init__(self, max_size = 1e6):\n",
        "        self.storage - []\n",
        "        self.max_size = max_size\n",
        "        self.ptr = 0\n",
        "    \n",
        "    def add(self, transition):\n",
        "        if len(self.storage) == self.max_size:\n",
        "            self.storage[int(self.ptr)] = transition\n",
        "            self.ptr = (self.ptr + 1) % self.max_size\n",
        "        else:\n",
        "            self.storage.append(transition)\n",
        "    \n",
        "    def sample(self, batch_size):\n",
        "        ind = np.random.randint(0, len(self.storage), batch_size)\n",
        "        batch_states, batch_next_states, batch_actions, batch_rewards, batch_dones = [],[],[],[],[]\n",
        "\n",
        "        for i in ind:\n",
        "            state, next_state, action, reward, done = self.storage[i]\n",
        "            batch_states.append(np.array(state, copy = False))\n",
        "            batch_next_states.append(np.array(next_states, copy=False))\n",
        "            batch_actions.append(np.array(batch_actions, copy=False))\n",
        "            batch_rewards.append(np.array(batch_rewards, copy=False))\n",
        "            batch_dones.append(np.array(done, copy=False))\n",
        "\n",
        "        return np.array(batch_states), np.array(batch_next_steps), np.array(batch_actions), np.array(batch_rewards).reshape(-1,1), np.array(batch_dones).reshape(-1,1)"
      ],
      "execution_count": 0,
      "outputs": []
    },
    {
      "cell_type": "markdown",
      "metadata": {
        "id": "WMk_V2bOYvnd",
        "colab_type": "text"
      },
      "source": [
        "# Define Actor model class"
      ]
    },
    {
      "cell_type": "code",
      "metadata": {
        "id": "qHDFoDeXGgJS",
        "colab_type": "code",
        "colab": {}
      },
      "source": [
        "class Actor(nn.Module):\n",
        "    def __init__(self, state_dims, action_dim, max_action):\n",
        "        super(Actor, self).__init__()\n",
        "        self.layer_1 = nn.Linear(state_dims, 400)\n",
        "        self.layer_2 = nn.Linear(400, 300)\n",
        "        self.layer_3 = nn.Linear(300, action_dim)\n",
        "        self.max_action = max_action\n",
        "    \n",
        "    def forward(self, x):\n",
        "        x = F.relu(self.layer_1(x))\n",
        "        x = F.relu(self.layer_2(x))\n",
        "        x = self.max_action*torch.tanh(self.layer_3(x))\n",
        "        return x"
      ],
      "execution_count": 0,
      "outputs": []
    },
    {
      "cell_type": "markdown",
      "metadata": {
        "id": "sJb1Tm4DY4te",
        "colab_type": "text"
      },
      "source": [
        "# Define Critic model class"
      ]
    },
    {
      "cell_type": "code",
      "metadata": {
        "id": "TMuvDWBhHW4-",
        "colab_type": "code",
        "colab": {}
      },
      "source": [
        "class Critic(nn.Module):\n",
        "    def __init__(self, state_dims, action_dims):\n",
        "\n",
        "        super(Critic, self).__init__()\n",
        "\n",
        "        # First critic network\n",
        "        self.layer_1 = nn.Linear(state_dims + action_dim, 400)\n",
        "        self.layer_2 = nn.Linear(400, 300)\n",
        "        self.layer_3 = nn.Linear(300, action_state)\n",
        "\n",
        "        # Second critic network\n",
        "        self.layer_4 = nn.Linear(state_dims + action_dim, 400)\n",
        "        self.layer_5 = nn.Linear(400, 300)\n",
        "        self.layer_6 = nn.Linear(300, action_state)\n",
        "\n",
        "    def forward(self, x, u):\n",
        "        xu = torch.cat( [x,u], 1) \n",
        "\n",
        "        # Forward propogation on the first critic\n",
        "        x1 = F.relu( self.layer_1(xu) )\n",
        "        x1 = F.relu( self.layer_2(x1) )\n",
        "        x1 = self.layer_3(x1)\n",
        "\n",
        "        # Forward propogation on the second critic\n",
        "        x2 = F.relu( self.layer_1(xu) )\n",
        "        x2 = F.relu( self.layer_2(x2) )\n",
        "        x2 = self.layer_3(x2)\n",
        "\n",
        "        return x1, x2\n",
        "\n",
        "    def Q1(self, x, u):\n",
        "        xu = torch.cat([x,u], 1)\n",
        "        x1 = F.relu(self.layer_1(xu))\n",
        "        x1 = F.relu(self.layer_2(x1))\n",
        "        x1 = self.layer_3(x1)\n",
        "\n",
        "        return x1"
      ],
      "execution_count": 0,
      "outputs": []
    },
    {
      "cell_type": "markdown",
      "metadata": {
        "id": "v1NW-GVpqW_U",
        "colab_type": "text"
      },
      "source": [
        "# T3D class"
      ]
    },
    {
      "cell_type": "code",
      "metadata": {
        "id": "VQdgXkIFqjVS",
        "colab_type": "code",
        "colab": {}
      },
      "source": [
        "class T3D(object):\n",
        "    def __init__(self, state_dims, action_dim, max_action):\n",
        "\n",
        "        self.actor = Actor(state_dims, action_dim, max_action).to(device)\n",
        "        self.actor_target = Actor(state_dims, action_dim, max_action).to(device)\n",
        "        self.actor_target.load_state_dict( self.actor.state_dict )\n",
        "        \n",
        "        # Initializing with model weights to keep them sane\n",
        "        self.actor_optimizer = torch.optim.Adam( self.actor.parameters() )\n",
        "\n",
        "        self.critic = Critic(state_dims, action_dim).to(device)\n",
        "        self.critic_target = Critic(state_dims, action_dim).to(device) \n",
        "        self.critic_target.load_state_dict( self.critic.state_dict )\n",
        "\n",
        "        # Initializing with model weights to keep them sane\n",
        "        self.critic_optimizer = torch.optim.Adam( self.actor.parameters() )\n",
        "\n",
        "        self.max_action = max_action\n",
        "    \n",
        "    def select_action(self, state):\n",
        "        state = torch.Tensor(state.reshape(1,-1)).to(device)\n",
        "        return self.actor(state).cpu().data.numpy().flatten()\n",
        "\n",
        "    def train(self, replay_buffer, iterations, batch_size = 100, discount = 0.99, tau = 0.005, policy_noise = 0.2, noise_clip = 0.5, policy_freq = 2 ):\n",
        "\n",
        "        for it in range(iterations):\n",
        "\n",
        "            batch_states, batch_next_states, batch_actions, batch_rewards, batch_dones = replay_buffer.sample(batch_size)\n",
        "\n",
        "            state = torch.Tensor(batch_states).to(device)\n",
        "            next_state = torch.Tensor(batch_next_states).to(device)\n",
        "            action = torch.Tensor(batch_action).to(device)\n",
        "            reward = torch.Tensor(batch_reward).to(device)\n",
        "            done = torch.Tensor(batch_done).to(device)\n",
        "        \n",
        "            # From the next state s', the Actor target plays the next actions a'\n",
        "            next_action - self.actor_target.forward(next_state)\n",
        "\n",
        "            # Add gassian noise to this next action a' and clamp it to the range of values supported by the environment\n",
        "\n",
        "            noise = torch.Tensor(batch_actions).data.normal_(0, policy_noise).to(device)\n",
        "            noise = noise.clamp(-noise_clip, noise_clip)\n",
        "            next_action = (next_action+noise).clamp(-self.max_action, self.max_action)\n",
        "        \n",
        "            #Get Q values from the 2 critics\n",
        "            target_Q1, target_Q2 = self.critic_target.forward(next_state, next_action)\n",
        "\n",
        "            #Get the minimum of the 2 Q values\n",
        "            target_Q = torch.min(target_Q1, target_Q2)\n",
        "            \n",
        "            #Compute new target value ( update only when episode is done )\n",
        "            target_Q = reward + ( (1-done)*discount*target_Q ).detach()\n",
        "\n",
        "            #Pass state and action to critic models\n",
        "            curent_Q1, current_Q2 = self.critic.forward(state, action)\n",
        "\n",
        "            critic_loss = F.mse_loss(current_Q1, target_Q) + F.mse_loss(current_Q2, target_Q)\n",
        "\n",
        "            #Backpropogate the critic loss and update the two critic models\n",
        "            self.critic_optimizer.zero_grad()\n",
        "            critic_loss.backward()\n",
        "            self.critic_optimizer.step()\n",
        "\n",
        "            # Once every two iterations update Actor model by performing gradient ascent on the output of the first critic model\n",
        "\n",
        "            if it % policy_freq == 0:\n",
        "                actor_loss = -( self.critic.Q1( state, self.actor(state) ).mean() )\n",
        "                self.actor_optimizer.zero_grad()\n",
        "                actor_loss.backward()\n",
        "                self.actor_optimizer.step()\n",
        "\n",
        "            for param, target_param in zip( self.actor.parameters(), self.actor_target.parameters() ):\n",
        "                target_param.data.copy_(tau * param.data + (1-tau)*target_param.data)\n",
        "            \n",
        "            for param, target_param in zip( self.critic.parameters(), self.critic_target.parameters() ):\n",
        "                target_param.data.copy_(tau * param.data + (1-tau)*target_param.data)"
      ],
      "execution_count": 0,
      "outputs": []
    }
  ]
}