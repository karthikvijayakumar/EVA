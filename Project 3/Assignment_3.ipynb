{
  "nbformat": 4,
  "nbformat_minor": 0,
  "metadata": {
    "colab": {
      "name": "Assignment 3.ipynb",
      "version": "0.3.2",
      "provenance": [],
      "collapsed_sections": [],
      "include_colab_link": true
    },
    "kernelspec": {
      "name": "python3",
      "display_name": "Python 3"
    },
    "accelerator": "GPU"
  },
  "cells": [
    {
      "cell_type": "markdown",
      "metadata": {
        "id": "view-in-github",
        "colab_type": "text"
      },
      "source": [
        "<a href=\"https://colab.research.google.com/github/karthikvijayakumar/EVA/blob/vijkar_development/Project%203/Assignment_3.ipynb\" target=\"_parent\"><img src=\"https://colab.research.google.com/assets/colab-badge.svg\" alt=\"Open In Colab\"/></a>"
      ]
    },
    {
      "cell_type": "markdown",
      "metadata": {
        "id": "aNyZv-Ec52ot",
        "colab_type": "text"
      },
      "source": [
        "# **Import Libraries and modules**"
      ]
    },
    {
      "cell_type": "code",
      "metadata": {
        "id": "3m3w1Cw49Zkt",
        "colab_type": "code",
        "outputId": "bc7bdab4-806d-4726-dcff-8ec11945cf60",
        "colab": {
          "base_uri": "https://localhost:8080/",
          "height": 34
        }
      },
      "source": [
        "# https://keras.io/\n",
        "!pip install -q keras\n",
        "import keras"
      ],
      "execution_count": 1,
      "outputs": [
        {
          "output_type": "stream",
          "text": [
            "Using TensorFlow backend.\n"
          ],
          "name": "stderr"
        }
      ]
    },
    {
      "cell_type": "markdown",
      "metadata": {
        "id": "W8TuvCMEI5bz",
        "colab_type": "text"
      },
      "source": [
        "Installing Keras and importing into current runtime environment"
      ]
    },
    {
      "cell_type": "code",
      "metadata": {
        "id": "Eso6UHE080D4",
        "colab_type": "code",
        "colab": {}
      },
      "source": [
        "import numpy as np\n",
        "\n",
        "from keras.models import Sequential\n",
        "from keras.layers import Dense, Dropout, Activation, Flatten, Add\n",
        "from keras.layers import Convolution2D, MaxPooling2D\n",
        "from keras.utils import np_utils\n",
        "\n",
        "from keras.datasets import mnist"
      ],
      "execution_count": 0,
      "outputs": []
    },
    {
      "cell_type": "markdown",
      "metadata": {
        "id": "Y0u5KVe7JBFn",
        "colab_type": "text"
      },
      "source": [
        "Importing libraries and functions required for the program"
      ]
    },
    {
      "cell_type": "markdown",
      "metadata": {
        "id": "zByEi95J86RD",
        "colab_type": "text"
      },
      "source": [
        "### Load pre-shuffled MNIST data into train and test sets"
      ]
    },
    {
      "cell_type": "code",
      "metadata": {
        "id": "7eRM0QWN83PV",
        "colab_type": "code",
        "colab": {}
      },
      "source": [
        "(X_train, y_train), (X_test, y_test) = mnist.load_data()"
      ],
      "execution_count": 0,
      "outputs": []
    },
    {
      "cell_type": "markdown",
      "metadata": {
        "id": "iGsh_aQ1J3OS",
        "colab_type": "text"
      },
      "source": [
        "Loading the MNIST dataset. Note that this dataset comes with a ready made train and test set."
      ]
    },
    {
      "cell_type": "code",
      "metadata": {
        "id": "4a4Be72j8-ZC",
        "colab_type": "code",
        "outputId": "55cfb012-c94a-48f2-904f-32636e0dd73c",
        "colab": {
          "base_uri": "https://localhost:8080/",
          "height": 302
        }
      },
      "source": [
        "print (X_train.shape)\n",
        "from matplotlib import pyplot as plt\n",
        "%matplotlib inline\n",
        "plt.imshow(X_train[0])"
      ],
      "execution_count": 4,
      "outputs": [
        {
          "output_type": "stream",
          "text": [
            "(60000, 28, 28)\n"
          ],
          "name": "stdout"
        },
        {
          "output_type": "execute_result",
          "data": {
            "text/plain": [
              "<matplotlib.image.AxesImage at 0x7f7bba5b47f0>"
            ]
          },
          "metadata": {
            "tags": []
          },
          "execution_count": 4
        },
        {
          "output_type": "display_data",
          "data": {
            "image/png": "[encoded data removed]",
            "text/plain": [
              "<Figure size 432x288 with 1 Axes>"
            ]
          },
          "metadata": {
            "tags": []
          }
        }
      ]
    },
    {
      "cell_type": "markdown",
      "metadata": {
        "id": "vlxccYctJ_be",
        "colab_type": "text"
      },
      "source": [
        "Visualizing the first training image"
      ]
    },
    {
      "cell_type": "code",
      "metadata": {
        "id": "dkmprriw9AnZ",
        "colab_type": "code",
        "colab": {}
      },
      "source": [
        "X_train = X_train.reshape(X_train.shape[0], 28, 28,1)\n",
        "X_test = X_test.reshape(X_test.shape[0], 28, 28,1)"
      ],
      "execution_count": 0,
      "outputs": []
    },
    {
      "cell_type": "markdown",
      "metadata": {
        "id": "l-vkWkDfKDDC",
        "colab_type": "text"
      },
      "source": [
        "Reshaping images from 28x28 to 28x28x1. This change needs to be done since convolution expects a 3 dimensional matrix."
      ]
    },
    {
      "cell_type": "code",
      "metadata": {
        "id": "X2m4YS4E9CRh",
        "colab_type": "code",
        "colab": {}
      },
      "source": [
        "X_train = X_train.astype('float32')\n",
        "X_test = X_test.astype('float32')\n",
        "X_train /= 255\n",
        "X_test /= 255"
      ],
      "execution_count": 0,
      "outputs": []
    },
    {
      "cell_type": "markdown",
      "metadata": {
        "id": "1Q_oAEhuKOqU",
        "colab_type": "text"
      },
      "source": [
        "Bringing the values of pixels to 0-255"
      ]
    },
    {
      "cell_type": "code",
      "metadata": {
        "id": "0Mn0vAYD9DvB",
        "colab_type": "code",
        "outputId": "0556ee93-4e3f-462a-d849-d9131779e766",
        "colab": {
          "base_uri": "https://localhost:8080/",
          "height": 34
        }
      },
      "source": [
        "y_train[:10]"
      ],
      "execution_count": 7,
      "outputs": [
        {
          "output_type": "execute_result",
          "data": {
            "text/plain": [
              "array([5, 0, 4, 1, 9, 2, 1, 3, 1, 4], dtype=uint8)"
            ]
          },
          "metadata": {
            "tags": []
          },
          "execution_count": 7
        }
      ]
    },
    {
      "cell_type": "markdown",
      "metadata": {
        "id": "jlCvUDE1KT9P",
        "colab_type": "text"
      },
      "source": [
        "Checking out the first ten labels on the training set. Note that these are numbers at this point. More importantly these numbers have an ordinality amongst them"
      ]
    },
    {
      "cell_type": "code",
      "metadata": {
        "id": "ZG8JiXR39FHC",
        "colab_type": "code",
        "colab": {}
      },
      "source": [
        "# Convert 1-dimensional class arrays to 10-dimensional class matrices\n",
        "Y_train = np_utils.to_categorical(y_train, 10)\n",
        "Y_test = np_utils.to_categorical(y_test, 10)"
      ],
      "execution_count": 0,
      "outputs": []
    },
    {
      "cell_type": "markdown",
      "metadata": {
        "id": "L29eBlgYPcRo",
        "colab_type": "text"
      },
      "source": [
        "Converting the numerical labels to categorical values. This is important since the classes 0-9 are just different classes and have no inherent order amongst them ( i.e 7 is not a lesser class than 8 in any way with respect to digit classification )"
      ]
    },
    {
      "cell_type": "code",
      "metadata": {
        "id": "fYlFRvKS9HMB",
        "colab_type": "code",
        "outputId": "8d833008-38e3-4c34-d560-6f63b630da73",
        "colab": {
          "base_uri": "https://localhost:8080/",
          "height": 185
        }
      },
      "source": [
        "Y_train[:10]"
      ],
      "execution_count": 9,
      "outputs": [
        {
          "output_type": "execute_result",
          "data": {
            "text/plain": [
              "array([[0., 0., 0., 0., 0., 1., 0., 0., 0., 0.],\n",
              "       [1., 0., 0., 0., 0., 0., 0., 0., 0., 0.],\n",
              "       [0., 0., 0., 0., 1., 0., 0., 0., 0., 0.],\n",
              "       [0., 1., 0., 0., 0., 0., 0., 0., 0., 0.],\n",
              "       [0., 0., 0., 0., 0., 0., 0., 0., 0., 1.],\n",
              "       [0., 0., 1., 0., 0., 0., 0., 0., 0., 0.],\n",
              "       [0., 1., 0., 0., 0., 0., 0., 0., 0., 0.],\n",
              "       [0., 0., 0., 1., 0., 0., 0., 0., 0., 0.],\n",
              "       [0., 1., 0., 0., 0., 0., 0., 0., 0., 0.],\n",
              "       [0., 0., 0., 0., 1., 0., 0., 0., 0., 0.]], dtype=float32)"
            ]
          },
          "metadata": {
            "tags": []
          },
          "execution_count": 9
        }
      ]
    },
    {
      "cell_type": "markdown",
      "metadata": {
        "id": "bJOar7DqPurN",
        "colab_type": "text"
      },
      "source": [
        "Seeing the categorical representation of the labels for the first ten training images"
      ]
    },
    {
      "cell_type": "markdown",
      "metadata": {
        "id": "mnqXRShAuP1g",
        "colab_type": "text"
      },
      "source": [
        "Original model from the excercise\n",
        "\n",
        "model = Sequential()\n",
        "\n",
        "model.add(Convolution2D(32, 3, 3, activation='relu', input_shape=(28,28,1))) # 3x3x1x32 kernel - 26x26x32 image\n",
        "<br>model.add(Convolution2D(10, 1, activation='relu')) # 1x1x32x10 kernel - 26x26x10 image\n",
        "<br>model.add(Convolution2D(10, 26)) # 26x26x10x1 kernel - 1x1x10 image\n",
        "<br>model.add(Flatten())\n",
        "<br>model.add(Activation('softmax'))"
      ]
    },
    {
      "cell_type": "code",
      "metadata": {
        "id": "osKqT73Q9JJB",
        "colab_type": "code",
        "outputId": "2b5f2460-b3a8-49d8-981b-862f0e7ccef1",
        "colab": {
          "base_uri": "https://localhost:8080/",
          "height": 138
        }
      },
      "source": [
        "from keras.layers import Activation, BatchNormalization, Dropout\n",
        "dropout_rate = 0.5\n",
        "\n",
        "\n",
        "model = Sequential()\n",
        "\n",
        "# Convolution block \n",
        "model.add(Convolution2D(16, (3, 3), activation='relu', input_shape=(28,28,1))) #3x3x1x16 kernel - 26x26x8 image - Receptive Field 3x3\n",
        "model.add(BatchNormalization())\n",
        "model.add(Convolution2D(32, (3, 3), activation='relu')) # 3x3x16x32 kernel - 24x24x32 image - Receptive Field 5x5\n",
        "model.add(BatchNormalization())\n",
        "\n",
        "# Transition block\n",
        "model.add(MaxPooling2D(pool_size=(2, 2))) # Max pooling layer - 12x12x32 image - Receptive Field 10x10\n",
        "model.add(Dropout(dropout_rate))\n",
        "model.add(Convolution2D(8, (1,1), activation='relu')) # 1x1x32x8 kernel - 12x12x8 image - Receptive Field 10x10\n",
        "model.add(BatchNormalization())\n",
        "\n",
        "#Convolution block\n",
        "model.add(Convolution2D(16, (3, 3), activation='relu')) # 3x3x8x16 kernel - 10x10x16 image - Receptive Field 12x12\n",
        "model.add(BatchNormalization())\n",
        "model.add(Convolution2D(32, (3, 3), activation='relu')) # 3x3x16x32 kernel - 8x8x32 image - Receptive Field 14x14\n",
        "model.add(BatchNormalization())\n",
        "\n",
        "#Transition block\n",
        "model.add(MaxPooling2D(pool_size=(2, 2))) # Max pooling layer - 4x4x32 image - Receptive Field 28x28\n",
        "model.add(Dropout(dropout_rate))\n",
        "model.add(Convolution2D(10, (1,1), activation='relu')) # 1x1x32x10 kernel - 4x4x10 image\n",
        "model.add(BatchNormalization())\n",
        "\n",
        "# Convolution block\n",
        "model.add(Convolution2D(64, (3, 3), activation='relu')) # 3x3x10x32 kernel - 2x2x10 image - Receptive Field 28x28\n",
        "model.add(BatchNormalization())\n",
        "model.add(Convolution2D(10, (2, 2))) # 3x3x64x10 kernel - 1x1x10 image - Receptive Field 28x28\n",
        "\n",
        "model.add(Flatten())\n",
        "model.add(Activation('softmax')) "
      ],
      "execution_count": 10,
      "outputs": [
        {
          "output_type": "stream",
          "text": [
            "WARNING:tensorflow:From /usr/local/lib/python3.6/dist-packages/tensorflow/python/framework/op_def_library.py:263: colocate_with (from tensorflow.python.framework.ops) is deprecated and will be removed in a future version.\n",
            "Instructions for updating:\n",
            "Colocations handled automatically by placer.\n",
            "WARNING:tensorflow:From /usr/local/lib/python3.6/dist-packages/keras/backend/tensorflow_backend.py:3445: calling dropout (from tensorflow.python.ops.nn_ops) with keep_prob is deprecated and will be removed in a future version.\n",
            "Instructions for updating:\n",
            "Please use `rate` instead of `keep_prob`. Rate should be set to `rate = 1 - keep_prob`.\n"
          ],
          "name": "stdout"
        }
      ]
    },
    {
      "cell_type": "markdown",
      "metadata": {
        "id": "P3TZOpxxQlVy",
        "colab_type": "text"
      },
      "source": [
        "Defining the model.\n",
        "\n",
        "The thought process behind the model architecture was to have a series of convolution and transition ( max pooling and 1x1 convolutions ) layers. The last convolution ( layer convd2d_8 ) doesnt have activation or batch normalization on/after it since the convolution is followed by a softmax function which performs the same function as activation.\n",
        "\n",
        "Batch normaliztion typically follows any layer with an activation. Hence after every convolution operation except the last one there is a batch normaliztion layer immediately following it. The objective of batch normalization is to ensure that the \n",
        "\n",
        "\n",
        "I stuck with 16 and 32 kernels in the convolution layers since using 64 kernels overshot the given 20k parameter limit ( 3x3x32x64 = 18432 ). I tried a variety of different architectures ( starting with 4 or 8 kernels without max pooling, 1x1 convolution etc. ). Either they had much poorer accuracy or didnt fit into the 20k parameter limit.\n",
        "\n",
        "Adding batch normalization and dropout significantly helped improve the training and validation accuracy. That seems understandable, since dropout is deisgned to reduce overfitting and batch normalization removes \n",
        "\n"
      ]
    },
    {
      "cell_type": "code",
      "metadata": {
        "id": "TzdAYg1k9K7Z",
        "colab_type": "code",
        "outputId": "5c29d24a-6e8b-4a8e-f421-5f988f430b25",
        "colab": {
          "base_uri": "https://localhost:8080/",
          "height": 840
        }
      },
      "source": [
        "model.summary()"
      ],
      "execution_count": 11,
      "outputs": [
        {
          "output_type": "stream",
          "text": [
            "_________________________________________________________________\n",
            "Layer (type)                 Output Shape              Param #   \n",
            "=================================================================\n",
            "conv2d_1 (Conv2D)            (None, 26, 26, 16)        160       \n",
            "_________________________________________________________________\n",
            "batch_normalization_1 (Batch (None, 26, 26, 16)        64        \n",
            "_________________________________________________________________\n",
            "conv2d_2 (Conv2D)            (None, 24, 24, 32)        4640      \n",
            "_________________________________________________________________\n",
            "batch_normalization_2 (Batch (None, 24, 24, 32)        128       \n",
            "_________________________________________________________________\n",
            "max_pooling2d_1 (MaxPooling2 (None, 12, 12, 32)        0         \n",
            "_________________________________________________________________\n",
            "dropout_1 (Dropout)          (None, 12, 12, 32)        0         \n",
            "_________________________________________________________________\n",
            "conv2d_3 (Conv2D)            (None, 12, 12, 8)         264       \n",
            "_________________________________________________________________\n",
            "batch_normalization_3 (Batch (None, 12, 12, 8)         32        \n",
            "_________________________________________________________________\n",
            "conv2d_4 (Conv2D)            (None, 10, 10, 16)        1168      \n",
            "_________________________________________________________________\n",
            "batch_normalization_4 (Batch (None, 10, 10, 16)        64        \n",
            "_________________________________________________________________\n",
            "conv2d_5 (Conv2D)            (None, 8, 8, 32)          4640      \n",
            "_________________________________________________________________\n",
            "batch_normalization_5 (Batch (None, 8, 8, 32)          128       \n",
            "_________________________________________________________________\n",
            "max_pooling2d_2 (MaxPooling2 (None, 4, 4, 32)          0         \n",
            "_________________________________________________________________\n",
            "dropout_2 (Dropout)          (None, 4, 4, 32)          0         \n",
            "_________________________________________________________________\n",
            "conv2d_6 (Conv2D)            (None, 4, 4, 10)          330       \n",
            "_________________________________________________________________\n",
            "batch_normalization_6 (Batch (None, 4, 4, 10)          40        \n",
            "_________________________________________________________________\n",
            "conv2d_7 (Conv2D)            (None, 2, 2, 64)          5824      \n",
            "_________________________________________________________________\n",
            "batch_normalization_7 (Batch (None, 2, 2, 64)          256       \n",
            "_________________________________________________________________\n",
            "conv2d_8 (Conv2D)            (None, 1, 1, 10)          2570      \n",
            "_________________________________________________________________\n",
            "flatten_1 (Flatten)          (None, 10)                0         \n",
            "_________________________________________________________________\n",
            "activation_1 (Activation)    (None, 10)                0         \n",
            "=================================================================\n",
            "Total params: 20,308\n",
            "Trainable params: 19,952\n",
            "Non-trainable params: 356\n",
            "_________________________________________________________________\n"
          ],
          "name": "stdout"
        }
      ]
    },
    {
      "cell_type": "code",
      "metadata": {
        "id": "Zp6SuGrL9M3h",
        "colab_type": "code",
        "colab": {}
      },
      "source": [
        "model.compile(loss='categorical_crossentropy',\n",
        "             optimizer='adam',\n",
        "             metrics=['accuracy'])"
      ],
      "execution_count": 0,
      "outputs": []
    },
    {
      "cell_type": "markdown",
      "metadata": {
        "id": "Y7x49pENXqWc",
        "colab_type": "text"
      },
      "source": [
        "Compiling the model for training"
      ]
    },
    {
      "cell_type": "code",
      "metadata": {
        "id": "4xWoKhPY9Of5",
        "colab_type": "code",
        "outputId": "5d978be3-6843-4e34-a0df-40dbecb7d003",
        "colab": {
          "base_uri": "https://localhost:8080/",
          "height": 2137
        }
      },
      "source": [
        "from keras.callbacks import ModelCheckpoint\n",
        "filepath=\"weights.best.hdf5\"\n",
        "checkpoint = ModelCheckpoint(filepath, monitor='val_acc', verbose=1, save_best_only=True, mode='max')\n",
        "callbacks_list = [checkpoint]\n",
        "\n",
        "model.fit(X_train, Y_train, batch_size=32, epochs=30, verbose=1, validation_data=(X_test, Y_test), callbacks = callbacks_list)"
      ],
      "execution_count": 13,
      "outputs": [
        {
          "output_type": "stream",
          "text": [
            "WARNING:tensorflow:From /usr/local/lib/python3.6/dist-packages/tensorflow/python/ops/math_ops.py:3066: to_int32 (from tensorflow.python.ops.math_ops) is deprecated and will be removed in a future version.\n",
            "Instructions for updating:\n",
            "Use tf.cast instead.\n",
            "Train on 60000 samples, validate on 10000 samples\n",
            "Epoch 1/30\n",
            "60000/60000 [==============================] - 39s 648us/step - loss: 0.3140 - acc: 0.9006 - val_loss: 0.0616 - val_acc: 0.9806\n",
            "\n",
            "Epoch 00001: val_acc improved from -inf to 0.98060, saving model to weights.best.hdf5\n",
            "Epoch 2/30\n",
            "60000/60000 [==============================] - 37s 616us/step - loss: 0.0938 - acc: 0.9699 - val_loss: 0.0413 - val_acc: 0.9869\n",
            "\n",
            "Epoch 00002: val_acc improved from 0.98060 to 0.98690, saving model to weights.best.hdf5\n",
            "Epoch 3/30\n",
            "60000/60000 [==============================] - 37s 615us/step - loss: 0.0746 - acc: 0.9768 - val_loss: 0.0375 - val_acc: 0.9884\n",
            "\n",
            "Epoch 00003: val_acc improved from 0.98690 to 0.98840, saving model to weights.best.hdf5\n",
            "Epoch 4/30\n",
            "60000/60000 [==============================] - 36s 608us/step - loss: 0.0629 - acc: 0.9805 - val_loss: 0.0367 - val_acc: 0.9878\n",
            "\n",
            "Epoch 00004: val_acc did not improve from 0.98840\n",
            "Epoch 5/30\n",
            "60000/60000 [==============================] - 37s 614us/step - loss: 0.0538 - acc: 0.9831 - val_loss: 0.0277 - val_acc: 0.9915\n",
            "\n",
            "Epoch 00005: val_acc improved from 0.98840 to 0.99150, saving model to weights.best.hdf5\n",
            "Epoch 6/30\n",
            "60000/60000 [==============================] - 39s 644us/step - loss: 0.0503 - acc: 0.9843 - val_loss: 0.0258 - val_acc: 0.9919\n",
            "\n",
            "Epoch 00006: val_acc improved from 0.99150 to 0.99190, saving model to weights.best.hdf5\n",
            "Epoch 7/30\n",
            "60000/60000 [==============================] - 37s 622us/step - loss: 0.0465 - acc: 0.9858 - val_loss: 0.0282 - val_acc: 0.9910\n",
            "\n",
            "Epoch 00007: val_acc did not improve from 0.99190\n",
            "Epoch 8/30\n",
            "60000/60000 [==============================] - 37s 624us/step - loss: 0.0419 - acc: 0.9865 - val_loss: 0.0263 - val_acc: 0.9913\n",
            "\n",
            "Epoch 00008: val_acc did not improve from 0.99190\n",
            "Epoch 9/30\n",
            "60000/60000 [==============================] - 37s 617us/step - loss: 0.0395 - acc: 0.9870 - val_loss: 0.0233 - val_acc: 0.9927\n",
            "\n",
            "Epoch 00009: val_acc improved from 0.99190 to 0.99270, saving model to weights.best.hdf5\n",
            "Epoch 10/30\n",
            "60000/60000 [==============================] - 38s 631us/step - loss: 0.0369 - acc: 0.9885 - val_loss: 0.0231 - val_acc: 0.9922\n",
            "\n",
            "Epoch 00010: val_acc did not improve from 0.99270\n",
            "Epoch 11/30\n",
            "60000/60000 [==============================] - 38s 626us/step - loss: 0.0370 - acc: 0.9882 - val_loss: 0.0256 - val_acc: 0.9921\n",
            "\n",
            "Epoch 00011: val_acc did not improve from 0.99270\n",
            "Epoch 12/30\n",
            "60000/60000 [==============================] - 38s 636us/step - loss: 0.0340 - acc: 0.9891 - val_loss: 0.0246 - val_acc: 0.9929\n",
            "\n",
            "Epoch 00012: val_acc improved from 0.99270 to 0.99290, saving model to weights.best.hdf5\n",
            "Epoch 13/30\n",
            "60000/60000 [==============================] - 38s 635us/step - loss: 0.0324 - acc: 0.9895 - val_loss: 0.0326 - val_acc: 0.9899\n",
            "\n",
            "Epoch 00013: val_acc did not improve from 0.99290\n",
            "Epoch 14/30\n",
            "60000/60000 [==============================] - 37s 625us/step - loss: 0.0340 - acc: 0.9893 - val_loss: 0.0234 - val_acc: 0.9933\n",
            "\n",
            "Epoch 00014: val_acc improved from 0.99290 to 0.99330, saving model to weights.best.hdf5\n",
            "Epoch 15/30\n",
            "60000/60000 [==============================] - 38s 634us/step - loss: 0.0300 - acc: 0.9902 - val_loss: 0.0226 - val_acc: 0.9928\n",
            "\n",
            "Epoch 00015: val_acc did not improve from 0.99330\n",
            "Epoch 16/30\n",
            "60000/60000 [==============================] - 38s 632us/step - loss: 0.0301 - acc: 0.9901 - val_loss: 0.0226 - val_acc: 0.9930\n",
            "\n",
            "Epoch 00016: val_acc did not improve from 0.99330\n",
            "Epoch 17/30\n",
            "60000/60000 [==============================] - 38s 629us/step - loss: 0.0274 - acc: 0.9909 - val_loss: 0.0238 - val_acc: 0.9925\n",
            "\n",
            "Epoch 00017: val_acc did not improve from 0.99330\n",
            "Epoch 18/30\n",
            "60000/60000 [==============================] - 38s 627us/step - loss: 0.0283 - acc: 0.9909 - val_loss: 0.0233 - val_acc: 0.9933\n",
            "\n",
            "Epoch 00018: val_acc did not improve from 0.99330\n",
            "Epoch 19/30\n",
            "60000/60000 [==============================] - 38s 634us/step - loss: 0.0271 - acc: 0.9911 - val_loss: 0.0217 - val_acc: 0.9934\n",
            "\n",
            "Epoch 00019: val_acc improved from 0.99330 to 0.99340, saving model to weights.best.hdf5\n",
            "Epoch 20/30\n",
            "60000/60000 [==============================] - 38s 637us/step - loss: 0.0272 - acc: 0.9910 - val_loss: 0.0235 - val_acc: 0.9937\n",
            "\n",
            "Epoch 00020: val_acc improved from 0.99340 to 0.99370, saving model to weights.best.hdf5\n",
            "Epoch 21/30\n",
            "60000/60000 [==============================] - 37s 624us/step - loss: 0.0280 - acc: 0.9909 - val_loss: 0.0222 - val_acc: 0.9934\n",
            "\n",
            "Epoch 00021: val_acc did not improve from 0.99370\n",
            "Epoch 22/30\n",
            "60000/60000 [==============================] - 37s 617us/step - loss: 0.0240 - acc: 0.9919 - val_loss: 0.0239 - val_acc: 0.9926\n",
            "\n",
            "Epoch 00022: val_acc did not improve from 0.99370\n",
            "Epoch 23/30\n",
            "60000/60000 [==============================] - 37s 621us/step - loss: 0.0251 - acc: 0.9915 - val_loss: 0.0213 - val_acc: 0.9934\n",
            "\n",
            "Epoch 00023: val_acc did not improve from 0.99370\n",
            "Epoch 24/30\n",
            "60000/60000 [==============================] - 37s 618us/step - loss: 0.0245 - acc: 0.9918 - val_loss: 0.0211 - val_acc: 0.9938\n",
            "\n",
            "Epoch 00024: val_acc improved from 0.99370 to 0.99380, saving model to weights.best.hdf5\n",
            "Epoch 25/30\n",
            "60000/60000 [==============================] - 38s 627us/step - loss: 0.0239 - acc: 0.9917 - val_loss: 0.0208 - val_acc: 0.9937\n",
            "\n",
            "Epoch 00025: val_acc did not improve from 0.99380\n",
            "Epoch 26/30\n",
            "60000/60000 [==============================] - 38s 627us/step - loss: 0.0259 - acc: 0.9912 - val_loss: 0.0193 - val_acc: 0.9940\n",
            "\n",
            "Epoch 00026: val_acc improved from 0.99380 to 0.99400, saving model to weights.best.hdf5\n",
            "Epoch 27/30\n",
            "60000/60000 [==============================] - 38s 627us/step - loss: 0.0232 - acc: 0.9928 - val_loss: 0.0220 - val_acc: 0.9938\n",
            "\n",
            "Epoch 00027: val_acc did not improve from 0.99400\n",
            "Epoch 28/30\n",
            "60000/60000 [==============================] - 37s 623us/step - loss: 0.0222 - acc: 0.9923 - val_loss: 0.0216 - val_acc: 0.9938\n",
            "\n",
            "Epoch 00028: val_acc did not improve from 0.99400\n",
            "Epoch 29/30\n",
            "60000/60000 [==============================] - 38s 631us/step - loss: 0.0234 - acc: 0.9924 - val_loss: 0.0241 - val_acc: 0.9925\n",
            "\n",
            "Epoch 00029: val_acc did not improve from 0.99400\n",
            "Epoch 30/30\n",
            "60000/60000 [==============================] - 37s 624us/step - loss: 0.0232 - acc: 0.9924 - val_loss: 0.0190 - val_acc: 0.9939\n",
            "\n",
            "Epoch 00030: val_acc did not improve from 0.99400\n"
          ],
          "name": "stdout"
        },
        {
          "output_type": "execute_result",
          "data": {
            "text/plain": [
              "<keras.callbacks.History at 0x7f7b9ec08400>"
            ]
          },
          "metadata": {
            "tags": []
          },
          "execution_count": 13
        }
      ]
    },
    {
      "cell_type": "markdown",
      "metadata": {
        "id": "7TyQdemDXvDR",
        "colab_type": "text"
      },
      "source": [
        "Fitting the model through gradient descent and tracking the validation accuracy through the training process. The training process itself only focusses on minimizing the loss function. We keep track of the training and validation loss and store the model with the highest validation accuracy after each epoch.\n",
        "\n",
        "After 30 epochs, the max validation accuracy reached was 99.4%."
      ]
    },
    {
      "cell_type": "code",
      "metadata": {
        "id": "p8F0TvhCla86",
        "colab_type": "code",
        "colab": {}
      },
      "source": [
        "model.load_weights(\"weights.best.hdf5\")\n",
        "model.compile(loss='categorical_crossentropy', optimizer='adam', metrics=['accuracy'])"
      ],
      "execution_count": 0,
      "outputs": []
    },
    {
      "cell_type": "markdown",
      "metadata": {
        "id": "VddwEnLbcr96",
        "colab_type": "text"
      },
      "source": [
        "Loading the best model weights ( according to validation accuracty ) stored during the training phase"
      ]
    },
    {
      "cell_type": "code",
      "metadata": {
        "id": "AtsH-lLk-eLb",
        "colab_type": "code",
        "colab": {}
      },
      "source": [
        "score = model.evaluate(X_test, Y_test, verbose=0)"
      ],
      "execution_count": 0,
      "outputs": []
    },
    {
      "cell_type": "markdown",
      "metadata": {
        "id": "-mwPViLSc1vy",
        "colab_type": "text"
      },
      "source": [
        "Evaluate the model on the testing dataset"
      ]
    },
    {
      "cell_type": "code",
      "metadata": {
        "id": "mkX8JMv79q9r",
        "colab_type": "code",
        "colab": {
          "base_uri": "https://localhost:8080/",
          "height": 34
        },
        "outputId": "e044128f-d5b7-46cf-f7e4-3bbb09e73429"
      },
      "source": [
        "print(score)"
      ],
      "execution_count": 16,
      "outputs": [
        {
          "output_type": "stream",
          "text": [
            "[0.019281361722408838, 0.994]\n"
          ],
          "name": "stdout"
        }
      ]
    },
    {
      "cell_type": "markdown",
      "metadata": {
        "id": "AbI5Ga7Sc529",
        "colab_type": "text"
      },
      "source": [
        "Printing the score of the model on the testing dataset. The first number is the value of the loss function. The latter is the test accuracy."
      ]
    },
    {
      "cell_type": "code",
      "metadata": {
        "id": "FNxbpnu4oxXQ",
        "colab_type": "code",
        "colab": {
          "base_uri": "https://localhost:8080/",
          "height": 34
        },
        "outputId": "ebbecdfa-74d4-4cea-b6fc-b0116a1cca89"
      },
      "source": [
        "model.evaluate(X_train, Y_train, verbose=0)"
      ],
      "execution_count": 17,
      "outputs": [
        {
          "output_type": "execute_result",
          "data": {
            "text/plain": [
              "[0.007934711249030564, 0.99755]"
            ]
          },
          "metadata": {
            "tags": []
          },
          "execution_count": 17
        }
      ]
    },
    {
      "cell_type": "markdown",
      "metadata": {
        "id": "otCfVbNNdCsP",
        "colab_type": "text"
      },
      "source": [
        "Evaluating the model on the training dataset to see what the achieved training accuracy is."
      ]
    },
    {
      "cell_type": "code",
      "metadata": {
        "id": "OCWoJkwE9suh",
        "colab_type": "code",
        "colab": {}
      },
      "source": [
        "y_pred = model.predict(X_test)"
      ],
      "execution_count": 0,
      "outputs": []
    },
    {
      "cell_type": "markdown",
      "metadata": {
        "id": "LmxXIct7dIvc",
        "colab_type": "text"
      },
      "source": [
        "Computing the predicted classifications for the testing dataset"
      ]
    },
    {
      "cell_type": "code",
      "metadata": {
        "id": "Ym7iCFBm9uBs",
        "colab_type": "code",
        "colab": {
          "base_uri": "https://localhost:8080/",
          "height": 336
        },
        "outputId": "b14f847c-1903-40d5-f1b1-7b6e99dbd20f"
      },
      "source": [
        "print(y_pred[:9])\n",
        "print(y_test[:9])"
      ],
      "execution_count": 19,
      "outputs": [
        {
          "output_type": "stream",
          "text": [
            "[[4.7855537e-09 3.9689020e-08 2.8905976e-08 9.8552873e-09 1.0986057e-06\n",
            "  3.3330900e-09 1.8957634e-10 9.9999738e-01 4.0432168e-11 1.4742640e-06]\n",
            " [4.2902593e-10 4.3635062e-08 1.0000000e+00 8.8181812e-10 9.8478578e-12\n",
            "  7.6016884e-14 1.0354593e-08 7.2602639e-11 5.6380060e-11 4.9962326e-12]\n",
            " [5.7713370e-12 9.9999928e-01 8.6648901e-09 8.1657670e-10 1.6370807e-09\n",
            "  2.8449096e-08 7.8598239e-09 7.0718960e-07 2.2707729e-09 5.1805698e-09]\n",
            " [9.9991798e-01 2.7395917e-11 8.2094365e-10 7.8188485e-08 3.0713588e-11\n",
            "  2.0272178e-07 8.1636688e-05 2.7902143e-09 5.4793272e-09 5.3544230e-08]\n",
            " [1.8903934e-11 7.2898054e-10 1.5144568e-09 8.2642149e-10 9.9999177e-01\n",
            "  3.0949472e-09 1.6463402e-09 1.0251080e-09 7.0949149e-08 8.1614862e-06]\n",
            " [3.5077744e-12 9.9999821e-01 1.8687081e-07 1.9395848e-11 1.1020138e-08\n",
            "  3.3700528e-10 7.6442042e-10 1.5950523e-06 2.0188642e-09 9.0239300e-09]\n",
            " [1.0402926e-10 1.3181501e-07 6.4809637e-07 7.7076017e-09 9.9874783e-01\n",
            "  2.5517841e-07 5.4967431e-10 2.4028525e-06 6.9410358e-05 1.1793093e-03]\n",
            " [7.9408763e-12 5.2760951e-10 1.9940165e-09 1.0793568e-07 7.9199388e-05\n",
            "  5.0057938e-08 4.5421102e-12 1.9056323e-08 8.0209766e-08 9.9992049e-01]\n",
            " [5.8188647e-07 3.2261118e-09 4.6327858e-10 1.6859303e-09 1.1598051e-09\n",
            "  9.9845088e-01 1.4881882e-03 4.3379962e-09 2.9109995e-05 3.1286745e-05]]\n",
            "[7 2 1 0 4 1 4 9 5]\n"
          ],
          "name": "stdout"
        }
      ]
    },
    {
      "cell_type": "markdown",
      "metadata": {
        "id": "yXx-vpw7dPRd",
        "colab_type": "text"
      },
      "source": [
        "Comparing the labels computed by our model and that given in the dataset.\n",
        "\n",
        "Note that for the first element, the target label in the dataset is 11. The output by the model, is in the categorical form described earlier. One can see that first output peaks at index 8 which corresponds to the digit 7."
      ]
    },
    {
      "cell_type": "code",
      "metadata": {
        "id": "CT--y98_dr2T",
        "colab_type": "code",
        "colab": {}
      },
      "source": [
        "layer_dict = dict([(layer.name, layer) for layer in model.layers])"
      ],
      "execution_count": 0,
      "outputs": []
    },
    {
      "cell_type": "markdown",
      "metadata": {
        "id": "P_aFWrMHeGpC",
        "colab_type": "text"
      },
      "source": [
        "Copying the layers in a dict for visualization in the next step"
      ]
    },
    {
      "cell_type": "code",
      "metadata": {
        "id": "2GY4Upv4dsUR",
        "colab_type": "code",
        "colab": {}
      },
      "source": [
        "import numpy as np\n",
        "from matplotlib import pyplot as plt\n",
        "from keras import backend as K\n",
        "%matplotlib inline\n",
        "# util function to convert a tensor into a valid image\n",
        "def deprocess_image(x):\n",
        "    # normalize tensor: center on 0., ensure std is 0.1\n",
        "    x -= x.mean()\n",
        "    x /= (x.std() + 1e-5)\n",
        "    x *= 0.1\n",
        "\n",
        "    # clip to [0, 1]\n",
        "    x += 0.5\n",
        "    x = np.clip(x, 0, 1)\n",
        "\n",
        "    # convert to RGB array\n",
        "    x *= 255\n",
        "    #x = x.transpose((1, 2, 0))\n",
        "    x = np.clip(x, 0, 255).astype('uint8')\n",
        "    return x\n",
        "\n",
        "def vis_img_in_filter(img = np.array(X_train[2]).reshape((1, 28, 28, 1)).astype(np.float64), \n",
        "                      layer_name = 'conv2d_14'):\n",
        "    layer_output = layer_dict[layer_name].output\n",
        "    img_ascs = list()\n",
        "    for filter_index in range(layer_output.shape[3]):\n",
        "        # build a loss function that maximizes the activation\n",
        "        # of the nth filter of the layer considered\n",
        "        loss = K.mean(layer_output[:, :, :, filter_index])\n",
        "\n",
        "        # compute the gradient of the input picture wrt this loss\n",
        "        grads = K.gradients(loss, model.input)[0]\n",
        "\n",
        "        # normalization trick: we normalize the gradient\n",
        "        grads /= (K.sqrt(K.mean(K.square(grads))) + 1e-5)\n",
        "\n",
        "        # this function returns the loss and grads given the input picture\n",
        "        iterate = K.function([model.input], [loss, grads])\n",
        "\n",
        "        # step size for gradient ascent\n",
        "        step = 5.\n",
        "\n",
        "        img_asc = np.array(img)\n",
        "        # run gradient ascent for 20 steps\n",
        "        for i in range(20):\n",
        "            loss_value, grads_value = iterate([img_asc])\n",
        "            img_asc += grads_value * step\n",
        "\n",
        "        img_asc = img_asc[0]\n",
        "        img_ascs.append(deprocess_image(img_asc).reshape((28, 28)))\n",
        "        \n",
        "    if layer_output.shape[3] >= 35:\n",
        "        plot_x, plot_y = 6, 6\n",
        "    elif layer_output.shape[3] >= 23:\n",
        "        plot_x, plot_y = 4, 6\n",
        "    elif layer_output.shape[3] >= 11:\n",
        "        plot_x, plot_y = 2, 6\n",
        "    else:\n",
        "        plot_x, plot_y = 1, 2\n",
        "    fig, ax = plt.subplots(plot_x, plot_y, figsize = (12, 12))\n",
        "    ax[0, 0].imshow(img.reshape((28, 28)), cmap = 'gray')\n",
        "    ax[0, 0].set_title('Input image')\n",
        "    fig.suptitle('Input image and %s filters' % (layer_name,))\n",
        "    fig.tight_layout(pad = 0.3, rect = [0, 0, 0.9, 0.9])\n",
        "    for (x, y) in [(i, j) for i in range(plot_x) for j in range(plot_y)]:\n",
        "        if x == 0 and y == 0:\n",
        "            continue\n",
        "        ax[x, y].imshow(img_ascs[x * plot_y + y - 1], cmap = 'gray')\n",
        "        ax[x, y].set_title('filter %d' % (x * plot_y + y - 1))"
      ],
      "execution_count": 0,
      "outputs": []
    },
    {
      "cell_type": "markdown",
      "metadata": {
        "id": "9e-QiggGerDS",
        "colab_type": "text"
      },
      "source": [
        "Predefined function for visualizing how an image is processed by a particular layer in the network."
      ]
    },
    {
      "cell_type": "code",
      "metadata": {
        "id": "wRHK7kqZFcYI",
        "colab_type": "code",
        "colab": {
          "base_uri": "https://localhost:8080/",
          "height": 868
        },
        "outputId": "8f3075df-1b4e-4dff-feba-0e163cb5807f"
      },
      "source": [
        "vis_img_in_filter(img = np.array(X_train[2]).reshape((1, 28, 28, 1)).astype(np.float64), layer_name = 'conv2d_7')"
      ],
      "execution_count": 23,
      "outputs": [
        {
          "output_type": "display_data",
          "data": {
            "image/png": "[encoded data removed]",
            "text/plain": [
              "<Figure size 864x864 with 36 Axes>"
            ]
          },
          "metadata": {
            "tags": []
          }
        }
      ]
    },
    {
      "cell_type": "markdown",
      "metadata": {
        "id": "m5pzvtnneymo",
        "colab_type": "text"
      },
      "source": [
        "Visualization of the 7th convolution layer ( 3x3x10x32 kernel ). One can see that the exact input image itself shows up in many kernels. This is surprising. I currently dont understand the significance of it"
      ]
    }
  ]
}